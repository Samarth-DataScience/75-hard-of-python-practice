{
  "nbformat": 4,
  "nbformat_minor": 0,
  "metadata": {
    "colab": {
      "provenance": [],
      "authorship_tag": "ABX9TyO01AbBm0la3jvH3gh4bxap",
      "include_colab_link": true
    },
    "kernelspec": {
      "name": "python3",
      "display_name": "Python 3"
    },
    "language_info": {
      "name": "python"
    }
  },
  "cells": [
    {
      "cell_type": "markdown",
      "metadata": {
        "id": "view-in-github",
        "colab_type": "text"
      },
      "source": [
        "<a href=\"https://colab.research.google.com/github/Samarth-DataScience/75-hard-of-python-practice/blob/main/Day_19_python_%5Blist%5D_(tuple)_%7Bset%7D_%7Bdictionary%7D_practice_set.ipynb\" target=\"_parent\"><img src=\"https://colab.research.google.com/assets/colab-badge.svg\" alt=\"Open In Colab\"/></a>"
      ]
    },
    {
      "cell_type": "markdown",
      "source": [
        "Set of Python programming questions that cover various aspects of lists, tuples, sets, and dictionaries. Here they are:\n",
        "\n",
        "1. Create a list with elements [1, 2, 3] and add the element 4 to it.\n",
        "2. Reverse the order of elements in the list: [10, 20, 30].\n",
        "3. Remove the element 5 from the list [5, 10, 15].\n",
        "4. Access the element 8 from the list [3, 6, 9, 12, 15].\n",
        "5. Check if the element 7 is present in the list [4, 7, 10].\n",
        "6. Create a tuple with elements (1, 2, 3) and concatenate it with another tuple (4, 5, 6).\n",
        "7. Access the element 4 from the tuple (1, 2, 3, (4, 5)).\n",
        "8. Convert the tuple (2, 4, 6) to a list.\n",
        "9. Create a set with elements {1, 2, 3, 4} and add the element 5 to it.\n",
        "10. Remove the element 3 from the set {1, 2, 3, 4}.\n",
        "11. Check if the set {5, 6} is a subset of {1, 2, 3, 4, 5, 6}.\n",
        "12. Find the intersection of sets {1, 2, 3} and {2, 3, 4}.\n",
        "13. Create a dictionary with keys 'name', 'age', and 'city' and values 'John', 25, and 'New York', respectively.\n",
        "14. Access the value associated with the key 'age' in the dictionary {'name': 'John', 'age': 25, 'city': 'New York'}.\n",
        "15. Add a new key-value pair 'gender': 'Male' to the dictionary {'name': 'John', 'age': 25, 'city': 'New York'}.\n",
        "16. Remove the key-value pair with the key 'city' from the dictionary {'name': 'John', 'age': 25, 'city': 'New York'}.\n",
        "17. Check if the key 'country' is present in the dictionary {'name': 'John', 'age': 25, 'city': 'New York'}.\n",
        "18. Create a list of squares of numbers from 1 to 5 using a list comprehension.\n",
        "19. Create a tuple with the first 3 multiples of 4 using a tuple comprehension.\n",
        "20. Create a set of even numbers from 1 to 10 using a set comprehension.\n",
        "21. Create a dictionary with keys as numbers from 1 to 3 and values as their squares using a dictionary comprehension.\n",
        "22. Sort the list [3, 1, 4, 1, 5, 9, 2, 6, 5] in ascending order.\n",
        "23. Find the maximum element in the tuple (15, 20, 10, 25, 30).\n",
        "24. Remove duplicates from the list [1, 2, 2, 3, 4, 4, 5].\n",
        "25. Merge two sets {1, 2, 3} and {3, 4, 5}.\n",
        "26. Update the value associated with the key 'age' to 26 in the dictionary {'name': 'John', 'age': 25, 'city': 'New York'}.\n",
        "27. Check the length of the list [1, 2, 3, 4, 5].\n",
        "28. Convert the tuple ('apple', 'banana', 'cherry') to a list.\n",
        "29. Find the union of sets {1, 2, 3} and {3, 4, 5}.\n",
        "30. Clear all elements from the dictionary {'name': 'John', 'age': 25, 'city': 'New York'}."
      ],
      "metadata": {
        "id": "n5JinzZ0OLDP"
      }
    },
    {
      "cell_type": "markdown",
      "source": [
        "**1. Create a list with elements [1, 2, 3] and add the element 4 to it.**"
      ],
      "metadata": {
        "id": "kzktFBTeORyl"
      }
    },
    {
      "cell_type": "code",
      "source": [],
      "metadata": {
        "id": "aowVP8hoOWF9"
      },
      "execution_count": null,
      "outputs": []
    }
  ]
}