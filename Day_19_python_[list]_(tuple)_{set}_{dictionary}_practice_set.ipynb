{
  "nbformat": 4,
  "nbformat_minor": 0,
  "metadata": {
    "colab": {
      "provenance": [],
      "authorship_tag": "ABX9TyPb7ARhS18HHyfGZ15YWW8j",
      "include_colab_link": true
    },
    "kernelspec": {
      "name": "python3",
      "display_name": "Python 3"
    },
    "language_info": {
      "name": "python"
    }
  },
  "cells": [
    {
      "cell_type": "markdown",
      "metadata": {
        "id": "view-in-github",
        "colab_type": "text"
      },
      "source": [
        "<a href=\"https://colab.research.google.com/github/Samarth-DataScience/75-hard-of-python-practice/blob/main/Day_19_python_%5Blist%5D_(tuple)_%7Bset%7D_%7Bdictionary%7D_practice_set.ipynb\" target=\"_parent\"><img src=\"https://colab.research.google.com/assets/colab-badge.svg\" alt=\"Open In Colab\"/></a>"
      ]
    },
    {
      "cell_type": "markdown",
      "source": [
        "Set of Python programming questions that cover various aspects of lists, tuples, sets, and dictionaries. Here they are:\n",
        "\n",
        "1. Create a list with elements [1, 2, 3] and add the element 4 to it.\n",
        "2. Reverse the order of elements in the list: [10, 20, 30].\n",
        "3. Remove the element 5 from the list [5, 10, 15].\n",
        "4. Access the element 8 from the list [3, 6, 9, 12, 15].\n",
        "5. Check if the element 7 is present in the list [4, 7, 10].\n",
        "6. Create a tuple with elements (1, 2, 3) and concatenate it with another tuple (4, 5, 6).\n",
        "7. Access the element 4 from the tuple (1, 2, 3, (4, 5)).\n",
        "8. Convert the tuple (2, 4, 6) to a list.\n",
        "9. Create a set with elements {1, 2, 3, 4} and add the element 5 to it.\n",
        "10. Remove the element 3 from the set {1, 2, 3, 4}.\n",
        "11. Check if the set {5, 6} is a subset of {1, 2, 3, 4, 5, 6}.\n",
        "12. Find the intersection of sets {1, 2, 3} and {2, 3, 4}.\n",
        "13. Create a dictionary with keys 'name', 'age', and 'city' and values 'John', 25, and 'New York', respectively.\n",
        "14. Access the value associated with the key 'age' in the dictionary {'name': 'John', 'age': 25, 'city': 'New York'}.\n",
        "15. Add a new key-value pair 'gender': 'Male' to the dictionary {'name': 'John', 'age': 25, 'city': 'New York'}.\n",
        "16. Remove the key-value pair with the key 'city' from the dictionary {'name': 'John', 'age': 25, 'city': 'New York'}.\n",
        "17. Check if the key 'country' is present in the dictionary {'name': 'John', 'age': 25, 'city': 'New York'}.\n",
        "18. Create a list of squares of numbers from 1 to 5 using a list comprehension.\n",
        "19. Create a tuple with the first 3 multiples of 4 using a tuple comprehension.\n",
        "20. Create a set of even numbers from 1 to 10 using a set comprehension.\n",
        "21. Create a dictionary with keys as numbers from 1 to 3 and values as their squares using a dictionary comprehension.\n",
        "22. Sort the list [3, 1, 4, 1, 5, 9, 2, 6, 5] in ascending order.\n",
        "23. Find the maximum element in the tuple (15, 20, 10, 25, 30).\n",
        "24. Remove duplicates from the list [1, 2, 2, 3, 4, 4, 5].\n",
        "25. Merge two sets {1, 2, 3} and {3, 4, 5}.\n",
        "26. Update the value associated with the key 'age' to 26 in the dictionary {'name': 'John', 'age': 25, 'city': 'New York'}.\n",
        "27. Check the length of the list [1, 2, 3, 4, 5].\n",
        "28. Convert the tuple ('apple', 'banana', 'cherry') to a list.\n",
        "29. Find the union of sets {1, 2, 3} and {3, 4, 5}.\n",
        "30. Clear all elements from the dictionary {'name': 'John', 'age': 25, 'city': 'New York'}."
      ],
      "metadata": {
        "id": "n5JinzZ0OLDP"
      }
    },
    {
      "cell_type": "markdown",
      "source": [
        "**1. Create a list with elements [1, 2, 3] and add the element 4 to it.**"
      ],
      "metadata": {
        "id": "kzktFBTeORyl"
      }
    },
    {
      "cell_type": "code",
      "source": [
        "list1 = [1,2,3]\n",
        "list1.append(4)\n",
        "print(list1)"
      ],
      "metadata": {
        "id": "aowVP8hoOWF9",
        "outputId": "5cb240f9-166e-422d-a501-ac7129751cac",
        "colab": {
          "base_uri": "https://localhost:8080/"
        }
      },
      "execution_count": 1,
      "outputs": [
        {
          "output_type": "stream",
          "name": "stdout",
          "text": [
            "[1, 2, 3, 4]\n"
          ]
        }
      ]
    },
    {
      "cell_type": "markdown",
      "source": [
        "**2. Reverse the order of elements in the list: [10, 20, 30].**"
      ],
      "metadata": {
        "id": "INKsyx8H5UQd"
      }
    },
    {
      "cell_type": "code",
      "source": [
        "list2 = [10, 20, 30]\n",
        "list(reversed(list2))"
      ],
      "metadata": {
        "id": "FhvghPJw5WeV",
        "outputId": "ed5c2fb8-2b38-436c-fdf5-bacf1d6cd297",
        "colab": {
          "base_uri": "https://localhost:8080/"
        }
      },
      "execution_count": 2,
      "outputs": [
        {
          "output_type": "execute_result",
          "data": {
            "text/plain": [
              "[30, 20, 10]"
            ]
          },
          "metadata": {},
          "execution_count": 2
        }
      ]
    },
    {
      "cell_type": "markdown",
      "source": [
        "**3. Remove the element 5 from the list [5, 10, 15].**"
      ],
      "metadata": {
        "id": "bjsoA7WD5nE1"
      }
    },
    {
      "cell_type": "code",
      "source": [
        "list1 = [5,10,15]\n",
        "list1.remove(5)\n",
        "print(list1)"
      ],
      "metadata": {
        "id": "3eDc9goM5omm",
        "outputId": "d78a5446-7e64-4517-c979-9a880288d65e",
        "colab": {
          "base_uri": "https://localhost:8080/"
        }
      },
      "execution_count": 3,
      "outputs": [
        {
          "output_type": "stream",
          "name": "stdout",
          "text": [
            "[10, 15]\n"
          ]
        }
      ]
    },
    {
      "cell_type": "markdown",
      "source": [
        "**4. Access the element 8 from the list [3, 6, 9, 12, 15].**"
      ],
      "metadata": {
        "id": "SCRltPtW50BV"
      }
    },
    {
      "cell_type": "code",
      "source": [
        "l1 =  [3, 6, 9, 12, 15]\n",
        "if 8 in l1:\n",
        "  print(l1.index(8))\n",
        "else:\n",
        "  print(\"Element doesn't exists\")"
      ],
      "metadata": {
        "id": "_2VptV9w52Jt",
        "outputId": "c3a80a20-ed4b-4f69-9bf1-7059c985a067",
        "colab": {
          "base_uri": "https://localhost:8080/"
        }
      },
      "execution_count": 15,
      "outputs": [
        {
          "output_type": "stream",
          "name": "stdout",
          "text": [
            "Element doesn't exists\n"
          ]
        }
      ]
    },
    {
      "cell_type": "markdown",
      "source": [
        "**5. Check if the element 7 is present in the list [4, 7, 10].**"
      ],
      "metadata": {
        "id": "pN5PZiHd7T_N"
      }
    },
    {
      "cell_type": "code",
      "source": [
        "l1 =  [4, 7, 10]\n",
        "if 7 in l1:\n",
        "  print('yes')\n",
        "else:\n",
        "  print('no')"
      ],
      "metadata": {
        "id": "mHK1rkaQ7XdN",
        "outputId": "97ec1304-41b4-4ab0-e247-26c8187f49b1",
        "colab": {
          "base_uri": "https://localhost:8080/"
        }
      },
      "execution_count": 16,
      "outputs": [
        {
          "output_type": "stream",
          "name": "stdout",
          "text": [
            "yes\n"
          ]
        }
      ]
    }
  ]
}