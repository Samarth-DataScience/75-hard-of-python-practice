{
  "nbformat": 4,
  "nbformat_minor": 0,
  "metadata": {
    "colab": {
      "provenance": [],
      "authorship_tag": "ABX9TyMAPIsgUqlOz84KmGYZoUze",
      "include_colab_link": true
    },
    "kernelspec": {
      "name": "python3",
      "display_name": "Python 3"
    },
    "language_info": {
      "name": "python"
    }
  },
  "cells": [
    {
      "cell_type": "markdown",
      "metadata": {
        "id": "view-in-github",
        "colab_type": "text"
      },
      "source": [
        "<a href=\"https://colab.research.google.com/github/Samarth-DataScience/75-hard-of-python-practice/blob/main/python_string_practice_set_Day4.ipynb\" target=\"_parent\"><img src=\"https://colab.research.google.com/assets/colab-badge.svg\" alt=\"Open In Colab\"/></a>"
      ]
    },
    {
      "cell_type": "markdown",
      "source": [
        "Certainly! Here are 30 programming questions that cover various topics related to strings in Python:\n",
        "\n",
        "**Basic String Manipulation:**\n",
        "\n",
        "1. Write a Python program to concatenate two strings.\n",
        "2. Create a function to find the length of a string.\n",
        "3. Write a program to count the number of spaces in a string.\n",
        "4. Implement a function to remove leading and trailing spaces from a string.\n",
        "5. Write a Python program to convert a string to lowercase.\n",
        "6. Create a function to check if a string contains only alphabetic characters.\n",
        "7. Write a program to reverse a string using slicing.\n",
        "8. Implement a function to check if a string contains a specific substring.\n",
        "9. Write a Python program to swap the case of characters in a string.\n",
        "10. Create a function to capitalize the first letter of a string.\n",
        "\n",
        "**Advanced String Manipulation:**\n",
        "\n",
        "11. Write a program to check if a string is a palindrome (reads the same forwards and backward).\n",
        "12. Implement a function to check if two strings are anagrams of each other.\n",
        "13. Create a program to count the occurrences of a specific character in a string.\n",
        "14. Write a Python program to find the longest word in a sentence.\n",
        "15. Implement a function to truncate a string to a specified length and add \"...\" if it's longer.\n",
        "16. Create a function to replace all occurrences of a specific character in a string.\n",
        "17. Write a program to find the first non-repeated character in a string.\n",
        "18. Implement a function to reverse words in a sentence.\n",
        "19. Write a Python program to check if a string is a valid email address.\n",
        "20. Create a function to check if a string contains only numeric characters.\n",
        "\n",
        "**String Formatting:**\n",
        "\n",
        "21. Write a program to format a string with placeholders.\n",
        "22. Implement a function to format a string as a currency (e.g., add commas and currency symbol).\n",
        "23. Create a function to convert a string to a list of words.\n",
        "24. Write a Python program to extract all email addresses from a given text.\n",
        "25. Implement a function to extract URLs from a string.\n",
        "26. Create a program to replace newlines in a string with spaces.\n",
        "27. Write a Python program to remove HTML tags from a string.\n",
        "28. Implement a function to split a string into sentences.\n",
        "29. Create a function to remove all punctuation from a string.\n",
        "30. Write a program to find the most common word in a text.\n",
        "\n",
        "These questions cover a wide range of string manipulation and formatting topics in Python, providing a comprehensive practice for string-related programming skills."
      ],
      "metadata": {
        "id": "ZoxkCiui2ax9"
      }
    },
    {
      "cell_type": "code",
      "source": [],
      "metadata": {
        "id": "VwUnajGz2cu9"
      },
      "execution_count": null,
      "outputs": []
    },
    {
      "cell_type": "markdown",
      "source": [
        "\n",
        "\n",
        "**1. Write a Python program to concatenate two strings.**\n",
        "\n",
        "\n"
      ],
      "metadata": {
        "id": "Yzb8Pg4o6cAj"
      }
    },
    {
      "cell_type": "code",
      "source": [
        "# code here:\n",
        "\n",
        "str1 = input('Please enter first string: ')\n",
        "str2 = input('Please enter second string: ')\n",
        "\n",
        "str3 = str1 + str2\n",
        "\n",
        "print((f'The result is: {str3}'))"
      ],
      "metadata": {
        "colab": {
          "base_uri": "https://localhost:8080/"
        },
        "id": "Dy8EMW7h6fl7",
        "outputId": "14f9fd55-e84e-4428-bad5-8497fe99f07b"
      },
      "execution_count": null,
      "outputs": [
        {
          "output_type": "stream",
          "name": "stdout",
          "text": [
            "Please enter first string: hello world\n",
            "Please enter second string: this is my code\n",
            "The result is: hello worldthis is my code\n"
          ]
        }
      ]
    },
    {
      "cell_type": "markdown",
      "source": [
        "\n",
        "\n",
        "**2. Create a function to find the length of a string.**\n",
        "\n"
      ],
      "metadata": {
        "id": "1Nu8sflK7aY8"
      }
    },
    {
      "cell_type": "code",
      "source": [
        "# code here:\n",
        "\n",
        "str1 = input('Enter your string here:')\n",
        "count = 0\n",
        "def findlen():\n",
        "  count = 0\n",
        "  for i in str1:\n",
        "    count += 1\n",
        "  return count\n",
        "print(f'The length of a string is: {findlen()}')"
      ],
      "metadata": {
        "colab": {
          "base_uri": "https://localhost:8080/"
        },
        "id": "Gick4AXu7hsT",
        "outputId": "99a6d348-0714-4629-ff98-a8c15d63e963"
      },
      "execution_count": null,
      "outputs": [
        {
          "output_type": "stream",
          "name": "stdout",
          "text": [
            "Enter your string here:hello world\n",
            "The length of a string is: 11\n"
          ]
        }
      ]
    },
    {
      "cell_type": "markdown",
      "source": [
        "**3. Write a program to count the number of spaces in a string.**"
      ],
      "metadata": {
        "id": "4-0-pi-p9CIr"
      }
    },
    {
      "cell_type": "code",
      "source": [
        "str1 = input('Enter your string here: ')\n",
        "count = 0\n",
        "for i in str1:\n",
        "  if i == ' ':\n",
        "    count += 1\n",
        "print(f'Total number of spaces are: {count}')"
      ],
      "metadata": {
        "colab": {
          "base_uri": "https://localhost:8080/"
        },
        "id": "QbtlSprm9VCb",
        "outputId": "7f5a33f1-6dab-4c83-b64d-f825f56955ed"
      },
      "execution_count": null,
      "outputs": [
        {
          "output_type": "stream",
          "name": "stdout",
          "text": [
            "Enter your string here: This is the input   i am giving in two   space and    three   \n",
            "Total number of spaces are: 21\n"
          ]
        }
      ]
    },
    {
      "cell_type": "markdown",
      "source": [
        "**4. Implement a function to remove leading and trailing spaces from a string.**"
      ],
      "metadata": {
        "id": "i16jAqb7UW6Q"
      }
    },
    {
      "cell_type": "code",
      "source": [
        "str1 = input('Enter the string here: ')\n",
        "\n",
        "def space_remover(str):\n",
        "    return str.strip()\n",
        "\n",
        "print(f'The string after removing the leading and trailing spaces is: {space_remover(str1)}, {len(space_remover(str1))}')"
      ],
      "metadata": {
        "id": "lCAsenfdUb6J",
        "outputId": "4e9a8a95-df65-45eb-8aa4-6e05d4f29807",
        "colab": {
          "base_uri": "https://localhost:8080/"
        }
      },
      "execution_count": null,
      "outputs": [
        {
          "output_type": "stream",
          "name": "stdout",
          "text": [
            "Enter the string here:        this is not a good code      \n",
            "The string after removing the leading and trailing spaces is: this is not a good code, 23\n"
          ]
        }
      ]
    },
    {
      "cell_type": "markdown",
      "source": [
        "**5. Write a Python program to convert a string to lowercase.**"
      ],
      "metadata": {
        "id": "Qb1jTx-uXX36"
      }
    },
    {
      "cell_type": "code",
      "source": [
        "str1 = input('Enter the string to which you want to convert it in lowercase: ')\n",
        "print(f'Your string in lowercase is: {str1.lower()}')"
      ],
      "metadata": {
        "id": "jRlyvwvlXaji",
        "outputId": "22c02c9b-d151-4530-f15f-d4684442d147",
        "colab": {
          "base_uri": "https://localhost:8080/"
        }
      },
      "execution_count": null,
      "outputs": [
        {
          "output_type": "stream",
          "name": "stdout",
          "text": [
            "Enter the string to which you want to convert it in lowercase: This IS my BAd coDe\n",
            "Your string in lowercase is: this is my bad code\n"
          ]
        }
      ]
    },
    {
      "cell_type": "markdown",
      "source": [
        "**6. Create a function to check if a string contains only alphabetic characters.**"
      ],
      "metadata": {
        "id": "5H38Q4EiYEdP"
      }
    },
    {
      "cell_type": "code",
      "source": [
        "str1 = input('Enter the string to check the alphabetic characters: ')\n",
        "if str1.isalpha():\n",
        "  print('Your characters are only alphabetics')\n",
        "else:\n",
        "  print('Your characters are not alphabetics')"
      ],
      "metadata": {
        "id": "f1NIudBHYIk4",
        "outputId": "516f88b5-0cd6-4b11-f03a-5b40b12900f8",
        "colab": {
          "base_uri": "https://localhost:8080/"
        }
      },
      "execution_count": null,
      "outputs": [
        {
          "output_type": "stream",
          "name": "stdout",
          "text": [
            "Enter the string to check the alphabetic characters: This code i5 not good\n",
            "Your characters are not alphabetics\n"
          ]
        }
      ]
    },
    {
      "cell_type": "markdown",
      "source": [
        "**7. Write a program to reverse a string using slicing.**"
      ],
      "metadata": {
        "id": "HWZG0jEgYyZg"
      }
    },
    {
      "cell_type": "code",
      "source": [
        "str1 = input('Enter your string here: ')\n",
        "\n",
        "print(f'Reverse of your string is: {str1[-1::-1]}')"
      ],
      "metadata": {
        "id": "7ExZ7GFfY17-",
        "outputId": "793f24e3-eedc-430e-d9f3-5d1f9cdc8472",
        "colab": {
          "base_uri": "https://localhost:8080/"
        }
      },
      "execution_count": null,
      "outputs": [
        {
          "output_type": "stream",
          "name": "stdout",
          "text": [
            "Enter your string here: this is string\n",
            "Reverse of your string is: gnirts si siht\n"
          ]
        }
      ]
    },
    {
      "cell_type": "markdown",
      "source": [
        "**8. Implement a function to check if a string contains a specific substring.**"
      ],
      "metadata": {
        "id": "mUv5ADKvbYNF"
      }
    },
    {
      "cell_type": "code",
      "source": [
        "str1 = input('Enter your string here: ')\n",
        "str2 = input('Enter the substring here which you want to find: ')\n",
        "def find_str(str1,str2):\n",
        "  if str2 in str1:\n",
        "    return print(f'Substing found at index no. {str1.index(str2)}')\n",
        "  else:\n",
        "    return print('The substring you entered does not exist in given string.')\n",
        "find_str(str1,str2)"
      ],
      "metadata": {
        "id": "7Jh_b6K4ba19",
        "outputId": "00fc0013-7078-466b-a0f5-80889d28ed49",
        "colab": {
          "base_uri": "https://localhost:8080/"
        }
      },
      "execution_count": null,
      "outputs": [
        {
          "output_type": "stream",
          "name": "stdout",
          "text": [
            "Enter your string here: this is my code\n",
            "Enter the substring here which you want to find: code\n",
            "Substing found at index no. 11\n"
          ]
        }
      ]
    },
    {
      "cell_type": "markdown",
      "source": [
        "**9. Write a Python program to swap the case of characters in a string.**"
      ],
      "metadata": {
        "id": "Ijefo8Njf_NL"
      }
    },
    {
      "cell_type": "code",
      "source": [
        "str1 = input('Enter your string: ')\n",
        "print(f'Your string after swapcase is: {str1.swapcase()}')"
      ],
      "metadata": {
        "id": "W80xzn0GgEfz",
        "outputId": "6eb9ffb2-9dbe-4ecd-ef72-ffc4d0883bc6",
        "colab": {
          "base_uri": "https://localhost:8080/"
        }
      },
      "execution_count": null,
      "outputs": [
        {
          "output_type": "stream",
          "name": "stdout",
          "text": [
            "Enter your string: this is Code swaPPED\n",
            "Your string after swapcase is: THIS IS cODE SWApped\n"
          ]
        }
      ]
    },
    {
      "cell_type": "markdown",
      "source": [
        "**10. Create a function to capitalize the first letter of a string.**"
      ],
      "metadata": {
        "id": "arsBnn97ge38"
      }
    },
    {
      "cell_type": "code",
      "source": [
        "str1 = input('Enter your string: ')\n",
        "def cap_str(str):\n",
        "  return print(f'Capitalized first letter of a strings is: {str.title()}')\n",
        "cap_str(str1)"
      ],
      "metadata": {
        "id": "rxNlo_6kgg_z",
        "outputId": "ea19ce21-893f-4238-a101-3ea0e45c10e7",
        "colab": {
          "base_uri": "https://localhost:8080/"
        }
      },
      "execution_count": null,
      "outputs": [
        {
          "output_type": "stream",
          "name": "stdout",
          "text": [
            "Enter your string: this is good code\n",
            "Capitalized first letter of a strings is: This Is Good Code\n"
          ]
        }
      ]
    },
    {
      "cell_type": "markdown",
      "source": [
        "**11. Write a program to check if a string is a palindrome (reads the same forwards and backward).**"
      ],
      "metadata": {
        "id": "rMEJdOrPo0sU"
      }
    },
    {
      "cell_type": "code",
      "source": [
        "str1 = input('Enter the string: ')\n",
        "fwd = (len(str1)//2)+1\n",
        "bkwd = -(fwd + 1)\n",
        "\n",
        "if str1[:fwd].lower() == str1[-1:bkwd:-1].lower():\n",
        "  print(f'\"{str1}\" is a palindrome')\n",
        "else:\n",
        "  print(f'\"{str1}\" is not a palindrome.')"
      ],
      "metadata": {
        "id": "e3cCqYUQo6e8",
        "outputId": "c19152f9-713a-415f-d3ce-48c0ab583223",
        "colab": {
          "base_uri": "https://localhost:8080/"
        }
      },
      "execution_count": null,
      "outputs": [
        {
          "output_type": "stream",
          "name": "stdout",
          "text": [
            "Enter the string: Madam\n",
            "\"Madam\" is a palindrome\n"
          ]
        }
      ]
    },
    {
      "cell_type": "markdown",
      "source": [
        "**12. Implement a function to check if two strings are anagrams of each other.**"
      ],
      "metadata": {
        "id": "71bJP-sJv8NZ"
      }
    },
    {
      "cell_type": "code",
      "source": [
        "str1 = input('Enter first string: ')\n",
        "str2 = input('Enter second string: ')\n",
        "print()\n",
        "if sorted(str1.lower()) == sorted(str2.lower()):\n",
        "  print(f'\"{str1}\" and \"{str2}\" are anagrams of each other.')\n",
        "else:\n",
        "  print(f'\"{str1}\" and \"{str2}\" are not anagrams of each other.')"
      ],
      "metadata": {
        "id": "BwFoL-V1v-fZ",
        "outputId": "e611ee0e-3412-4edc-b4f1-aadc3e187b64",
        "colab": {
          "base_uri": "https://localhost:8080/"
        }
      },
      "execution_count": null,
      "outputs": [
        {
          "output_type": "stream",
          "name": "stdout",
          "text": [
            "Enter first string: Listen\n",
            "Enter second string: silent\n",
            "\n",
            "\"Listen\" and \"silent\" are anagrams of each other.\n"
          ]
        }
      ]
    },
    {
      "cell_type": "markdown",
      "source": [
        "**13. Create a program to count the occurrences of a specific character in a string.**"
      ],
      "metadata": {
        "id": "OBF0OdrdxnUj"
      }
    },
    {
      "cell_type": "code",
      "source": [
        "str1 = input('Enter your string: ')\n",
        "str2 = input('Enter your character to count its occurance:')\n",
        "\n",
        "print(f'The total occurance of \"{str2}\" in \"{str1}\" is \"{str1.count(str2)}\"')"
      ],
      "metadata": {
        "id": "CGZeu7qJxqoI",
        "outputId": "96d43f86-45ff-489a-e18f-21adcb582edb",
        "colab": {
          "base_uri": "https://localhost:8080/"
        }
      },
      "execution_count": null,
      "outputs": [
        {
          "output_type": "stream",
          "name": "stdout",
          "text": [
            "Enter your string: this is my code\n",
            "Enter your character to count its occurance:i\n",
            "The total occurance of \"i\" in \"this is my code\" is \"2\"\n"
          ]
        }
      ]
    },
    {
      "cell_type": "markdown",
      "source": [
        "**14. Write a Python program to find the longest word in a sentence.**"
      ],
      "metadata": {
        "id": "JwWyux8mybAC"
      }
    },
    {
      "cell_type": "code",
      "source": [
        "str1 = input('Enter your sentence here: ')\n",
        "str2 = list(str1.split())\n",
        "\n",
        "flag = 0\n",
        "for i in range(0,len(str2)):\n",
        "  if len(str2[i]) > flag:\n",
        "    flag = len(str2[i])\n",
        "    longest = str2[i]\n",
        "\n",
        "print(f'The longest word in the sentence is \"{longest}\" with the length of \"{flag}\"')"
      ],
      "metadata": {
        "id": "RiqFI5YXyfYy",
        "outputId": "d7ce5c6c-92e6-41c2-f472-3b34850787c3",
        "colab": {
          "base_uri": "https://localhost:8080/"
        }
      },
      "execution_count": null,
      "outputs": [
        {
          "output_type": "stream",
          "name": "stdout",
          "text": [
            "Enter your sentence here: Python program to find the longest word in a sentence.\n",
            "The longest word in the sentence is \"sentence.\" with the length of \"9\"\n"
          ]
        }
      ]
    },
    {
      "cell_type": "markdown",
      "source": [
        "**15. Implement a function to truncate a string to a specified length and add \"...\" if it's longer.**"
      ],
      "metadata": {
        "id": "Hez_7fut9aM1"
      }
    },
    {
      "cell_type": "code",
      "source": [
        "str1 = input('Enter the string here: ')\n",
        "str2 = int(input('Enter the word limit you want: '))\n",
        "\n",
        "str3 = []\n",
        "\n",
        "for i in str1.split():\n",
        "  if len(i) >= str2:\n",
        "    str3.append(i[0:str2] + '...')\n",
        "\n",
        "  else:\n",
        "    str3.append(i)\n",
        "print()\n",
        "print(f\"\"\"Truncating a string to a specified length and add \"...\" if it's longer. is \"{\" \".join(str3)}\" \"\"\")"
      ],
      "metadata": {
        "colab": {
          "base_uri": "https://localhost:8080/"
        },
        "id": "TBvfebRv9cZt",
        "outputId": "96f0c4b9-7243-4a17-fa25-93f6441c3831"
      },
      "execution_count": 10,
      "outputs": [
        {
          "output_type": "stream",
          "name": "stdout",
          "text": [
            "Enter the string here: Unquestionably, the incredibly ambitious student excelled\n",
            "Enter the word limit you want: 6\n",
            "\n",
            "Truncating a string to a specified length and add \"...\" if it's longer. is \"Unques... the incred... ambiti... studen... excell...\" \n"
          ]
        }
      ]
    },
    {
      "cell_type": "markdown",
      "source": [
        "**16. Create a function to replace all occurrences of a specific character in a string.**"
      ],
      "metadata": {
        "id": "SaeRZWw4FAGj"
      }
    },
    {
      "cell_type": "code",
      "source": [
        "str1 = input('Enter the string: ')\n",
        "str2 = input('What you want to find: ')\n",
        "str3 = input('What you want to replace: ')\n",
        "str4 = str1.replace(str2,str3)\n",
        "print(f'The new string after the change is: \"{str4}\"')\n"
      ],
      "metadata": {
        "colab": {
          "base_uri": "https://localhost:8080/"
        },
        "id": "qTfYpRF3FCdy",
        "outputId": "2ded865a-65bc-4fef-9b3a-b709dd0d41c6"
      },
      "execution_count": 14,
      "outputs": [
        {
          "output_type": "stream",
          "name": "stdout",
          "text": [
            "Enter the string: This is the final code of the day\n",
            "What you want to find: e\n",
            "What you want to replace: _\n",
            "The new string after the change is: \"This is th_ final cod_ of th_ day\"\n"
          ]
        }
      ]
    },
    {
      "cell_type": "markdown",
      "source": [
        "**17. Write a program to find the first non-repeated character in a string.**"
      ],
      "metadata": {
        "id": "0mw7WE2PSP88"
      }
    },
    {
      "cell_type": "code",
      "source": [
        "str1 = input('Enter the string here: ')\n",
        "str2 = list(str1)\n",
        "print(str1)\n",
        "print(str2)\n",
        "print(set(str2))\n",
        "\n",
        "for i in str1:\n",
        "  if i not in str1[str1.index(i)+1:]:\n",
        "    print(str1[str1.index(i)+1:])\n",
        "    print('i found at ',str1.index(i))\n",
        "    break"
      ],
      "metadata": {
        "id": "CWYAdrBNSSRd",
        "outputId": "d8c38fc2-3dbe-4cf6-c3ac-147ecdc3d356",
        "colab": {
          "base_uri": "https://localhost:8080/"
        }
      },
      "execution_count": 27,
      "outputs": [
        {
          "output_type": "stream",
          "name": "stdout",
          "text": [
            "Enter the string here: google\n",
            "google\n",
            "['g', 'o', 'o', 'g', 'l', 'e']\n",
            "{'e', 'l', 'g', 'o'}\n",
            "e\n",
            "i found at  4\n"
          ]
        }
      ]
    }
  ]
}