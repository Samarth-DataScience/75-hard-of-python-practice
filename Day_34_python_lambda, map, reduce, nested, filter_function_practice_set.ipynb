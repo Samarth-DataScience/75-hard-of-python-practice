{
  "nbformat": 4,
  "nbformat_minor": 0,
  "metadata": {
    "colab": {
      "provenance": [],
      "authorship_tag": "ABX9TyPfdBKLZhgofHCq41jEH0a5",
      "include_colab_link": true
    },
    "kernelspec": {
      "name": "python3",
      "display_name": "Python 3"
    },
    "language_info": {
      "name": "python"
    }
  },
  "cells": [
    {
      "cell_type": "markdown",
      "metadata": {
        "id": "view-in-github",
        "colab_type": "text"
      },
      "source": [
        "<a href=\"https://colab.research.google.com/github/Samarth-DataScience/75-hard-of-python-practice/blob/main/Day_34_python_lambda%2C%20map%2C%20reduce%2C%20nested%2C%20filter_function_practice_set.ipynb\" target=\"_parent\"><img src=\"https://colab.research.google.com/assets/colab-badge.svg\" alt=\"Open In Colab\"/></a>"
      ]
    },
    {
      "cell_type": "code",
      "execution_count": null,
      "metadata": {
        "id": "88OIQyFTjfrW"
      },
      "outputs": [],
      "source": []
    },
    {
      "cell_type": "markdown",
      "source": [
        "**Certainly! Here are 30 questions covering topics like lambda functions, map, filter, reduce, nested functions, and variable scope in Python:**\n",
        "\n",
        "1. Write a lambda function to square a given number.\n",
        "2. Use the map function to double each element in a list.\n",
        "3. Create a list of integers and use the filter function to get only the even numbers.\n",
        "4. Define a lambda function to check if a given number is greater than 10.\n",
        "5. Use the reduce function to find the product of elements in a list.\n",
        "6. Write a nested function that calculates the square of a given number.\n",
        "7. Create a list of strings and use the map function to convert them to uppercase.\n",
        "8. Define a lambda function to calculate the cube of a given number.\n",
        "9. Use the filter function to get only the strings with length greater than 5 from a list of strings.\n",
        "10. Write a lambda function to add two numbers.\n",
        "11. Create a list of numbers and use the reduce function to find the sum.\n",
        "12. Define a function that takes a list of numbers and returns a list of their squares using the map function.\n",
        "13. Write a lambda function to check if a given string is a palindrome.\n",
        "14. Use the filter function to get only the elements divisible by 3 from a list of numbers.\n",
        "15. Define a function that uses a nested lambda function to calculate the square of a given number.\n",
        "16. Create a list of tuples, each containing two numbers, and use the map function to find the sum of each tuple.\n",
        "17. Write a lambda function to find the maximum of two numbers.\n",
        "18. Use the reduce function to find the product of elements in a list, starting from an initial value of 1.\n",
        "19. Define a function that takes a list of strings and returns a list of their lengths using the map function.\n",
        "20. Write a lambda function to check if a given number is prime.\n",
        "21. Use the filter function to get only the elements greater than the average from a list of numbers.\n",
        "22. Define a nested function with a closure that keeps track of the total count of function calls.\n",
        "23. Create a list of strings and use the map function to concatenate \" - Python\" to each string.\n",
        "24. Write a lambda function to calculate the square root of a given number.\n",
        "25. Use the filter function to get only the elements that are strings from a mixed list.\n",
        "26. Define a function that takes a list of numbers and returns a list of their cubes using the map function.\n",
        "27. Write a lambda function to reverse a given string.\n",
        "28. Use the reduce function to find the maximum of a list of numbers.\n",
        "29. Define a function that uses a nested lambda function to calculate the product of two given numbers.\n",
        "30. Create a list of dictionaries, each containing 'name' and 'age', and use the map function to extract only the names.\n",
        "\n",
        "Feel free to use these questions for practice, and if you have any specific doubts or need explanations, feel free to ask!"
      ],
      "metadata": {
        "id": "7E8Jli64kFBs"
      }
    },
    {
      "cell_type": "markdown",
      "source": [],
      "metadata": {
        "id": "h7WM7gcNkGnU"
      }
    }
  ]
}