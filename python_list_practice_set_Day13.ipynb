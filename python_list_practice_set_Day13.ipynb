{
  "nbformat": 4,
  "nbformat_minor": 0,
  "metadata": {
    "colab": {
      "provenance": [],
      "include_colab_link": true
    },
    "kernelspec": {
      "name": "python3",
      "display_name": "Python 3"
    },
    "language_info": {
      "name": "python"
    }
  },
  "cells": [
    {
      "cell_type": "markdown",
      "metadata": {
        "id": "view-in-github",
        "colab_type": "text"
      },
      "source": [
        "<a href=\"https://colab.research.google.com/github/Samarth-DataScience/75-hard-of-python-practice/blob/main/python_list_practice_set_Day13.ipynb\" target=\"_parent\"><img src=\"https://colab.research.google.com/assets/colab-badge.svg\" alt=\"Open In Colab\"/></a>"
      ]
    },
    {
      "cell_type": "markdown",
      "source": [
        "Certainly! Here are 30 Python list questions covering a wide range of topics and functions, numbered from 1 to 30:\n",
        "\n",
        "1. Create an empty list named `my_list`.\n",
        "2. Initialize a list `numbers` with integers from 1 to 5.\n",
        "3. Access the third element of the `numbers` list.\n",
        "4. Append the number 6 to the `numbers` list.\n",
        "5. Extend the `numbers` list with another list `[7, 8, 9]`.\n",
        "6. Remove the element with the value 3 from the `numbers` list.\n",
        "7. Check if the value 5 is present in the `numbers` list.\n",
        "8. Find the index of the element with the value 8 in the `numbers` list.\n",
        "9. Count the number of occurrences of 2 in the `numbers` list.\n",
        "10. Reverse the order of elements in the `numbers` list.\n",
        "11. Sort the `numbers` list in ascending order.\n",
        "12. Create a new list `squares` containing the square of each number in the `numbers` list.\n",
        "13. Extract a sublist from `numbers` with elements from index 2 to 4.\n",
        "14. Create a list of lists, `matrix`, representing a 2x2 matrix.\n",
        "15. Flatten the `matrix` into a single list.\n",
        "16. Use list comprehension to create a list of even numbers from 1 to 10.\n",
        "17. Zip two lists, `names` and `ages`, into a list of tuples.\n",
        "18. Unpack the tuples from the previous question into separate lists.\n",
        "19. Copy the `numbers` list to a new list named `numbers_copy`.\n",
        "20. Clear all elements from the `numbers_copy` list.\n",
        "21. Check if two lists, `list1` and `list2`, are equal.\n",
        "22. Create a list of the first five letters of the alphabet.\n",
        "23. Insert the letter 'X' at index 2 in the alphabet list.\n",
        "24. Remove the last element from the alphabet list.\n",
        "25. Use slicing to get the last three elements of the alphabet list.\n",
        "26. Create a list of 10 zeros using a list comprehension.\n",
        "27. Find the maximum and minimum values in the `numbers` list.\n",
        "28. Remove duplicates from a list `duplicates` while preserving the order.\n",
        "29. Combine two lists, `list1` and `list2`, into a single list.\n",
        "30. Create a list of the squares of even numbers from 1 to 10 using a lambda function and `map`."
      ],
      "metadata": {
        "id": "dWPP-PJWwXNL"
      }
    },
    {
      "cell_type": "markdown",
      "source": [
        "**1. Create an empty list named my_list.**"
      ],
      "metadata": {
        "id": "_D1AqCHT52be"
      }
    },
    {
      "cell_type": "code",
      "source": [
        "my_list = []"
      ],
      "metadata": {
        "id": "sCW0jiLB56ER"
      },
      "execution_count": null,
      "outputs": []
    },
    {
      "cell_type": "markdown",
      "source": [
        "**2. Initialize a list numbers with integers from 1 to 5.**"
      ],
      "metadata": {
        "id": "GpA3JBXi6A0G"
      }
    },
    {
      "cell_type": "code",
      "source": [
        "l1 = [1,2,3,4,5]\n",
        "print(l1)"
      ],
      "metadata": {
        "colab": {
          "base_uri": "https://localhost:8080/"
        },
        "id": "X0pwCpS56DFu",
        "outputId": "8a7672a4-9e87-4f0c-8726-9803a3a65d61"
      },
      "execution_count": null,
      "outputs": [
        {
          "output_type": "stream",
          "name": "stdout",
          "text": [
            "[1, 2, 3, 4, 5]\n"
          ]
        }
      ]
    },
    {
      "cell_type": "markdown",
      "source": [
        "**3. Access the third element of the numbers list.**"
      ],
      "metadata": {
        "id": "lSmBdmBy8YBs"
      }
    },
    {
      "cell_type": "code",
      "source": [
        "third_element = l1[2]\n",
        "print(third_element)"
      ],
      "metadata": {
        "colab": {
          "base_uri": "https://localhost:8080/"
        },
        "id": "pxo-4JQ68aWU",
        "outputId": "46f0c4fa-051c-425b-c9b3-a65465cb8969"
      },
      "execution_count": null,
      "outputs": [
        {
          "output_type": "stream",
          "name": "stdout",
          "text": [
            "3\n"
          ]
        }
      ]
    },
    {
      "cell_type": "markdown",
      "source": [
        "**4. Append the number 6 to the numbers list.**"
      ],
      "metadata": {
        "id": "X1AvMEXJ88O8"
      }
    },
    {
      "cell_type": "code",
      "source": [
        "l1.append(6)\n",
        "print(l1)"
      ],
      "metadata": {
        "colab": {
          "base_uri": "https://localhost:8080/"
        },
        "id": "YE4Z0M2g8_OB",
        "outputId": "23ad5a03-a588-4a98-c951-1ab25ff54341"
      },
      "execution_count": null,
      "outputs": [
        {
          "output_type": "stream",
          "name": "stdout",
          "text": [
            "[1, 2, 3, 4, 5, 6]\n"
          ]
        }
      ]
    },
    {
      "cell_type": "markdown",
      "source": [
        "**5. Extend the numbers list with another list [7, 8, 9].**"
      ],
      "metadata": {
        "id": "uegO2bBy9IcU"
      }
    },
    {
      "cell_type": "code",
      "source": [
        "l2 = [7,8,9]\n",
        "l1.extend(l2)\n",
        "print(l1)"
      ],
      "metadata": {
        "colab": {
          "base_uri": "https://localhost:8080/"
        },
        "id": "1BHoHO0j9Ktc",
        "outputId": "54b06452-8941-4469-b9ae-4fcb3fccaef4"
      },
      "execution_count": null,
      "outputs": [
        {
          "output_type": "stream",
          "name": "stdout",
          "text": [
            "[1, 2, 3, 4, 5, 6, 7, 8, 9]\n"
          ]
        }
      ]
    },
    {
      "cell_type": "markdown",
      "source": [
        "**6. Remove the element with the value 3 from the numbers list.**"
      ],
      "metadata": {
        "id": "9DNfSHN99aDM"
      }
    },
    {
      "cell_type": "code",
      "source": [
        "l1.remove(3)\n",
        "print(l1)"
      ],
      "metadata": {
        "colab": {
          "base_uri": "https://localhost:8080/"
        },
        "id": "r3jo6fd59cXM",
        "outputId": "24b2f0bc-053f-461b-a07e-0f21f1e17bb0"
      },
      "execution_count": null,
      "outputs": [
        {
          "output_type": "stream",
          "name": "stdout",
          "text": [
            "[1, 2, 4, 5, 6, 7, 8, 9]\n"
          ]
        }
      ]
    },
    {
      "cell_type": "markdown",
      "source": [
        "**7. Check if the value 5 is present in the numbers list.**"
      ],
      "metadata": {
        "id": "D2Fa2EEh9p9M"
      }
    },
    {
      "cell_type": "code",
      "source": [
        "if 5 in l1:\n",
        "  print('value 5 is available')"
      ],
      "metadata": {
        "colab": {
          "base_uri": "https://localhost:8080/"
        },
        "id": "m-u9RvtC9sWk",
        "outputId": "869eb92e-7e3c-49f2-80c6-22dd19fd9709"
      },
      "execution_count": null,
      "outputs": [
        {
          "output_type": "stream",
          "name": "stdout",
          "text": [
            "value 5 is available\n"
          ]
        }
      ]
    },
    {
      "cell_type": "markdown",
      "source": [
        "**8. Find the index of the element with the value 8 in the numbers list.**"
      ],
      "metadata": {
        "id": "GJGkJFmv96oD"
      }
    },
    {
      "cell_type": "code",
      "source": [
        "index = l1.index(8)\n",
        "print(index)"
      ],
      "metadata": {
        "colab": {
          "base_uri": "https://localhost:8080/"
        },
        "id": "h2B9AzEU98ct",
        "outputId": "2255a53b-d768-49e3-e639-575543e5d37f"
      },
      "execution_count": null,
      "outputs": [
        {
          "output_type": "stream",
          "name": "stdout",
          "text": [
            "6\n"
          ]
        }
      ]
    },
    {
      "cell_type": "markdown",
      "source": [
        "**9. Count the number of occurrences of 2 in the numbers list.**"
      ],
      "metadata": {
        "id": "RaBKnZGK-piE"
      }
    },
    {
      "cell_type": "code",
      "source": [
        "occurence = l1.count(2)\n",
        "print(f'The total number of occureance of 2 is: {occurence}')"
      ],
      "metadata": {
        "id": "bNJYx0KS-rQ0",
        "outputId": "1d7a91a8-f887-4fa9-b796-122fc34d20ca",
        "colab": {
          "base_uri": "https://localhost:8080/"
        }
      },
      "execution_count": null,
      "outputs": [
        {
          "output_type": "stream",
          "name": "stdout",
          "text": [
            "The total number of occureance of 2 is: 1\n"
          ]
        }
      ]
    },
    {
      "cell_type": "markdown",
      "source": [
        "**10. Reverse the order of elements in the numbers list.**"
      ],
      "metadata": {
        "id": "FOvq3qzI_Cab"
      }
    },
    {
      "cell_type": "code",
      "source": [
        "reverse_element = l1[::-1]\n",
        "print(reverse_element)"
      ],
      "metadata": {
        "id": "umX_t-oc_Ejb",
        "outputId": "8f8118a1-3724-4d52-978a-1aed81c9339c",
        "colab": {
          "base_uri": "https://localhost:8080/"
        }
      },
      "execution_count": null,
      "outputs": [
        {
          "output_type": "stream",
          "name": "stdout",
          "text": [
            "[9, 8, 7, 6, 5, 4, 2, 1]\n"
          ]
        }
      ]
    },
    {
      "cell_type": "markdown",
      "source": [
        "11. Sort the `numbers` list in ascending order.\n",
        "12. Create a new list `squares` containing the square of each number in the `numbers` list.\n",
        "13. Extract a sublist from `numbers` with elements from index 2 to 4.\n",
        "14. Create a list of lists, `matrix`, representing a 2x2 matrix.\n",
        "15. Flatten the `matrix` into a single list.\n",
        "16. Use list comprehension to create a list of even numbers from 1 to 10.\n",
        "17. Zip two lists, `names` and `ages`, into a list of tuples.\n",
        "18. Unpack the tuples from the previous question into separate lists.\n",
        "19. Copy the `numbers` list to a new list named `numbers_copy`.\n",
        "20. Clear all elements from the `numbers_copy` list.\n",
        "21. Check if two lists, `list1` and `list2`, are equal.\n",
        "22. Create a list of the first five letters of the alphabet.\n",
        "23. Insert the letter 'X' at index 2 in the alphabet list.\n",
        "24. Remove the last element from the alphabet list.\n",
        "25. Use slicing to get the last three elements of the alphabet list.\n",
        "26. Create a list of 10 zeros using a list comprehension.\n",
        "27. Find the maximum and minimum values in the `numbers` list.\n",
        "28. Remove duplicates from a list `duplicates` while preserving the order.\n",
        "29. Combine two lists, `list1` and `list2`, into a single list.\n",
        "30. Create a list of the squares of even numbers from 1 to 10 using a lambda function and `map`."
      ],
      "metadata": {
        "id": "aH0FatEk_siT"
      }
    },
    {
      "cell_type": "markdown",
      "source": [
        "**11. Sort the numbers list in ascending order.**"
      ],
      "metadata": {
        "id": "HL_6bKdw_uJM"
      }
    },
    {
      "cell_type": "code",
      "source": [
        "sorted_list = sorted(l1)\n",
        "print(sorted_list)"
      ],
      "metadata": {
        "id": "2WukWgua_xxU",
        "outputId": "a2f27e34-2f82-4a5a-e917-ce7d458e9f9d",
        "colab": {
          "base_uri": "https://localhost:8080/"
        }
      },
      "execution_count": null,
      "outputs": [
        {
          "output_type": "stream",
          "name": "stdout",
          "text": [
            "[1, 2, 4, 5, 6, 7, 8, 9]\n"
          ]
        }
      ]
    },
    {
      "cell_type": "markdown",
      "source": [
        "**12. Create a new list squares containing the square of each number in the numbers list.**"
      ],
      "metadata": {
        "id": "wSlHwtQpAuP9"
      }
    },
    {
      "cell_type": "code",
      "source": [
        "l2 = []\n",
        "for i in l1:\n",
        "  l2.append(i**2)\n",
        "\n",
        "print(f'New squred list is: {l2}')"
      ],
      "metadata": {
        "id": "kHUYpMTLAwdb",
        "outputId": "2a55613d-055d-413d-e9d3-783aa8a5292c",
        "colab": {
          "base_uri": "https://localhost:8080/"
        }
      },
      "execution_count": null,
      "outputs": [
        {
          "output_type": "stream",
          "name": "stdout",
          "text": [
            "New squred list is: [1, 4, 16, 25, 36, 49, 64, 81]\n"
          ]
        }
      ]
    },
    {
      "cell_type": "markdown",
      "source": [
        "**13. Extract a sublist from numbers with elements from index 2 to 4.**"
      ],
      "metadata": {
        "id": "3TQA_f2QknXA"
      }
    },
    {
      "cell_type": "code",
      "source": [
        "l3 = l2[2:5]\n",
        "print(f'elements from index 2 to 4 are: {l3}')"
      ],
      "metadata": {
        "colab": {
          "base_uri": "https://localhost:8080/"
        },
        "id": "xOCxzWSolrq3",
        "outputId": "bedcb2fb-2684-409c-d06d-1e9cc9da33bc"
      },
      "execution_count": null,
      "outputs": [
        {
          "output_type": "stream",
          "name": "stdout",
          "text": [
            "elements from index 2 to 4 are: [16, 25, 36]\n"
          ]
        }
      ]
    },
    {
      "cell_type": "markdown",
      "source": [
        "**14. Create a list of lists, matrix, representing a 2x2 matrix.**"
      ],
      "metadata": {
        "id": "bNuqbPlkl_CO"
      }
    },
    {
      "cell_type": "code",
      "source": [
        "l4 = [[1,2],[3,4]]\n",
        "print(l4)"
      ],
      "metadata": {
        "colab": {
          "base_uri": "https://localhost:8080/"
        },
        "id": "4rquSblDmBMm",
        "outputId": "1ab8078e-5b47-4aa3-b670-1709aedef4e6"
      },
      "execution_count": null,
      "outputs": [
        {
          "output_type": "stream",
          "name": "stdout",
          "text": [
            "[[1, 2], [3, 4]]\n"
          ]
        }
      ]
    },
    {
      "cell_type": "markdown",
      "source": [
        "**15. Flatten the matrix into a single list.**"
      ],
      "metadata": {
        "id": "NIsh0ynVnQdO"
      }
    },
    {
      "cell_type": "code",
      "source": [
        "l4 = [[1, 2], [3, 4]]\n",
        "\n",
        "flattened_list = [item for sublist in l4 for item in sublist]\n",
        "\n",
        "print(flattened_list)\n"
      ],
      "metadata": {
        "colab": {
          "base_uri": "https://localhost:8080/"
        },
        "id": "jAa2Q2ov3c5x",
        "outputId": "c6c7b6fa-e513-4a01-8c52-19dabd31ac7b"
      },
      "execution_count": null,
      "outputs": [
        {
          "output_type": "stream",
          "name": "stdout",
          "text": [
            "[1, 2, 3, 4]\n"
          ]
        }
      ]
    },
    {
      "cell_type": "markdown",
      "source": [
        "16. Use list comprehension to create a list of even numbers from 1 to 10.\n",
        "17. Zip two lists, `names` and `ages`, into a list of tuples.\n",
        "18. Unpack the tuples from the previous question into separate lists.\n",
        "19. Copy the `numbers` list to a new list named `numbers_copy`.\n",
        "20. Clear all elements from the `numbers_copy` list.\n",
        "21. Check if two lists, `list1` and `list2`, are equal.\n",
        "22. Create a list of the first five letters of the alphabet.\n",
        "23. Insert the letter 'X' at index 2 in the alphabet list.\n",
        "24. Remove the last element from the alphabet list.\n",
        "25. Use slicing to get the last three elements of the alphabet list.\n",
        "26. Create a list of 10 zeros using a list comprehension.\n",
        "27. Find the maximum and minimum values in the `numbers` list.\n",
        "28. Remove duplicates from a list `duplicates` while preserving the order.\n",
        "29. Combine two lists, `list1` and `list2`, into a single list.\n",
        "30. Create a list of the squares of even numbers from 1 to 10 using a lambda function and `map`."
      ],
      "metadata": {
        "id": "cb0CLsAa67mL"
      }
    },
    {
      "cell_type": "markdown",
      "source": [
        "**16. Use list comprehension to create a list of even numbers from 1 to 10.**"
      ],
      "metadata": {
        "id": "REs2xKRE6-XA"
      }
    },
    {
      "cell_type": "code",
      "source": [
        "l5 = [i for i in range(1,11) if i%2==0]\n",
        "print(l5)"
      ],
      "metadata": {
        "id": "2WRa2VHK7Dfz",
        "outputId": "50f2ab3f-958c-4ca0-b4e4-07c1b460df43",
        "colab": {
          "base_uri": "https://localhost:8080/"
        }
      },
      "execution_count": null,
      "outputs": [
        {
          "output_type": "stream",
          "name": "stdout",
          "text": [
            "[2, 4, 6, 8, 10]\n"
          ]
        }
      ]
    },
    {
      "cell_type": "markdown",
      "source": [
        "**17. Zip two lists, names and ages, into a list of tuples.**"
      ],
      "metadata": {
        "id": "RqURGb2IBrjD"
      }
    },
    {
      "cell_type": "code",
      "source": [
        "names = ['Samarth', 'Ankit', 'Avishek']\n",
        "ages = [24,24,21]\n",
        "\n",
        "groups = list(zip(names,ages))\n",
        "print(groups)"
      ],
      "metadata": {
        "colab": {
          "base_uri": "https://localhost:8080/"
        },
        "id": "mmrxF7geBtP6",
        "outputId": "d4dbdc6b-9985-4ee9-a256-bb1634f719e8"
      },
      "execution_count": null,
      "outputs": [
        {
          "output_type": "stream",
          "name": "stdout",
          "text": [
            "[('Samarth', 24), ('Ankit', 24), ('Avishek', 21)]\n"
          ]
        }
      ]
    },
    {
      "cell_type": "markdown",
      "source": [
        "**18. Unpack the tuples from the previous question into separate lists.**"
      ],
      "metadata": {
        "id": "F3DZAf1JCmVk"
      }
    },
    {
      "cell_type": "code",
      "source": [
        "ungroup = list(zip(*groups))\n",
        "print(ungroup)"
      ],
      "metadata": {
        "colab": {
          "base_uri": "https://localhost:8080/"
        },
        "id": "zNpYIvh8CoWq",
        "outputId": "62e82118-98a1-4540-88a2-33a1ba3889fe"
      },
      "execution_count": null,
      "outputs": [
        {
          "output_type": "stream",
          "name": "stdout",
          "text": [
            "[('Samarth', 'Ankit', 'Avishek'), (24, 24, 21)]\n"
          ]
        }
      ]
    },
    {
      "cell_type": "markdown",
      "source": [
        "**19. Copy the numbers list to a new list named numbers_copy.**"
      ],
      "metadata": {
        "id": "gA_HiMJRDZKs"
      }
    },
    {
      "cell_type": "code",
      "source": [
        "numbers_copy = l1.copy()\n",
        "l1.append('new item')\n",
        "print(numbers_copy)\n",
        "print(l1)"
      ],
      "metadata": {
        "id": "T8WuC2QYDdiy",
        "outputId": "8b127cdb-b86d-4efc-9a30-bb0343c713df",
        "colab": {
          "base_uri": "https://localhost:8080/"
        }
      },
      "execution_count": null,
      "outputs": [
        {
          "output_type": "stream",
          "name": "stdout",
          "text": [
            "[1, 2, 4, 5, 6, 7, 8, 9]\n",
            "[1, 2, 4, 5, 6, 7, 8, 9, 'new item']\n"
          ]
        }
      ]
    },
    {
      "cell_type": "markdown",
      "source": [
        "20. Clear all elements from the `numbers_copy` list.\n",
        "21. Check if two lists, `list1` and `list2`, are equal.\n",
        "22. Create a list of the first five letters of the alphabet.\n",
        "23. Insert the letter 'X' at index 2 in the alphabet list.\n",
        "24. Remove the last element from the alphabet list.\n",
        "25. Use slicing to get the last three elements of the alphabet list.\n",
        "26. Create a list of 10 zeros using a list comprehension.\n",
        "27. Find the maximum and minimum values in the `numbers` list.\n",
        "28. Remove duplicates from a list `duplicates` while preserving the order.\n",
        "29. Combine two lists, `list1` and `list2`, into a single list.\n",
        "30. Create a list of the squares of even numbers from 1 to 10 using a lambda function and `map`."
      ],
      "metadata": {
        "id": "7ZErSI841ZVV"
      }
    },
    {
      "cell_type": "markdown",
      "source": [
        "**20. Clear all elements from the numbers_copy list.**"
      ],
      "metadata": {
        "id": "BZdSrhbG1kPm"
      }
    },
    {
      "cell_type": "code",
      "source": [
        "numbers_copy.clear()\n",
        "print(numbers_copy)"
      ],
      "metadata": {
        "id": "LEj0EwhEEECl",
        "outputId": "e28b71c7-8bb9-43e1-b80a-04affadf5bb0",
        "colab": {
          "base_uri": "https://localhost:8080/"
        }
      },
      "execution_count": null,
      "outputs": [
        {
          "output_type": "stream",
          "name": "stdout",
          "text": [
            "[]\n"
          ]
        }
      ]
    },
    {
      "cell_type": "markdown",
      "source": [
        "**21. Check if two lists, list1 and list2, are equal.**"
      ],
      "metadata": {
        "id": "de26zgaGExN7"
      }
    },
    {
      "cell_type": "code",
      "source": [
        "A = [1,2,3,4]\n",
        "B = [1,2,3,4,5]\n",
        "\n",
        "if A == B:\n",
        "  print('Lists are equal.')\n",
        "else:\n",
        "  print('Lists are not equal.')"
      ],
      "metadata": {
        "id": "ZAp3v6avEzjV",
        "outputId": "f2733ea6-0ff2-45cd-c305-e723f7debc05",
        "colab": {
          "base_uri": "https://localhost:8080/"
        }
      },
      "execution_count": null,
      "outputs": [
        {
          "output_type": "stream",
          "name": "stdout",
          "text": [
            "Lists are not equal.\n"
          ]
        }
      ]
    },
    {
      "cell_type": "markdown",
      "source": [
        "**22. Create a list of the first five letters of the alphabet.**"
      ],
      "metadata": {
        "id": "lIPfYtLeEMJz"
      }
    },
    {
      "cell_type": "code",
      "source": [
        "alphabets = ['a','b','c','d','e']\n",
        "print(alphabets)"
      ],
      "metadata": {
        "id": "YjjqtoEmEPD3",
        "outputId": "94ddb260-ef9b-4e51-d8db-99e4e39789b0",
        "colab": {
          "base_uri": "https://localhost:8080/"
        }
      },
      "execution_count": null,
      "outputs": [
        {
          "output_type": "stream",
          "name": "stdout",
          "text": [
            "['a', 'b', 'c', 'd', 'e']\n"
          ]
        }
      ]
    },
    {
      "cell_type": "markdown",
      "source": [
        "**23. Insert the letter 'X' at index 2 in the alphabet list.**"
      ],
      "metadata": {
        "id": "KPUlEPjEEl_m"
      }
    },
    {
      "cell_type": "code",
      "source": [
        "alphabets.insert(2,'X')\n",
        "print(alphabets)"
      ],
      "metadata": {
        "id": "deskozo8EoSy",
        "outputId": "71a7e8f5-f216-464e-e11e-48a209ab711d",
        "colab": {
          "base_uri": "https://localhost:8080/"
        }
      },
      "execution_count": null,
      "outputs": [
        {
          "output_type": "stream",
          "name": "stdout",
          "text": [
            "['a', 'b', 'X', 'c', 'd', 'e']\n"
          ]
        }
      ]
    },
    {
      "cell_type": "markdown",
      "source": [
        "**24. Remove the last element from the alphabet list.**"
      ],
      "metadata": {
        "id": "RMGCp1JpTUIb"
      }
    },
    {
      "cell_type": "code",
      "source": [
        "alphabets.remove('e')\n",
        "print(alphabets)"
      ],
      "metadata": {
        "id": "8TyJgZKaTVww",
        "outputId": "6039e6b1-0b3b-4441-9cd8-022d87bf1f5d",
        "colab": {
          "base_uri": "https://localhost:8080/"
        }
      },
      "execution_count": null,
      "outputs": [
        {
          "output_type": "stream",
          "name": "stdout",
          "text": [
            "['a', 'b', 'X', 'c', 'd']\n"
          ]
        }
      ]
    },
    {
      "cell_type": "markdown",
      "source": [
        "25. Use slicing to get the last three elements of the alphabet list.\n",
        "26. Create a list of 10 zeros using a list comprehension.\n",
        "27. Find the maximum and minimum values in the `numbers` list.\n",
        "28. Remove duplicates from a list `duplicates` while preserving the order.\n",
        "29. Combine two lists, `list1` and `list2`, into a single list.\n",
        "30. Create a list of the squares of even numbers from 1 to 10 using a lambda function and `map`.\n"
      ],
      "metadata": {
        "id": "SDUcfdLy0mlp"
      }
    },
    {
      "cell_type": "markdown",
      "source": [
        "**25. Use slicing to get the last three elements of the alphabet list.**"
      ],
      "metadata": {
        "id": "2uYpF2ID0sEr"
      }
    },
    {
      "cell_type": "code",
      "source": [
        "alphabets\n",
        "print(alphabets[-3:])"
      ],
      "metadata": {
        "id": "Kn2w2CPL0uzj",
        "colab": {
          "base_uri": "https://localhost:8080/"
        },
        "outputId": "b05d7052-e3a9-44a5-db90-fdc959746b2d"
      },
      "execution_count": null,
      "outputs": [
        {
          "output_type": "stream",
          "name": "stdout",
          "text": [
            "['X', 'c', 'd']\n"
          ]
        }
      ]
    },
    {
      "cell_type": "markdown",
      "source": [
        "**26. Create a list of 10 zeros using a list comprehension.**"
      ],
      "metadata": {
        "id": "Uuuj6mkq2p20"
      }
    },
    {
      "cell_type": "code",
      "source": [
        "my_list = [ 0 for i in range(1,11)]\n",
        "print(my_list)"
      ],
      "metadata": {
        "id": "TyoR6oda2tW1",
        "outputId": "f352d7ca-0f21-4b61-8668-f74a25ed8fb0",
        "colab": {
          "base_uri": "https://localhost:8080/"
        }
      },
      "execution_count": null,
      "outputs": [
        {
          "output_type": "stream",
          "name": "stdout",
          "text": [
            "[0, 0, 0, 0, 0, 0, 0, 0, 0, 0]\n"
          ]
        }
      ]
    },
    {
      "cell_type": "markdown",
      "source": [
        "**27. Find the maximum and minimum values in the numbers list.**"
      ],
      "metadata": {
        "id": "6dJABBvM3ic5"
      }
    },
    {
      "cell_type": "code",
      "source": [
        "number_list = [11, 3, 18, 1, 14, 20, 5, 17, 7, 15, 13, 4, 12, 10, 16, 8, 19, 6, 2, 9]\n",
        "min_value = min(number_list)\n",
        "max_value = max(number_list)\n",
        "\n",
        "print(f'the min value is: {min_value} and the max value is: {max_value}')"
      ],
      "metadata": {
        "id": "TfRFxQjI3k0r",
        "outputId": "ea4671c9-1cbf-4bca-f1e9-8bad2c73db8a",
        "colab": {
          "base_uri": "https://localhost:8080/"
        }
      },
      "execution_count": null,
      "outputs": [
        {
          "output_type": "stream",
          "name": "stdout",
          "text": [
            "the min value is: 1 and the max value is: 20\n"
          ]
        }
      ]
    },
    {
      "cell_type": "markdown",
      "source": [
        "**28. Remove duplicates from a list duplicates while preserving the order.**"
      ],
      "metadata": {
        "id": "Sf33qzp2dMRQ"
      }
    },
    {
      "cell_type": "code",
      "source": [],
      "metadata": {
        "id": "x6zCpngMdOxF"
      },
      "execution_count": null,
      "outputs": []
    }
  ]
}