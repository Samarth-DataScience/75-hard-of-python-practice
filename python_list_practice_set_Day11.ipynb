{
  "nbformat": 4,
  "nbformat_minor": 0,
  "metadata": {
    "colab": {
      "provenance": [],
      "include_colab_link": true
    },
    "kernelspec": {
      "name": "python3",
      "display_name": "Python 3"
    },
    "language_info": {
      "name": "python"
    }
  },
  "cells": [
    {
      "cell_type": "markdown",
      "metadata": {
        "id": "view-in-github",
        "colab_type": "text"
      },
      "source": [
        "<a href=\"https://colab.research.google.com/github/Samarth-DataScience/75-hard-of-python-practice/blob/main/python_list_practice_set_Day11.ipynb\" target=\"_parent\"><img src=\"https://colab.research.google.com/assets/colab-badge.svg\" alt=\"Open In Colab\"/></a>"
      ]
    },
    {
      "cell_type": "markdown",
      "source": [
        "Certainly! Here are 30 Python list questions covering a wide range of topics and functions, numbered from 1 to 30:\n",
        "\n",
        "1. Create an empty list named `my_list`.\n",
        "2. Initialize a list `numbers` with integers from 1 to 5.\n",
        "3. Access the third element of the `numbers` list.\n",
        "4. Append the number 6 to the `numbers` list.\n",
        "5. Extend the `numbers` list with another list `[7, 8, 9]`.\n",
        "6. Remove the element with the value 3 from the `numbers` list.\n",
        "7. Check if the value 5 is present in the `numbers` list.\n",
        "8. Find the index of the element with the value 8 in the `numbers` list.\n",
        "9. Count the number of occurrences of 2 in the `numbers` list.\n",
        "10. Reverse the order of elements in the `numbers` list.\n",
        "11. Sort the `numbers` list in ascending order.\n",
        "12. Create a new list `squares` containing the square of each number in the `numbers` list.\n",
        "13. Extract a sublist from `numbers` with elements from index 2 to 4.\n",
        "14. Create a list of lists, `matrix`, representing a 2x2 matrix.\n",
        "15. Flatten the `matrix` into a single list.\n",
        "16. Use list comprehension to create a list of even numbers from 1 to 10.\n",
        "17. Zip two lists, `names` and `ages`, into a list of tuples.\n",
        "18. Unpack the tuples from the previous question into separate lists.\n",
        "19. Copy the `numbers` list to a new list named `numbers_copy`.\n",
        "20. Clear all elements from the `numbers_copy` list.\n",
        "21. Check if two lists, `list1` and `list2`, are equal.\n",
        "22. Create a list of the first five letters of the alphabet.\n",
        "23. Insert the letter 'X' at index 2 in the alphabet list.\n",
        "24. Remove the last element from the alphabet list.\n",
        "25. Use slicing to get the last three elements of the alphabet list.\n",
        "26. Create a list of 10 zeros using a list comprehension.\n",
        "27. Find the maximum and minimum values in the `numbers` list.\n",
        "28. Remove duplicates from a list `duplicates` while preserving the order.\n",
        "29. Combine two lists, `list1` and `list2`, into a single list.\n",
        "30. Create a list of the squares of even numbers from 1 to 10 using a lambda function and `map`."
      ],
      "metadata": {
        "id": "dWPP-PJWwXNL"
      }
    },
    {
      "cell_type": "markdown",
      "source": [
        "**1. Create an empty list named my_list.**"
      ],
      "metadata": {
        "id": "_D1AqCHT52be"
      }
    },
    {
      "cell_type": "code",
      "source": [
        "my_list = []"
      ],
      "metadata": {
        "id": "sCW0jiLB56ER"
      },
      "execution_count": 27,
      "outputs": []
    },
    {
      "cell_type": "markdown",
      "source": [
        "**2. Initialize a list numbers with integers from 1 to 5.**"
      ],
      "metadata": {
        "id": "GpA3JBXi6A0G"
      }
    },
    {
      "cell_type": "code",
      "source": [
        "l1 = [1,2,3,4,5]\n",
        "print(l1)"
      ],
      "metadata": {
        "colab": {
          "base_uri": "https://localhost:8080/"
        },
        "id": "X0pwCpS56DFu",
        "outputId": "140f7561-4a09-4380-d7b8-9fff8bd63fb1"
      },
      "execution_count": 28,
      "outputs": [
        {
          "output_type": "stream",
          "name": "stdout",
          "text": [
            "[1, 2, 3, 4, 5]\n"
          ]
        }
      ]
    },
    {
      "cell_type": "markdown",
      "source": [
        "**3. Access the third element of the numbers list.**"
      ],
      "metadata": {
        "id": "lSmBdmBy8YBs"
      }
    },
    {
      "cell_type": "code",
      "source": [
        "third_element = l1[2]\n",
        "print(third_element)"
      ],
      "metadata": {
        "colab": {
          "base_uri": "https://localhost:8080/"
        },
        "id": "pxo-4JQ68aWU",
        "outputId": "dcfa40cf-25c7-4105-a1c9-db45969a14ff"
      },
      "execution_count": 29,
      "outputs": [
        {
          "output_type": "stream",
          "name": "stdout",
          "text": [
            "3\n"
          ]
        }
      ]
    },
    {
      "cell_type": "markdown",
      "source": [
        "**4. Append the number 6 to the numbers list.**"
      ],
      "metadata": {
        "id": "X1AvMEXJ88O8"
      }
    },
    {
      "cell_type": "code",
      "source": [
        "l1.append(6)\n",
        "print(l1)"
      ],
      "metadata": {
        "colab": {
          "base_uri": "https://localhost:8080/"
        },
        "id": "YE4Z0M2g8_OB",
        "outputId": "f02898ec-48ad-43ca-a83e-1c770737fe50"
      },
      "execution_count": 30,
      "outputs": [
        {
          "output_type": "stream",
          "name": "stdout",
          "text": [
            "[1, 2, 3, 4, 5, 6]\n"
          ]
        }
      ]
    },
    {
      "cell_type": "markdown",
      "source": [
        "**5. Extend the numbers list with another list [7, 8, 9].**"
      ],
      "metadata": {
        "id": "uegO2bBy9IcU"
      }
    },
    {
      "cell_type": "code",
      "source": [
        "l2 = [7,8,9]\n",
        "l1.extend(l2)\n",
        "print(l1)"
      ],
      "metadata": {
        "colab": {
          "base_uri": "https://localhost:8080/"
        },
        "id": "1BHoHO0j9Ktc",
        "outputId": "199271f5-6ef6-4404-90cd-af9953e6796a"
      },
      "execution_count": 31,
      "outputs": [
        {
          "output_type": "stream",
          "name": "stdout",
          "text": [
            "[1, 2, 3, 4, 5, 6, 7, 8, 9]\n"
          ]
        }
      ]
    },
    {
      "cell_type": "markdown",
      "source": [
        "**6. Remove the element with the value 3 from the numbers list.**"
      ],
      "metadata": {
        "id": "9DNfSHN99aDM"
      }
    },
    {
      "cell_type": "code",
      "source": [
        "l1.remove(3)\n",
        "print(l1)"
      ],
      "metadata": {
        "colab": {
          "base_uri": "https://localhost:8080/"
        },
        "id": "r3jo6fd59cXM",
        "outputId": "8b9c3d2d-4352-4a93-cd51-84d5a5451766"
      },
      "execution_count": 32,
      "outputs": [
        {
          "output_type": "stream",
          "name": "stdout",
          "text": [
            "[1, 2, 4, 5, 6, 7, 8, 9]\n"
          ]
        }
      ]
    },
    {
      "cell_type": "markdown",
      "source": [
        "**7. Check if the value 5 is present in the numbers list.**"
      ],
      "metadata": {
        "id": "D2Fa2EEh9p9M"
      }
    },
    {
      "cell_type": "code",
      "source": [
        "if 5 in l1:\n",
        "  print('value 5 is available')"
      ],
      "metadata": {
        "colab": {
          "base_uri": "https://localhost:8080/"
        },
        "id": "m-u9RvtC9sWk",
        "outputId": "c2c6970f-5797-450e-ca45-932c54e66b67"
      },
      "execution_count": 33,
      "outputs": [
        {
          "output_type": "stream",
          "name": "stdout",
          "text": [
            "value 5 is available\n"
          ]
        }
      ]
    },
    {
      "cell_type": "markdown",
      "source": [
        "**8. Find the index of the element with the value 8 in the numbers list.**"
      ],
      "metadata": {
        "id": "GJGkJFmv96oD"
      }
    },
    {
      "cell_type": "code",
      "source": [
        "index = l1.index(8)\n",
        "print(index)"
      ],
      "metadata": {
        "colab": {
          "base_uri": "https://localhost:8080/"
        },
        "id": "h2B9AzEU98ct",
        "outputId": "a113f8dd-4716-4253-daa1-2d28057fe88e"
      },
      "execution_count": 34,
      "outputs": [
        {
          "output_type": "stream",
          "name": "stdout",
          "text": [
            "6\n"
          ]
        }
      ]
    },
    {
      "cell_type": "markdown",
      "source": [
        "**9. Count the number of occurrences of 2 in the numbers list.**"
      ],
      "metadata": {
        "id": "RaBKnZGK-piE"
      }
    },
    {
      "cell_type": "code",
      "source": [
        "occurence = l1.count(2)\n",
        "print(f'The total number of occureance of 2 is: {occurence}')"
      ],
      "metadata": {
        "id": "bNJYx0KS-rQ0",
        "outputId": "c26052f1-af7e-4fb6-e956-65d2d3672578",
        "colab": {
          "base_uri": "https://localhost:8080/"
        }
      },
      "execution_count": 35,
      "outputs": [
        {
          "output_type": "stream",
          "name": "stdout",
          "text": [
            "The total number of occureance of 2 is: 1\n"
          ]
        }
      ]
    },
    {
      "cell_type": "markdown",
      "source": [
        "**10. Reverse the order of elements in the numbers list.**"
      ],
      "metadata": {
        "id": "FOvq3qzI_Cab"
      }
    },
    {
      "cell_type": "code",
      "source": [
        "reverse_element = l1[::-1]\n",
        "print(reverse_element)"
      ],
      "metadata": {
        "id": "umX_t-oc_Ejb",
        "outputId": "68acd6a5-4a23-4fcc-a1b5-7ef05571005e",
        "colab": {
          "base_uri": "https://localhost:8080/"
        }
      },
      "execution_count": 36,
      "outputs": [
        {
          "output_type": "stream",
          "name": "stdout",
          "text": [
            "[9, 8, 7, 6, 5, 4, 2, 1]\n"
          ]
        }
      ]
    },
    {
      "cell_type": "markdown",
      "source": [
        "11. Sort the `numbers` list in ascending order.\n",
        "12. Create a new list `squares` containing the square of each number in the `numbers` list.\n",
        "13. Extract a sublist from `numbers` with elements from index 2 to 4.\n",
        "14. Create a list of lists, `matrix`, representing a 2x2 matrix.\n",
        "15. Flatten the `matrix` into a single list.\n",
        "16. Use list comprehension to create a list of even numbers from 1 to 10.\n",
        "17. Zip two lists, `names` and `ages`, into a list of tuples.\n",
        "18. Unpack the tuples from the previous question into separate lists.\n",
        "19. Copy the `numbers` list to a new list named `numbers_copy`.\n",
        "20. Clear all elements from the `numbers_copy` list.\n",
        "21. Check if two lists, `list1` and `list2`, are equal.\n",
        "22. Create a list of the first five letters of the alphabet.\n",
        "23. Insert the letter 'X' at index 2 in the alphabet list.\n",
        "24. Remove the last element from the alphabet list.\n",
        "25. Use slicing to get the last three elements of the alphabet list.\n",
        "26. Create a list of 10 zeros using a list comprehension.\n",
        "27. Find the maximum and minimum values in the `numbers` list.\n",
        "28. Remove duplicates from a list `duplicates` while preserving the order.\n",
        "29. Combine two lists, `list1` and `list2`, into a single list.\n",
        "30. Create a list of the squares of even numbers from 1 to 10 using a lambda function and `map`."
      ],
      "metadata": {
        "id": "aH0FatEk_siT"
      }
    },
    {
      "cell_type": "markdown",
      "source": [
        "**11. Sort the numbers list in ascending order.**"
      ],
      "metadata": {
        "id": "HL_6bKdw_uJM"
      }
    },
    {
      "cell_type": "code",
      "source": [
        "sorted_list = sorted(l1)\n",
        "print(sorted_list)"
      ],
      "metadata": {
        "id": "2WukWgua_xxU",
        "outputId": "6461ae5d-4351-499d-cfab-7ecd23cb3c33",
        "colab": {
          "base_uri": "https://localhost:8080/"
        }
      },
      "execution_count": 37,
      "outputs": [
        {
          "output_type": "stream",
          "name": "stdout",
          "text": [
            "[1, 2, 4, 5, 6, 7, 8, 9]\n"
          ]
        }
      ]
    },
    {
      "cell_type": "markdown",
      "source": [
        "**12. Create a new list squares containing the square of each number in the numbers list.**"
      ],
      "metadata": {
        "id": "wSlHwtQpAuP9"
      }
    },
    {
      "cell_type": "code",
      "source": [
        "l2 = []\n",
        "for i in l1:\n",
        "  l2.append(i**2)\n",
        "\n",
        "print(f'New squred list is: {l2}')"
      ],
      "metadata": {
        "id": "kHUYpMTLAwdb",
        "outputId": "df80bdbf-14dc-4533-cd7b-d86f21a6415c",
        "colab": {
          "base_uri": "https://localhost:8080/"
        }
      },
      "execution_count": 38,
      "outputs": [
        {
          "output_type": "stream",
          "name": "stdout",
          "text": [
            "New squred list is: [1, 4, 16, 25, 36, 49, 64, 81]\n"
          ]
        }
      ]
    },
    {
      "cell_type": "markdown",
      "source": [
        "**13. Extract a sublist from numbers with elements from index 2 to 4.**"
      ],
      "metadata": {
        "id": "3TQA_f2QknXA"
      }
    },
    {
      "cell_type": "code",
      "source": [
        "l3 = l2[2:5]\n",
        "print(f'elements from index 2 to 4 are: {l3}')"
      ],
      "metadata": {
        "colab": {
          "base_uri": "https://localhost:8080/"
        },
        "id": "xOCxzWSolrq3",
        "outputId": "c4fbb725-51a3-4316-82bc-578194e3be66"
      },
      "execution_count": 39,
      "outputs": [
        {
          "output_type": "stream",
          "name": "stdout",
          "text": [
            "elements from index 2 to 4 are: [16, 25, 36]\n"
          ]
        }
      ]
    },
    {
      "cell_type": "markdown",
      "source": [
        "**14. Create a list of lists, matrix, representing a 2x2 matrix.**"
      ],
      "metadata": {
        "id": "bNuqbPlkl_CO"
      }
    },
    {
      "cell_type": "code",
      "source": [
        "l4 = [[1,2],[3,4]]\n",
        "print(l4)"
      ],
      "metadata": {
        "colab": {
          "base_uri": "https://localhost:8080/"
        },
        "id": "4rquSblDmBMm",
        "outputId": "b1c3a52f-225c-4126-9ae5-dcc106241f81"
      },
      "execution_count": 40,
      "outputs": [
        {
          "output_type": "stream",
          "name": "stdout",
          "text": [
            "[[1, 2], [3, 4]]\n"
          ]
        }
      ]
    },
    {
      "cell_type": "markdown",
      "source": [
        "**15. Flatten the matrix into a single list.**"
      ],
      "metadata": {
        "id": "NIsh0ynVnQdO"
      }
    },
    {
      "cell_type": "code",
      "source": [
        "l4 = [[1, 2], [3, 4]]\n",
        "\n",
        "flattened_list = [item for sublist in l4 for item in sublist]\n",
        "\n",
        "print(flattened_list)\n"
      ],
      "metadata": {
        "colab": {
          "base_uri": "https://localhost:8080/"
        },
        "id": "jAa2Q2ov3c5x",
        "outputId": "156248ca-5424-4e35-8040-9f8daaa81f25"
      },
      "execution_count": 41,
      "outputs": [
        {
          "output_type": "stream",
          "name": "stdout",
          "text": [
            "[1, 2, 3, 4]\n"
          ]
        }
      ]
    },
    {
      "cell_type": "markdown",
      "source": [
        "16. Use list comprehension to create a list of even numbers from 1 to 10.\n",
        "17. Zip two lists, `names` and `ages`, into a list of tuples.\n",
        "18. Unpack the tuples from the previous question into separate lists.\n",
        "19. Copy the `numbers` list to a new list named `numbers_copy`.\n",
        "20. Clear all elements from the `numbers_copy` list.\n",
        "21. Check if two lists, `list1` and `list2`, are equal.\n",
        "22. Create a list of the first five letters of the alphabet.\n",
        "23. Insert the letter 'X' at index 2 in the alphabet list.\n",
        "24. Remove the last element from the alphabet list.\n",
        "25. Use slicing to get the last three elements of the alphabet list.\n",
        "26. Create a list of 10 zeros using a list comprehension.\n",
        "27. Find the maximum and minimum values in the `numbers` list.\n",
        "28. Remove duplicates from a list `duplicates` while preserving the order.\n",
        "29. Combine two lists, `list1` and `list2`, into a single list.\n",
        "30. Create a list of the squares of even numbers from 1 to 10 using a lambda function and `map`."
      ],
      "metadata": {
        "id": "cb0CLsAa67mL"
      }
    },
    {
      "cell_type": "markdown",
      "source": [
        "**16. Use list comprehension to create a list of even numbers from 1 to 10.**"
      ],
      "metadata": {
        "id": "REs2xKRE6-XA"
      }
    },
    {
      "cell_type": "code",
      "source": [
        "l5 = [i for i in range(1,11) if i%2==0]\n",
        "print(l5)"
      ],
      "metadata": {
        "id": "2WRa2VHK7Dfz",
        "outputId": "0af6de33-a4ee-4b67-d192-e865e8c60390",
        "colab": {
          "base_uri": "https://localhost:8080/"
        }
      },
      "execution_count": 42,
      "outputs": [
        {
          "output_type": "stream",
          "name": "stdout",
          "text": [
            "[2, 4, 6, 8, 10]\n"
          ]
        }
      ]
    },
    {
      "cell_type": "markdown",
      "source": [
        "**17. Zip two lists, names and ages, into a list of tuples.**"
      ],
      "metadata": {
        "id": "RqURGb2IBrjD"
      }
    },
    {
      "cell_type": "code",
      "source": [
        "names = ['Samarth', 'Ankit', 'Avishek']\n",
        "ages = [24,24,21]\n",
        "\n",
        "groups = list(zip(names,ages))\n",
        "print(groups)"
      ],
      "metadata": {
        "colab": {
          "base_uri": "https://localhost:8080/"
        },
        "id": "mmrxF7geBtP6",
        "outputId": "8ca5ef52-669c-47ea-9941-d413401a5bec"
      },
      "execution_count": 43,
      "outputs": [
        {
          "output_type": "stream",
          "name": "stdout",
          "text": [
            "[('Samarth', 24), ('Ankit', 24), ('Avishek', 21)]\n"
          ]
        }
      ]
    },
    {
      "cell_type": "markdown",
      "source": [
        "**18. Unpack the tuples from the previous question into separate lists.**"
      ],
      "metadata": {
        "id": "F3DZAf1JCmVk"
      }
    },
    {
      "cell_type": "code",
      "source": [
        "ungroup = list(zip(*groups))\n",
        "print(ungroup)"
      ],
      "metadata": {
        "colab": {
          "base_uri": "https://localhost:8080/"
        },
        "id": "zNpYIvh8CoWq",
        "outputId": "f295d565-cc5a-4f2f-cd56-ae9386ae8957"
      },
      "execution_count": 44,
      "outputs": [
        {
          "output_type": "stream",
          "name": "stdout",
          "text": [
            "[('Samarth', 'Ankit', 'Avishek'), (24, 24, 21)]\n"
          ]
        }
      ]
    },
    {
      "cell_type": "markdown",
      "source": [
        "**19. Copy the numbers list to a new list named numbers_copy.**"
      ],
      "metadata": {
        "id": "gA_HiMJRDZKs"
      }
    },
    {
      "cell_type": "code",
      "source": [
        "numbers_copy = l1.copy()\n",
        "l1.append('new item')\n",
        "print(numbers_copy)\n",
        "print(l1)"
      ],
      "metadata": {
        "id": "T8WuC2QYDdiy",
        "outputId": "daec66fd-c131-47e4-de8d-c3d72fe0a28a",
        "colab": {
          "base_uri": "https://localhost:8080/"
        }
      },
      "execution_count": 45,
      "outputs": [
        {
          "output_type": "stream",
          "name": "stdout",
          "text": [
            "[1, 2, 4, 5, 6, 7, 8, 9]\n",
            "[1, 2, 4, 5, 6, 7, 8, 9, 'new item']\n"
          ]
        }
      ]
    },
    {
      "cell_type": "markdown",
      "source": [
        "20. Clear all elements from the `numbers_copy` list.\n",
        "21. Check if two lists, `list1` and `list2`, are equal.\n",
        "22. Create a list of the first five letters of the alphabet.\n",
        "23. Insert the letter 'X' at index 2 in the alphabet list.\n",
        "24. Remove the last element from the alphabet list.\n",
        "25. Use slicing to get the last three elements of the alphabet list.\n",
        "26. Create a list of 10 zeros using a list comprehension.\n",
        "27. Find the maximum and minimum values in the `numbers` list.\n",
        "28. Remove duplicates from a list `duplicates` while preserving the order.\n",
        "29. Combine two lists, `list1` and `list2`, into a single list.\n",
        "30. Create a list of the squares of even numbers from 1 to 10 using a lambda function and `map`."
      ],
      "metadata": {
        "id": "7ZErSI841ZVV"
      }
    },
    {
      "cell_type": "markdown",
      "source": [
        "**20. Clear all elements from the numbers_copy list.**"
      ],
      "metadata": {
        "id": "BZdSrhbG1kPm"
      }
    },
    {
      "cell_type": "code",
      "source": [
        "numbers_copy.clear()\n",
        "print(numbers_copy)"
      ],
      "metadata": {
        "id": "LEj0EwhEEECl",
        "outputId": "bba62845-2b82-4759-c0c3-3b8a3717887e",
        "colab": {
          "base_uri": "https://localhost:8080/"
        }
      },
      "execution_count": 46,
      "outputs": [
        {
          "output_type": "stream",
          "name": "stdout",
          "text": [
            "[]\n"
          ]
        }
      ]
    },
    {
      "cell_type": "markdown",
      "source": [
        "**21. Check if two lists, list1 and list2, are equal.**"
      ],
      "metadata": {
        "id": "de26zgaGExN7"
      }
    },
    {
      "cell_type": "code",
      "source": [
        "A = [1,2,3,4]\n",
        "B = [1,2,3,4,5]\n",
        "\n",
        "if A == B:\n",
        "  print('Lists are equal.')\n",
        "else:\n",
        "  print('Lists are not equal.')"
      ],
      "metadata": {
        "id": "ZAp3v6avEzjV",
        "outputId": "82a53937-029a-4117-b9ec-894600a680af",
        "colab": {
          "base_uri": "https://localhost:8080/"
        }
      },
      "execution_count": 48,
      "outputs": [
        {
          "output_type": "stream",
          "name": "stdout",
          "text": [
            "Lists are not equal.\n"
          ]
        }
      ]
    },
    {
      "cell_type": "markdown",
      "source": [
        "**22. Create a list of the first five letters of the alphabet.**"
      ],
      "metadata": {
        "id": "lIPfYtLeEMJz"
      }
    },
    {
      "cell_type": "code",
      "source": [
        "alphabets = ['a','b','c','d','e']\n",
        "print(alphabets)"
      ],
      "metadata": {
        "id": "YjjqtoEmEPD3",
        "outputId": "ba5d85c5-ac66-4fd8-99d4-ca5e487c318c",
        "colab": {
          "base_uri": "https://localhost:8080/"
        }
      },
      "execution_count": 47,
      "outputs": [
        {
          "output_type": "stream",
          "name": "stdout",
          "text": [
            "['a', 'b', 'c', 'd', 'e']\n"
          ]
        }
      ]
    },
    {
      "cell_type": "markdown",
      "source": [
        "**23. Insert the letter 'X' at index 2 in the alphabet list.**"
      ],
      "metadata": {
        "id": "KPUlEPjEEl_m"
      }
    },
    {
      "cell_type": "code",
      "source": [
        "alphabets.insert(2,'X')\n",
        "print(alphabets)"
      ],
      "metadata": {
        "id": "deskozo8EoSy",
        "outputId": "5f0e8c3c-f0b5-4e62-f411-9bc80b694909",
        "colab": {
          "base_uri": "https://localhost:8080/"
        }
      },
      "execution_count": 49,
      "outputs": [
        {
          "output_type": "stream",
          "name": "stdout",
          "text": [
            "['a', 'b', 'X', 'c', 'd', 'e']\n"
          ]
        }
      ]
    }
  ]
}