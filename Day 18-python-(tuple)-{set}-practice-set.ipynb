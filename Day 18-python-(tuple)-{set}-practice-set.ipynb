{
  "nbformat": 4,
  "nbformat_minor": 0,
  "metadata": {
    "colab": {
      "provenance": [],
      "toc_visible": true,
      "include_colab_link": true
    },
    "kernelspec": {
      "name": "python3",
      "display_name": "Python 3"
    },
    "language_info": {
      "name": "python"
    }
  },
  "cells": [
    {
      "cell_type": "markdown",
      "metadata": {
        "id": "view-in-github",
        "colab_type": "text"
      },
      "source": [
        "<a href=\"https://colab.research.google.com/github/Samarth-DataScience/75-hard-of-python-practice/blob/main/Day%2018-python-(tuple)-%7Bset%7D-practice-set.ipynb\" target=\"_parent\"><img src=\"https://colab.research.google.com/assets/colab-badge.svg\" alt=\"Open In Colab\"/></a>"
      ]
    },
    {
      "cell_type": "markdown",
      "source": [
        "\n",
        "1. Create an empty tuple.\n",
        "2. Define a tuple with three elements of different data types.\n",
        "3. Access the second element of a tuple.\n",
        "4. Concatenate two tuples.\n",
        "5. Check if an element exists in a tuple.\n",
        "6. Find the length of a tuple.\n",
        "7. Create a tuple with a nested tuple.\n",
        "8. Convert a list to a tuple.\n",
        "9. Extract the last three elements of a tuple.\n",
        "10. Count the occurrences of a specific element in a tuple.\n",
        "11. Create an empty set.\n",
        "12. Define a set with five integer elements.\n",
        "13. Add an element to a set.\n",
        "14. Remove an element from a set.\n",
        "15. Check if two sets have any common elements.\n",
        "16. Find the union of two sets.\n",
        "17. Get the intersection of two sets.\n",
        "18. Check if a set is a subset of another set.\n",
        "19. Remove all elements from a set.\n",
        "20. Convert a list to a set.\n",
        "21. Create a string with your name.\n",
        "22. Concatenate two strings.\n",
        "23. Access the third character of a string.\n",
        "24. Convert a string to uppercase.\n",
        "25. Check if a substring is present in a string.\n",
        "26. Replace a specific substring in a string.\n",
        "27. Find the length of a string.\n",
        "28. Count the occurrences of a particular character in a string.\n",
        "29. Check if a string is numeric.\n",
        "30. Reverse a string.\n"
      ],
      "metadata": {
        "id": "XgmRaS-brDE3"
      }
    },
    {
      "cell_type": "markdown",
      "source": [
        "**1. Create an empty tuple.**"
      ],
      "metadata": {
        "id": "oGgN-aIdrOf_"
      }
    },
    {
      "cell_type": "code",
      "source": [
        "empty_tuple = tuple()\n",
        "print(type(empty_tuple))"
      ],
      "metadata": {
        "id": "IgS0524xsRT9",
        "outputId": "ffb206df-201a-4f3a-edd8-403c15652a6f",
        "colab": {
          "base_uri": "https://localhost:8080/"
        }
      },
      "execution_count": null,
      "outputs": [
        {
          "output_type": "stream",
          "name": "stdout",
          "text": [
            "<class 'tuple'>\n"
          ]
        }
      ]
    },
    {
      "cell_type": "markdown",
      "source": [
        "**2. Define a tuple with three elements of different data types.**"
      ],
      "metadata": {
        "id": "eaQBwn9LshVz"
      }
    },
    {
      "cell_type": "code",
      "source": [
        "t1 = (2,3.5,'Different Data Types')\n",
        "print(t1)\n",
        "print(type(t1))"
      ],
      "metadata": {
        "id": "JlwkFvk5sbI4",
        "outputId": "699f1f95-c607-4a31-95c8-5a6159ca085e",
        "colab": {
          "base_uri": "https://localhost:8080/"
        }
      },
      "execution_count": null,
      "outputs": [
        {
          "output_type": "stream",
          "name": "stdout",
          "text": [
            "(2, 3.5, 'Different Data Types')\n",
            "<class 'tuple'>\n"
          ]
        }
      ]
    },
    {
      "cell_type": "markdown",
      "source": [
        "**3. Access the second element of a tuple.**"
      ],
      "metadata": {
        "id": "dcWPzAk2vjzf"
      }
    },
    {
      "cell_type": "code",
      "source": [
        "print(f'The second element of the tuple is {t1[1]}')"
      ],
      "metadata": {
        "colab": {
          "base_uri": "https://localhost:8080/"
        },
        "id": "ETz9obn5vog3",
        "outputId": "309a1a01-a97f-4d72-a68b-20cbb30b75b6"
      },
      "execution_count": null,
      "outputs": [
        {
          "output_type": "stream",
          "name": "stdout",
          "text": [
            "The second element of the tuple is 3.5\n"
          ]
        }
      ]
    },
    {
      "cell_type": "markdown",
      "source": [
        "**4. Concatenate two tuples.**"
      ],
      "metadata": {
        "id": "FMgXhDvmv4Kf"
      }
    },
    {
      "cell_type": "code",
      "source": [
        "t2 = (1,2,3,4,5,6)\n",
        "t3 = t1+t2\n",
        "print(t3)"
      ],
      "metadata": {
        "colab": {
          "base_uri": "https://localhost:8080/"
        },
        "id": "2ODBNG-ov6TP",
        "outputId": "da382301-14b3-43b4-8ab3-35d31d2048f1"
      },
      "execution_count": null,
      "outputs": [
        {
          "output_type": "stream",
          "name": "stdout",
          "text": [
            "(2, 3.5, 'Different Data Types', 1, 2, 3, 4, 5, 6)\n"
          ]
        }
      ]
    },
    {
      "cell_type": "markdown",
      "source": [
        "**5. Check if an element exists in a tuple.**"
      ],
      "metadata": {
        "id": "5qnpcfk_ydQx"
      }
    },
    {
      "cell_type": "code",
      "source": [
        "if 2 in t2:\n",
        "  print('Item found')\n",
        "else:\n",
        "  print('Item does not exist')"
      ],
      "metadata": {
        "colab": {
          "base_uri": "https://localhost:8080/"
        },
        "id": "akYc6m4syflI",
        "outputId": "dad08588-d233-43d5-b27a-459ebfcc7c07"
      },
      "execution_count": null,
      "outputs": [
        {
          "output_type": "stream",
          "name": "stdout",
          "text": [
            "Item found\n"
          ]
        }
      ]
    },
    {
      "cell_type": "markdown",
      "source": [
        "**6. Find the length of a tuple.**"
      ],
      "metadata": {
        "id": "jedvwzT00AZf"
      }
    },
    {
      "cell_type": "code",
      "source": [
        "print(f'The length of a tuple is: {len(t2)}')"
      ],
      "metadata": {
        "colab": {
          "base_uri": "https://localhost:8080/"
        },
        "id": "aHpOWSR70Cy_",
        "outputId": "0fdb03f9-f8f7-4512-a248-9d7fb7182c93"
      },
      "execution_count": null,
      "outputs": [
        {
          "output_type": "stream",
          "name": "stdout",
          "text": [
            "The length of a tuple is: 6\n"
          ]
        }
      ]
    },
    {
      "cell_type": "markdown",
      "source": [
        "**7. Create a tuple with a nested tuple.**"
      ],
      "metadata": {
        "id": "CcCxgqsDw4hK"
      }
    },
    {
      "cell_type": "code",
      "source": [
        "t3 = (1,2,(3,4),(5,6,7))\n",
        "print(t3)"
      ],
      "metadata": {
        "colab": {
          "base_uri": "https://localhost:8080/"
        },
        "id": "WoRHB2Yiw6dZ",
        "outputId": "925223cf-9275-4b80-9daf-4cdd4624c3ab"
      },
      "execution_count": null,
      "outputs": [
        {
          "output_type": "stream",
          "name": "stdout",
          "text": [
            "(1, 2, (3, 4), (5, 6, 7))\n"
          ]
        }
      ]
    },
    {
      "cell_type": "markdown",
      "source": [
        "**8. Convert a list to a tuple.**"
      ],
      "metadata": {
        "id": "SOmLQHU-xL-i"
      }
    },
    {
      "cell_type": "code",
      "source": [
        "l1 = [1,2,3,4,5,6,5]\n",
        "print(f'list: {l1}')\n",
        "t1 = tuple(l1)\n",
        "print(f'tuple: {t1}')"
      ],
      "metadata": {
        "colab": {
          "base_uri": "https://localhost:8080/"
        },
        "id": "tta2WR6OxOw6",
        "outputId": "d6a415c1-9a11-45cb-b4c2-4b98c5a7eedf"
      },
      "execution_count": null,
      "outputs": [
        {
          "output_type": "stream",
          "name": "stdout",
          "text": [
            "list: [1, 2, 3, 4, 5, 6, 5]\n",
            "tuple: (1, 2, 3, 4, 5, 6, 5)\n"
          ]
        }
      ]
    },
    {
      "cell_type": "markdown",
      "source": [
        "**9. Extract the last three elements of a tuple.**"
      ],
      "metadata": {
        "id": "anHKMOI1x2zE"
      }
    },
    {
      "cell_type": "code",
      "source": [
        "print(t1[-3:])"
      ],
      "metadata": {
        "colab": {
          "base_uri": "https://localhost:8080/"
        },
        "id": "RZFv1u9Ox4lz",
        "outputId": "5746287b-8e91-4783-c168-9e218d00d243"
      },
      "execution_count": null,
      "outputs": [
        {
          "output_type": "stream",
          "name": "stdout",
          "text": [
            "(5, 6, 5)\n"
          ]
        }
      ]
    },
    {
      "cell_type": "markdown",
      "source": [
        "10. Count the occurrences of a specific element in a tuple."
      ],
      "metadata": {
        "id": "BmhmkfqDybz2"
      }
    },
    {
      "cell_type": "code",
      "source": [
        "element = int(input('Enter the element you want to find out: '))\n",
        "count_element = t1.count(element)\n",
        "print(f'Total count of the element is/are: {count_element}')"
      ],
      "metadata": {
        "colab": {
          "base_uri": "https://localhost:8080/"
        },
        "id": "9jjAg49wyeBn",
        "outputId": "97cbf3e6-57f8-47a5-e498-9637aeafcfdf"
      },
      "execution_count": null,
      "outputs": [
        {
          "output_type": "stream",
          "name": "stdout",
          "text": [
            "Enter the element you want to find out: 3\n",
            "Total count of the element is/are: 1\n"
          ]
        }
      ]
    },
    {
      "cell_type": "markdown",
      "source": [
        "11. Create an empty set.\n",
        "12. Define a set with five integer elements.\n",
        "13. Add an element to a set.\n",
        "14. Remove an element from a set.\n",
        "15. Check if two sets have any common elements.\n",
        "16. Find the union of two sets.\n",
        "17. Get the intersection of two sets.\n",
        "18. Check if a set is a subset of another set.\n",
        "19. Remove all elements from a set.\n",
        "20. Convert a list to a set.\n",
        "21. Create a string with your name.\n",
        "22. Concatenate two strings.\n",
        "23. Access the third character of a string.\n",
        "24. Convert a string to uppercase.\n",
        "25. Check if a substring is present in a string.\n",
        "26. Replace a specific substring in a string.\n",
        "27. Find the length of a string.\n",
        "28. Count the occurrences of a particular character in a string.\n",
        "29. Check if a string is numeric.\n",
        "30. Reverse a string."
      ],
      "metadata": {
        "id": "xaQre7SQzZCZ"
      }
    },
    {
      "cell_type": "markdown",
      "source": [
        "**11. Create an empty set.**"
      ],
      "metadata": {
        "id": "DFqPlq5GzbQx"
      }
    },
    {
      "cell_type": "code",
      "source": [
        "empty_set = set()\n",
        "print(empty_set)\n",
        "print(type(empty_set))"
      ],
      "metadata": {
        "colab": {
          "base_uri": "https://localhost:8080/"
        },
        "id": "ey7e4-6lzcR6",
        "outputId": "7a6c72d3-8a31-4b3b-a229-c700e8661f67"
      },
      "execution_count": null,
      "outputs": [
        {
          "output_type": "stream",
          "name": "stdout",
          "text": [
            "set()\n",
            "<class 'set'>\n"
          ]
        }
      ]
    },
    {
      "cell_type": "markdown",
      "source": [
        "**12. Define a set with five integer elements.**"
      ],
      "metadata": {
        "id": "zBDH-CTKPmJy"
      }
    },
    {
      "cell_type": "code",
      "source": [
        "s1 = {1,2,3,4,5}\n",
        "print(s1)"
      ],
      "metadata": {
        "colab": {
          "base_uri": "https://localhost:8080/"
        },
        "id": "4r7MfGq4PoYS",
        "outputId": "efcc2975-2c34-4de1-cb20-a80b955c88ec"
      },
      "execution_count": null,
      "outputs": [
        {
          "output_type": "stream",
          "name": "stdout",
          "text": [
            "{1, 2, 3, 4, 5}\n"
          ]
        }
      ]
    },
    {
      "cell_type": "markdown",
      "source": [
        "**13. Add an element to a set.**"
      ],
      "metadata": {
        "id": "SnDLXtYsPx5S"
      }
    },
    {
      "cell_type": "code",
      "source": [
        "s1.add(6)\n",
        "print(s1)"
      ],
      "metadata": {
        "colab": {
          "base_uri": "https://localhost:8080/"
        },
        "id": "n_Rtf2_aP0A6",
        "outputId": "adcce9a2-a0fd-4414-be20-8f1c332f24e8"
      },
      "execution_count": null,
      "outputs": [
        {
          "output_type": "stream",
          "name": "stdout",
          "text": [
            "{1, 2, 3, 4, 5, 6}\n"
          ]
        }
      ]
    },
    {
      "cell_type": "markdown",
      "source": [
        "**14. Remove an element from a set.**"
      ],
      "metadata": {
        "id": "RUvtp400P-SD"
      }
    },
    {
      "cell_type": "code",
      "source": [
        "s1.remove(5)\n",
        "print(s1)"
      ],
      "metadata": {
        "colab": {
          "base_uri": "https://localhost:8080/"
        },
        "id": "j3HyHtcoP_9K",
        "outputId": "d5d59d14-d288-4a46-f38c-545b77747a45"
      },
      "execution_count": null,
      "outputs": [
        {
          "output_type": "stream",
          "name": "stdout",
          "text": [
            "{1, 2, 3, 4, 6}\n"
          ]
        }
      ]
    },
    {
      "cell_type": "markdown",
      "source": [
        "**15. Check if two sets have any common elements.**"
      ],
      "metadata": {
        "id": "rXiaheUJQHqL"
      }
    },
    {
      "cell_type": "code",
      "source": [
        "s2 = {2,3,4,5,6,7}\n",
        "s3 = s1|s2\n",
        "print(s1)"
      ],
      "metadata": {
        "colab": {
          "base_uri": "https://localhost:8080/"
        },
        "id": "fgz6hddcQJxj",
        "outputId": "43e3c553-6344-44f2-a333-581416541ff0"
      },
      "execution_count": null,
      "outputs": [
        {
          "output_type": "stream",
          "name": "stdout",
          "text": [
            "{1, 2, 3, 4, 6}\n"
          ]
        }
      ]
    },
    {
      "cell_type": "markdown",
      "source": [
        "**16. Find the union of two sets.**"
      ],
      "metadata": {
        "id": "YlLjMazJQoVG"
      }
    },
    {
      "cell_type": "code",
      "source": [
        "s3 = s1 & s2\n",
        "print(f'Uniion of s1 and s2 are: {s3}')"
      ],
      "metadata": {
        "id": "GYW_p6tqQqHW",
        "outputId": "b4554644-94c8-4d59-84ff-b0fb8ab686e5",
        "colab": {
          "base_uri": "https://localhost:8080/"
        }
      },
      "execution_count": null,
      "outputs": [
        {
          "output_type": "stream",
          "name": "stdout",
          "text": [
            "Uniion of s1 and s2 are: {2, 3, 4, 6}\n"
          ]
        }
      ]
    },
    {
      "cell_type": "markdown",
      "source": [
        "**17. Get the intersection of two sets.**"
      ],
      "metadata": {
        "id": "lTuuoM7s2O1t"
      }
    },
    {
      "cell_type": "code",
      "source": [
        "s1.intersection(s2)"
      ],
      "metadata": {
        "colab": {
          "base_uri": "https://localhost:8080/"
        },
        "id": "ee5ygXdp2Q71",
        "outputId": "4f8c934d-19cf-4b90-bf7d-83739b97208f"
      },
      "execution_count": null,
      "outputs": [
        {
          "output_type": "execute_result",
          "data": {
            "text/plain": [
              "{2, 3, 4, 6}"
            ]
          },
          "metadata": {},
          "execution_count": 21
        }
      ]
    },
    {
      "cell_type": "markdown",
      "source": [
        "**18. Check if a set is a subset of another set.**"
      ],
      "metadata": {
        "id": "EzahnCEw3C2n"
      }
    },
    {
      "cell_type": "code",
      "source": [
        "s1.issubset(s2)"
      ],
      "metadata": {
        "colab": {
          "base_uri": "https://localhost:8080/"
        },
        "id": "Lv0hOnrO3Exf",
        "outputId": "3e127ccb-e4c0-4d36-c2c7-f1928a573f9a"
      },
      "execution_count": null,
      "outputs": [
        {
          "output_type": "execute_result",
          "data": {
            "text/plain": [
              "False"
            ]
          },
          "metadata": {},
          "execution_count": 22
        }
      ]
    },
    {
      "cell_type": "markdown",
      "source": [
        "**19. Remove all elements from a set.**"
      ],
      "metadata": {
        "id": "gJw2pkTF3OVH"
      }
    },
    {
      "cell_type": "code",
      "source": [
        "s1.clear()\n",
        "print(s1)"
      ],
      "metadata": {
        "colab": {
          "base_uri": "https://localhost:8080/"
        },
        "id": "OihWhnF83RDX",
        "outputId": "60fd071e-523a-4d49-f40d-56587d328241"
      },
      "execution_count": null,
      "outputs": [
        {
          "output_type": "stream",
          "name": "stdout",
          "text": [
            "set()\n"
          ]
        }
      ]
    },
    {
      "cell_type": "markdown",
      "source": [
        "**20. Convert a list to a set.**"
      ],
      "metadata": {
        "id": "oSjZF3733om4"
      }
    },
    {
      "cell_type": "code",
      "source": [
        "l1 = [2,3,4,5]\n",
        "set1 = set(l1)\n",
        "print(type(set1))"
      ],
      "metadata": {
        "colab": {
          "base_uri": "https://localhost:8080/"
        },
        "id": "_Vw1kOjU3rbw",
        "outputId": "47a4807c-c3cb-4347-bf25-34115cac6405"
      },
      "execution_count": null,
      "outputs": [
        {
          "output_type": "stream",
          "name": "stdout",
          "text": [
            "<class 'set'>\n"
          ]
        }
      ]
    },
    {
      "cell_type": "markdown",
      "source": [
        "**21. Create a string with your name.**"
      ],
      "metadata": {
        "id": "_afes16Y5V9s"
      }
    },
    {
      "cell_type": "code",
      "source": [
        "str1 = str(input('Enter your name to create a string: '))\n",
        "print(str1)\n",
        "print(type(str1))\n"
      ],
      "metadata": {
        "id": "C70POEwU5Xo0",
        "outputId": "3aa0a0da-3a8d-44b0-977c-9906ef8d0347",
        "colab": {
          "base_uri": "https://localhost:8080/"
        }
      },
      "execution_count": null,
      "outputs": [
        {
          "output_type": "stream",
          "name": "stdout",
          "text": [
            "Enter your name to create a string: samarth\n",
            "samarth\n",
            "<class 'str'>\n"
          ]
        }
      ]
    },
    {
      "cell_type": "markdown",
      "source": [
        "22. Concatenate two strings.\n",
        "23. Access the third character of a string.\n",
        "24. Convert a string to uppercase.\n",
        "25. Check if a substring is present in a string.\n",
        "26. Replace a specific substring in a string.\n",
        "27. Find the length of a string.\n",
        "28. Count the occurrences of a particular character in a string.\n",
        "29. Check if a string is numeric.\n",
        "30. Reverse a string."
      ],
      "metadata": {
        "id": "3S6VkyvHHgdX"
      }
    },
    {
      "cell_type": "markdown",
      "source": [
        "**22. Concatenate two strings.**"
      ],
      "metadata": {
        "id": "o-jkPjXkHhn3"
      }
    },
    {
      "cell_type": "code",
      "source": [
        "str1 = [1,2,3,4]\n",
        "str2 = ['Samarth', 'Ankit','Rakesh']\n",
        "\n",
        "str3 = str1 + str2\n",
        "print(str3)"
      ],
      "metadata": {
        "colab": {
          "base_uri": "https://localhost:8080/"
        },
        "id": "JlfLlV2zHnMv",
        "outputId": "966d4ba2-a518-4f7f-b4df-601c8659d089"
      },
      "execution_count": 6,
      "outputs": [
        {
          "output_type": "stream",
          "name": "stdout",
          "text": [
            "[1, 2, 3, 4, 'Samarth', 'Ankit', 'Rakesh']\n"
          ]
        }
      ]
    },
    {
      "cell_type": "markdown",
      "source": [
        "**23. Access the third character of a string.**"
      ],
      "metadata": {
        "id": "81iOZQvjI7w3"
      }
    },
    {
      "cell_type": "code",
      "source": [
        "print(f'The third character of a string is: {str1[2]}')"
      ],
      "metadata": {
        "colab": {
          "base_uri": "https://localhost:8080/"
        },
        "id": "FGTjluiOI9t_",
        "outputId": "df3533c3-2321-4203-b6ad-fea45df6be79"
      },
      "execution_count": 7,
      "outputs": [
        {
          "output_type": "stream",
          "name": "stdout",
          "text": [
            "The third character of a string is: 3\n"
          ]
        }
      ]
    },
    {
      "cell_type": "markdown",
      "source": [
        "**24. Convert a string to uppercase.**"
      ],
      "metadata": {
        "id": "_CeycHt4JV6A"
      }
    },
    {
      "cell_type": "code",
      "source": [
        "str1 = 'Samarth'\n",
        "str1 = str1.upper()\n",
        "print(str1)"
      ],
      "metadata": {
        "colab": {
          "base_uri": "https://localhost:8080/"
        },
        "id": "APxYvhUwJYL3",
        "outputId": "ae2449ea-e96f-432a-c43b-b479a1e49604"
      },
      "execution_count": 9,
      "outputs": [
        {
          "output_type": "stream",
          "name": "stdout",
          "text": [
            "SAMARTH\n"
          ]
        }
      ]
    },
    {
      "cell_type": "markdown",
      "source": [
        "**25. Check if a substring is present in a string.**"
      ],
      "metadata": {
        "id": "JXUVlTiiKKce"
      }
    },
    {
      "cell_type": "code",
      "source": [
        "'s'.capitalize() in str1"
      ],
      "metadata": {
        "colab": {
          "base_uri": "https://localhost:8080/"
        },
        "id": "lwrbriGeKNr_",
        "outputId": "91df3bc1-42b8-41c0-f8be-9b7857b97490"
      },
      "execution_count": 10,
      "outputs": [
        {
          "output_type": "execute_result",
          "data": {
            "text/plain": [
              "True"
            ]
          },
          "metadata": {},
          "execution_count": 10
        }
      ]
    },
    {
      "cell_type": "markdown",
      "source": [
        "**26. Replace a specific substring in a string.**"
      ],
      "metadata": {
        "id": "UkdziH1uKegV"
      }
    },
    {
      "cell_type": "code",
      "source": [
        "str1.replace('S','s')"
      ],
      "metadata": {
        "colab": {
          "base_uri": "https://localhost:8080/",
          "height": 35
        },
        "id": "4aKWl0O9KhV-",
        "outputId": "bc3114f1-1abb-47f6-e8d8-01f41a692cb0"
      },
      "execution_count": 12,
      "outputs": [
        {
          "output_type": "execute_result",
          "data": {
            "text/plain": [
              "'sAMARTH'"
            ],
            "application/vnd.google.colaboratory.intrinsic+json": {
              "type": "string"
            }
          },
          "metadata": {},
          "execution_count": 12
        }
      ]
    },
    {
      "cell_type": "markdown",
      "source": [
        "**27. Find the length of a string.**"
      ],
      "metadata": {
        "id": "pF5wb86YK8dQ"
      }
    },
    {
      "cell_type": "code",
      "source": [
        "len(str1)"
      ],
      "metadata": {
        "id": "iZ9hPzDHK-CX",
        "outputId": "4b3ad72c-8df1-4da6-eebe-b09f22d6235d",
        "colab": {
          "base_uri": "https://localhost:8080/"
        }
      },
      "execution_count": 13,
      "outputs": [
        {
          "output_type": "execute_result",
          "data": {
            "text/plain": [
              "7"
            ]
          },
          "metadata": {},
          "execution_count": 13
        }
      ]
    },
    {
      "cell_type": "markdown",
      "source": [
        "**28. Count the occurrences of a particular character in a string.**"
      ],
      "metadata": {
        "id": "PUdScbijLEte"
      }
    },
    {
      "cell_type": "code",
      "source": [
        "str1.count('A')"
      ],
      "metadata": {
        "id": "q6pWhSiCLG2o",
        "outputId": "81bbf8d1-e5a6-4b58-ed12-314bafe30adc",
        "colab": {
          "base_uri": "https://localhost:8080/"
        }
      },
      "execution_count": 15,
      "outputs": [
        {
          "output_type": "execute_result",
          "data": {
            "text/plain": [
              "2"
            ]
          },
          "metadata": {},
          "execution_count": 15
        }
      ]
    },
    {
      "cell_type": "markdown",
      "source": [
        "**29. Check if a string is numeric.**"
      ],
      "metadata": {
        "id": "9zqG7L1hLPK2"
      }
    },
    {
      "cell_type": "code",
      "source": [
        "str1.isnumeric()"
      ],
      "metadata": {
        "id": "rlfcZHE0LQfW",
        "outputId": "a486ce1e-209a-416b-cb62-360e9bb61517",
        "colab": {
          "base_uri": "https://localhost:8080/"
        }
      },
      "execution_count": 17,
      "outputs": [
        {
          "output_type": "execute_result",
          "data": {
            "text/plain": [
              "False"
            ]
          },
          "metadata": {},
          "execution_count": 17
        }
      ]
    },
    {
      "cell_type": "markdown",
      "source": [
        "**30. Reverse a string.**"
      ],
      "metadata": {
        "id": "asVL9q2dLcCW"
      }
    },
    {
      "cell_type": "code",
      "source": [
        "str1[::-1]"
      ],
      "metadata": {
        "id": "FHN0fopfLeTV",
        "outputId": "483dbc7c-0be2-4e01-dcab-1f12e7d92f1f",
        "colab": {
          "base_uri": "https://localhost:8080/",
          "height": 35
        }
      },
      "execution_count": 22,
      "outputs": [
        {
          "output_type": "execute_result",
          "data": {
            "text/plain": [
              "'HTRAMAS'"
            ],
            "application/vnd.google.colaboratory.intrinsic+json": {
              "type": "string"
            }
          },
          "metadata": {},
          "execution_count": 22
        }
      ]
    }
  ]
}