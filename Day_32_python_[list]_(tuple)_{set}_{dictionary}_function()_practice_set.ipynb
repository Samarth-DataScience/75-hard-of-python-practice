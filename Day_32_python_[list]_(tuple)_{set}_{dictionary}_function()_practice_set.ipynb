{
  "nbformat": 4,
  "nbformat_minor": 0,
  "metadata": {
    "colab": {
      "provenance": [],
      "include_colab_link": true
    },
    "kernelspec": {
      "name": "python3",
      "display_name": "Python 3"
    },
    "language_info": {
      "name": "python"
    }
  },
  "cells": [
    {
      "cell_type": "markdown",
      "metadata": {
        "id": "view-in-github",
        "colab_type": "text"
      },
      "source": [
        "<a href=\"https://colab.research.google.com/github/Samarth-DataScience/75-hard-of-python-practice/blob/main/Day_32_python_%5Blist%5D_(tuple)_%7Bset%7D_%7Bdictionary%7D_function()_practice_set.ipynb\" target=\"_parent\"><img src=\"https://colab.research.google.com/assets/colab-badge.svg\" alt=\"Open In Colab\"/></a>"
      ]
    },
    {
      "cell_type": "markdown",
      "source": [
        "covering a combination of lists, tuples, sets, dictionaries, and functions in Python:\n",
        "\n",
        "1. Create a function that takes two parameters, a list, and a tuple, and returns a new list that contains elements from both in reverse order.\n",
        "2. Define a dictionary with keys as strings and values as sets. Add a new key-value pair to the dictionary.\n",
        "3. Write a function that takes a list of numbers and returns a new list with only the even numbers.\n",
        "4. Create a set with elements from a given list and then convert it to a tuple.\n",
        "5. Define a function that takes a dictionary as a parameter and returns the keys sorted in descending order.\n",
        "6. Create a list of tuples where each tuple consists of a string and an associated integer.\n",
        "7. Write a function that checks if a given element is present in both a list and a set.\n",
        "8. Define a dictionary with keys as integers and values as lists. Append an element to one of the lists.\n",
        "9. Write a function that receives a list and returns a new list containing unique elements in reverse order.\n",
        "10. Create a tuple with elements from a list and then convert it to a set.\n",
        "11. Define a function that takes a list of strings and returns a dictionary where keys are strings and values are their lengths.\n",
        "12. Create a set with elements from both a given list and tuple.\n",
        "13. Write a function that accepts a dictionary and returns the sum of all values.\n",
        "14. Define a list of tuples, each containing a string and a nested list of integers.\n",
        "15. Create a dictionary with keys as strings and values as tuples. Access and print the second element of a specific tuple.\n",
        "16. Write a function that takes a list and returns a new list with unique elements in ascending order.\n",
        "17. Define a tuple with elements from a list and then convert it to a dictionary.\n",
        "18. Create a set with elements from a list and then remove an element from the set.\n",
        "19. Write a function that calculates the average of all values in a list.\n",
        "20. Define a list of dictionaries, each containing information about a person (name, age, and city).\n",
        "21. Create a tuple with elements from both a given list and set.\n",
        "22. Write a function that checks if a given key is present in a dictionary and returns the corresponding value.\n",
        "23. Define a set with elements from a list and then add new elements to the set.\n",
        "24. Write a function that receives a list of tuples and returns a new list with the second elements of each tuple.\n",
        "25. Create a dictionary with keys as strings and values as lists. Extend one of the lists with elements from another list.\n",
        "26. Define a list of dictionaries, each containing information about a book (title, author, and publication year).\n",
        "27. Write a function that takes a list of integers and returns a new list with the squares of each number.\n",
        "28. Create a set with elements from a list and then find the intersection with another set.\n",
        "29. Define a dictionary with keys as integers and values as sets. Remove an element from one of the sets.\n",
        "30. Write a function that receives a dictionary and returns a list of keys where the corresponding values are even numbers.\n",
        "\n"
      ],
      "metadata": {
        "id": "_-Nbgjvm8Auj"
      }
    },
    {
      "cell_type": "markdown",
      "source": [
        "**1. Create a function that takes two parameters, a list, and a tuple, and returns a new list that contains elements from both in reverse order.**"
      ],
      "metadata": {
        "id": "PXf4JfSE8bMq"
      }
    },
    {
      "cell_type": "code",
      "source": [
        "def list_tuple(x,y):\n",
        "  new_list = (x + list(y))\n",
        "  new_list.sort(reverse = True)\n",
        "  return new_list\n",
        "\n",
        "\n",
        "list_tuple([3,6,7],(2,3,4))"
      ],
      "metadata": {
        "colab": {
          "base_uri": "https://localhost:8080/"
        },
        "id": "-IZuTU5V8c5y",
        "outputId": "2598854c-f710-4475-f8f4-7f53ca91578f"
      },
      "execution_count": null,
      "outputs": [
        {
          "output_type": "execute_result",
          "data": {
            "text/plain": [
              "[7, 6, 4, 3, 3, 2]"
            ]
          },
          "metadata": {},
          "execution_count": 1
        }
      ]
    },
    {
      "cell_type": "markdown",
      "source": [
        "**2. Define a dictionary with keys as strings and values as sets. Add a new key-value pair to the dictionary.**"
      ],
      "metadata": {
        "id": "243_fgy0-pW6"
      }
    },
    {
      "cell_type": "code",
      "source": [
        "dict1 = {'str1':(2,3,4),'str2':(4,3,5,6)}\n",
        "dict1.update({'str3':(2,5,7)})\n",
        "print(dict1)"
      ],
      "metadata": {
        "id": "arXBYSHF-rQy",
        "outputId": "7816ac67-20fd-4b97-b51b-7b060227452e",
        "colab": {
          "base_uri": "https://localhost:8080/"
        }
      },
      "execution_count": null,
      "outputs": [
        {
          "output_type": "stream",
          "name": "stdout",
          "text": [
            "{'str1': (2, 3, 4), 'str2': (4, 3, 5, 6), 'str3': (2, 5, 7)}\n"
          ]
        }
      ]
    },
    {
      "cell_type": "markdown",
      "source": [
        "**3. Write a function that takes a list of numbers and returns a new list with only the even numbers.**"
      ],
      "metadata": {
        "id": "66PDGOvB_5GK"
      }
    },
    {
      "cell_type": "code",
      "source": [
        "def get_list(l1):\n",
        "  l2 = [i for i in l1 if i%2==0]\n",
        "  return l2\n",
        "\n",
        "l1 = [i for i in range(1,101)]\n",
        "print(f'Even numbers form l1 are: {get_list(l1)}')"
      ],
      "metadata": {
        "id": "PTT6gn5y_61J",
        "outputId": "54b75fb9-fa80-4bde-9e02-cfd5301b3871",
        "colab": {
          "base_uri": "https://localhost:8080/"
        }
      },
      "execution_count": null,
      "outputs": [
        {
          "output_type": "stream",
          "name": "stdout",
          "text": [
            "Even numbers form l1 are: [2, 4, 6, 8, 10, 12, 14, 16, 18, 20, 22, 24, 26, 28, 30, 32, 34, 36, 38, 40, 42, 44, 46, 48, 50, 52, 54, 56, 58, 60, 62, 64, 66, 68, 70, 72, 74, 76, 78, 80, 82, 84, 86, 88, 90, 92, 94, 96, 98, 100]\n"
          ]
        }
      ]
    },
    {
      "cell_type": "markdown",
      "source": [
        "**4. Create a set with elements from a given list and then convert it to a tuple.**"
      ],
      "metadata": {
        "id": "IdIDJh_aVzlG"
      }
    },
    {
      "cell_type": "code",
      "source": [
        "l1 = [2,3,4,5,6,7]\n",
        "s1 = set(l1)\n",
        "t1 = tuple(s1)\n",
        "\n",
        "print(type(t1))\n",
        "print(t1)"
      ],
      "metadata": {
        "id": "cbHLLvDGV1te",
        "outputId": "c7327eb5-74e4-4cc9-b58b-4c2f0d97d5d7",
        "colab": {
          "base_uri": "https://localhost:8080/"
        }
      },
      "execution_count": null,
      "outputs": [
        {
          "output_type": "stream",
          "name": "stdout",
          "text": [
            "<class 'tuple'>\n",
            "(2, 3, 4, 5, 6, 7)\n"
          ]
        }
      ]
    },
    {
      "cell_type": "markdown",
      "source": [
        "**5. Define a function that takes a dictionary as a parameter and returns the keys sorted in descending order.**"
      ],
      "metadata": {
        "id": "uyVBk9CwWhVe"
      }
    },
    {
      "cell_type": "code",
      "source": [
        "dict1 = {1:1,2:4,3:9,4:16}\n",
        "\n",
        "def get_keys(d1):\n",
        "  list1 = list(d1.keys())\n",
        "  list1.sort(reverse = True)\n",
        "  return list1\n",
        "\n",
        "get_keys(dict1)"
      ],
      "metadata": {
        "id": "PB9bWd_sWjJW",
        "outputId": "13abb0fd-8786-49c8-833c-aec3cca89df1",
        "colab": {
          "base_uri": "https://localhost:8080/"
        }
      },
      "execution_count": null,
      "outputs": [
        {
          "output_type": "execute_result",
          "data": {
            "text/plain": [
              "[4, 3, 2, 1]"
            ]
          },
          "metadata": {},
          "execution_count": 5
        }
      ]
    },
    {
      "cell_type": "markdown",
      "source": [
        "**6. Create a list of tuples where each tuple consists of a string and an associated integer.**"
      ],
      "metadata": {
        "id": "QmnnbTslY_W3"
      }
    },
    {
      "cell_type": "code",
      "source": [
        "tuple_list = [(\"apple\", 5), (\"banana\", 3), (\"orange\", 8), (\"grape\", 2)]\n",
        "print(tuple_list)"
      ],
      "metadata": {
        "id": "wNJnVyN9ZBPi",
        "outputId": "9ecbc8f1-60b9-498a-d0b9-f7b62b05b336",
        "colab": {
          "base_uri": "https://localhost:8080/"
        }
      },
      "execution_count": null,
      "outputs": [
        {
          "output_type": "stream",
          "name": "stdout",
          "text": [
            "[('apple', 5), ('banana', 3), ('orange', 8), ('grape', 2)]\n"
          ]
        }
      ]
    },
    {
      "cell_type": "markdown",
      "source": [
        "**7. Write a function that checks if a given element is present in both a list and a set.**"
      ],
      "metadata": {
        "id": "KpmmHR33wKin"
      }
    },
    {
      "cell_type": "code",
      "source": [
        "def is_available(element):\n",
        "  l1 = [1,2,3,4,5,6]\n",
        "  s2 = {1,3,5,8,7,2,}\n",
        "  if element in l1 and element in s2:\n",
        "    return 'Yes'\n",
        "  else:\n",
        "    return 'No'\n",
        "\n",
        "is_available(2)\n",
        "\n"
      ],
      "metadata": {
        "colab": {
          "base_uri": "https://localhost:8080/",
          "height": 36
        },
        "id": "kBANYQauwMuP",
        "outputId": "acb751df-1385-4bec-cf28-cc383309796e"
      },
      "execution_count": null,
      "outputs": [
        {
          "output_type": "execute_result",
          "data": {
            "text/plain": [
              "'Yes'"
            ],
            "application/vnd.google.colaboratory.intrinsic+json": {
              "type": "string"
            }
          },
          "metadata": {},
          "execution_count": 12
        }
      ]
    },
    {
      "cell_type": "markdown",
      "source": [
        "**8. Define a dictionary with keys as integers and values as lists. Append an element to one of the lists.**"
      ],
      "metadata": {
        "id": "sAEVsE2zxhlV"
      }
    },
    {
      "cell_type": "code",
      "source": [
        "d1 = {1:[1,2,3],2:['Ram','Mohan'],3:[1,4,9,16]}\n",
        "print(f'Before changes in dictionay d1 is: {d1}')\n",
        "\n",
        "d1[2].append('hello')\n",
        "print(f'After changes in dictionay d1 is: {d1}')"
      ],
      "metadata": {
        "colab": {
          "base_uri": "https://localhost:8080/"
        },
        "id": "JqhKNmlbxnRO",
        "outputId": "49c128c1-a25e-4f9a-858a-e2e9d16848de"
      },
      "execution_count": null,
      "outputs": [
        {
          "output_type": "stream",
          "name": "stdout",
          "text": [
            "Before changes in dictionay d1 is: {1: [1, 2, 3], 2: ['Ram', 'Mohan'], 3: [1, 4, 9, 16]}\n",
            "After changes in dictionay d1 is: {1: [1, 2, 3], 2: ['Ram', 'Mohan', 'hello'], 3: [1, 4, 9, 16]}\n"
          ]
        }
      ]
    },
    {
      "cell_type": "markdown",
      "source": [
        "**9. Write a function that receives a list and returns a new list containing unique elements in reverse order.**"
      ],
      "metadata": {
        "id": "NrF2lFZqzZht"
      }
    },
    {
      "cell_type": "code",
      "source": [
        "def filter_list(l1):\n",
        "  s1 = list(tuple(l1))\n",
        "  s1.sort(reverse = True)\n",
        "  return s1\n",
        "\n",
        "filter_list({3, 1, 4, 1, 5, 9, 2, 6, 5, 3, 5})"
      ],
      "metadata": {
        "colab": {
          "base_uri": "https://localhost:8080/"
        },
        "id": "qtQr4Hcmzded",
        "outputId": "029053c6-4674-4c76-f3a2-b590eac803ad"
      },
      "execution_count": null,
      "outputs": [
        {
          "output_type": "execute_result",
          "data": {
            "text/plain": [
              "[9, 6, 5, 4, 3, 2, 1]"
            ]
          },
          "metadata": {},
          "execution_count": 19
        }
      ]
    },
    {
      "cell_type": "markdown",
      "source": [
        "**10. Create a tuple with elements from a list and then convert it to a set.**"
      ],
      "metadata": {
        "id": "Grq7VkAZ2t1M"
      }
    },
    {
      "cell_type": "code",
      "source": [
        "l1 = [3, 1, 4, 1, 5, 9, 2, 6, 5, 3, 5]\n",
        "s1 = set(tuple(l1))\n",
        "\n",
        "print(type(s1))\n",
        "print(s1)"
      ],
      "metadata": {
        "id": "Lr_jz1N82wCU",
        "outputId": "5cf87093-3760-4350-8e89-155e3e7a50cf",
        "colab": {
          "base_uri": "https://localhost:8080/"
        }
      },
      "execution_count": null,
      "outputs": [
        {
          "output_type": "stream",
          "name": "stdout",
          "text": [
            "<class 'set'>\n",
            "{1, 2, 3, 4, 5, 6, 9}\n"
          ]
        }
      ]
    },
    {
      "cell_type": "markdown",
      "source": [
        "11. Define a function that takes a list of strings and returns a dictionary where keys are strings and values are their lengths.\n",
        "12. Create a set with elements from both a given list and tuple.\n",
        "13. Write a function that accepts a dictionary and returns the sum of all values.\n",
        "14. Define a list of tuples, each containing a string and a nested list of integers.\n",
        "15. Create a dictionary with keys as strings and values as tuples. Access and print the second element of a specific tuple.\n",
        "16. Write a function that takes a list and returns a new list with unique elements in ascending order.\n",
        "17. Define a tuple with elements from a list and then convert it to a dictionary.\n",
        "18. Create a set with elements from a list and then remove an element from the set.\n",
        "19. Write a function that calculates the average of all values in a list.\n",
        "20. Define a list of dictionaries, each containing information about a person (name, age, and city).\n",
        "21. Create a tuple with elements from both a given list and set.\n",
        "22. Write a function that checks if a given key is present in a dictionary and returns the corresponding value.\n",
        "23. Define a set with elements from a list and then add new elements to the set.\n",
        "24. Write a function that receives a list of tuples and returns a new list with the second elements of each tuple.\n",
        "25. Create a dictionary with keys as strings and values as lists. Extend one of the lists with elements from another list.\n",
        "26. Define a list of dictionaries, each containing information about a book (title, author, and publication year).\n",
        "27. Write a function that takes a list of integers and returns a new list with the squares of each number.\n",
        "28. Create a set with elements from a list and then find the intersection with another set.\n",
        "29. Define a dictionary with keys as integers and values as sets. Remove an element from one of the sets.\n",
        "30. Write a function that receives a dictionary and returns a list of keys where the corresponding values are even numbers.\n",
        "\n"
      ],
      "metadata": {
        "id": "aEiZHrOkHeYR"
      }
    },
    {
      "cell_type": "markdown",
      "source": [
        "**11. Define a function that takes a list of strings and returns a dictionary where keys are strings and values are their lengths.**"
      ],
      "metadata": {
        "id": "1nAp-4gZHgl4"
      }
    },
    {
      "cell_type": "code",
      "source": [
        "def gen_dict(str_list):\n",
        "  dict1 = {i:len(i) for i in str_list }\n",
        "  return dict1\n",
        "\n",
        "gen_dict(['Ram', 'Mohan', 'hello'])"
      ],
      "metadata": {
        "colab": {
          "base_uri": "https://localhost:8080/"
        },
        "id": "qY2T8YyNHhn5",
        "outputId": "15862989-856f-4731-8e7c-c8211e037c71"
      },
      "execution_count": null,
      "outputs": [
        {
          "output_type": "execute_result",
          "data": {
            "text/plain": [
              "{'Ram': 3, 'Mohan': 5, 'hello': 5}"
            ]
          },
          "metadata": {},
          "execution_count": 2
        }
      ]
    },
    {
      "cell_type": "markdown",
      "source": [
        "**12. Create a set with elements from both a given list and tuple.**"
      ],
      "metadata": {
        "id": "Axk8CqZiJHLA"
      }
    },
    {
      "cell_type": "code",
      "source": [
        "l1 = [1,2,3,4,5]\n",
        "t1 = (2,4,6,8,10)\n",
        "\n",
        "s1 = set(l1+list(t1))\n",
        "\n",
        "print(s1)"
      ],
      "metadata": {
        "colab": {
          "base_uri": "https://localhost:8080/"
        },
        "id": "wR_ncW3KJJao",
        "outputId": "07109ae7-31b9-4ac0-ea4a-b4648df110ed"
      },
      "execution_count": null,
      "outputs": [
        {
          "output_type": "stream",
          "name": "stdout",
          "text": [
            "{1, 2, 3, 4, 5, 6, 8, 10}\n"
          ]
        }
      ]
    },
    {
      "cell_type": "markdown",
      "source": [
        "**13. Write a function that accepts a dictionary and returns the sum of all values.**"
      ],
      "metadata": {
        "id": "AwMzRcI3K6vp"
      }
    },
    {
      "cell_type": "code",
      "source": [
        "def gen_sum(dict1):\n",
        "  \"\"\" This function is used to extract values from dictionary and then get the valued sum \"\"\"\n",
        "  sum_value = sum((dict1.values()))\n",
        "  return sum_value\n",
        "\n",
        "print(gen_sum({'Ram': 3, 'Mohan': 5, 'hello': 5}))\n",
        "print(gen_sum.__doc__)"
      ],
      "metadata": {
        "colab": {
          "base_uri": "https://localhost:8080/"
        },
        "id": "XPRGO8gxK93Q",
        "outputId": "62a7f3c2-68d2-4af2-f071-c93864d81f7c"
      },
      "execution_count": null,
      "outputs": [
        {
          "output_type": "stream",
          "name": "stdout",
          "text": [
            "13\n",
            " This function is used to extract values from dictionary and then get the valued sum \n"
          ]
        }
      ]
    },
    {
      "cell_type": "markdown",
      "source": [
        "**Certainly! Here are 30 questions covering topics like lambda functions, map, filter, reduce, nested functions, and variable scope in Python:**\n",
        "\n",
        "1. Write a lambda function to square a given number.\n",
        "2. Use the map function to double each element in a list.\n",
        "3. Create a list of integers and use the filter function to get only the even numbers.\n",
        "4. Define a lambda function to check if a given number is greater than 10.\n",
        "5. Use the reduce function to find the product of elements in a list.\n",
        "6. Write a nested function that calculates the square of a given number.\n",
        "7. Create a list of strings and use the map function to convert them to uppercase.\n",
        "8. Define a lambda function to calculate the cube of a given number.\n",
        "9. Use the filter function to get only the strings with length greater than 5 from a list of strings.\n",
        "10. Write a lambda function to add two numbers.\n",
        "11. Create a list of numbers and use the reduce function to find the sum.\n",
        "12. Define a function that takes a list of numbers and returns a list of their squares using the map function.\n",
        "13. Write a lambda function to check if a given string is a palindrome.\n",
        "14. Use the filter function to get only the elements divisible by 3 from a list of numbers.\n",
        "15. Define a function that uses a nested lambda function to calculate the square of a given number.\n",
        "16. Create a list of tuples, each containing two numbers, and use the map function to find the sum of each tuple.\n",
        "17. Write a lambda function to find the maximum of two numbers.\n",
        "18. Use the reduce function to find the product of elements in a list, starting from an initial value of 1.\n",
        "19. Define a function that takes a list of strings and returns a list of their lengths using the map function.\n",
        "20. Write a lambda function to check if a given number is prime.\n",
        "21. Use the filter function to get only the elements greater than the average from a list of numbers.\n",
        "22. Define a nested function with a closure that keeps track of the total count of function calls.\n",
        "23. Create a list of strings and use the map function to concatenate \" - Python\" to each string.\n",
        "24. Write a lambda function to calculate the square root of a given number.\n",
        "25. Use the filter function to get only the elements that are strings from a mixed list.\n",
        "26. Define a function that takes a list of numbers and returns a list of their cubes using the map function.\n",
        "27. Write a lambda function to reverse a given string.\n",
        "28. Use the reduce function to find the maximum of a list of numbers.\n",
        "29. Define a function that uses a nested lambda function to calculate the product of two given numbers.\n",
        "30. Create a list of dictionaries, each containing 'name' and 'age', and use the map function to extract only the names.\n",
        "\n",
        "Feel free to use these questions for practice, and if you have any specific doubts or need explanations, feel free to ask!"
      ],
      "metadata": {
        "id": "jirOnFteaHjl"
      }
    },
    {
      "cell_type": "markdown",
      "source": [
        "14. Define a list of tuples, each containing a string and a nested list of integers.\n",
        "15. Create a dictionary with keys as strings and values as tuples. Access and print the second element of a specific tuple.\n",
        "16. Write a function that takes a list and returns a new list with unique elements in ascending order.\n",
        "17. Define a tuple with elements from a list and then convert it to a dictionary.\n",
        "18. Create a set with elements from a list and then remove an element from the set.\n",
        "19. Write a function that calculates the average of all values in a list.\n",
        "20. Define a list of dictionaries, each containing information about a person (name, age, and city).\n",
        "21. Create a tuple with elements from both a given list and set.\n",
        "22. Write a function that checks if a given key is present in a dictionary and returns the corresponding value.\n",
        "23. Define a set with elements from a list and then add new elements to the set.\n",
        "24. Write a function that receives a list of tuples and returns a new list with the second elements of each tuple.\n",
        "25. Create a dictionary with keys as strings and values as lists. Extend one of the lists with elements from another list.\n",
        "26. Define a list of dictionaries, each containing information about a book (title, author, and publication year).\n",
        "27. Write a function that takes a list of integers and returns a new list with the squares of each number.\n",
        "28. Create a set with elements from a list and then find the intersection with another set.\n",
        "29. Define a dictionary with keys as integers and values as sets. Remove an element from one of the sets.\n",
        "30. Write a function that receives a dictionary and returns a list of keys where the corresponding values are even numbers."
      ],
      "metadata": {
        "id": "5tG-coyqYOH9"
      }
    },
    {
      "cell_type": "markdown",
      "source": [],
      "metadata": {
        "id": "J9j1Idin1lBD"
      }
    },
    {
      "cell_type": "markdown",
      "source": [
        "**14. Define a list of tuples, each containing a string and a nested list of integers.**"
      ],
      "metadata": {
        "id": "N-sceLijYPz1"
      }
    },
    {
      "cell_type": "code",
      "source": [
        "list_of_tuples = [\n",
        "    (\"apple\", [1, 2, 3]),\n",
        "    (\"banana\", [4, 5, 6]),\n",
        "    (\"orange\", [7, 8, 9])\n",
        "]\n",
        "\n",
        "print(list_of_tuples)"
      ],
      "metadata": {
        "colab": {
          "base_uri": "https://localhost:8080/"
        },
        "id": "j6KBrWpqYU3q",
        "outputId": "f18d6709-f0b6-47c4-84d6-8e93a1011c72"
      },
      "execution_count": null,
      "outputs": [
        {
          "output_type": "stream",
          "name": "stdout",
          "text": [
            "[('apple', [1, 2, 3]), ('banana', [4, 5, 6]), ('orange', [7, 8, 9])]\n"
          ]
        }
      ]
    },
    {
      "cell_type": "markdown",
      "source": [
        "**15. Create a dictionary with keys as strings and values as tuples. Access and print the second element of a specific tuple.**"
      ],
      "metadata": {
        "id": "VPkcNpCzYpfN"
      }
    },
    {
      "cell_type": "code",
      "source": [
        "dict1 = {'tuple1' : (1,2,3,4),\n",
        "         'tuple2' : (1,4,9,16),\n",
        "         'tuple3' : (1,16,27,64)}\n",
        "\n",
        "x = dict1.get(('tuple3'))[1]\n",
        "print(type(x))\n",
        "print(x)"
      ],
      "metadata": {
        "colab": {
          "base_uri": "https://localhost:8080/"
        },
        "id": "0aGjEs1KYrX8",
        "outputId": "dce0fd61-65e1-4fee-a877-01b5b200f7bb"
      },
      "execution_count": null,
      "outputs": [
        {
          "output_type": "stream",
          "name": "stdout",
          "text": [
            "<class 'int'>\n",
            "16\n"
          ]
        }
      ]
    },
    {
      "cell_type": "markdown",
      "source": [
        "**16. Create a list of tuples, each containing two numbers, and use the map function to find the sum of each tuple.**"
      ],
      "metadata": {
        "id": "2KTE_8iFbNSU"
      }
    },
    {
      "cell_type": "code",
      "source": [
        "list_of_tuples = [(1,2),(4,5),(7,8),(1,4)]\n",
        "x = map(lambda x: sum(x) ,list_of_tuples)\n",
        "print(list(x))"
      ],
      "metadata": {
        "id": "MNee_1skbQFU",
        "outputId": "7dcbe489-caae-499f-ca9e-d340ec3c2022",
        "colab": {
          "base_uri": "https://localhost:8080/"
        }
      },
      "execution_count": null,
      "outputs": [
        {
          "output_type": "stream",
          "name": "stdout",
          "text": [
            "[3, 9, 15, 5]\n"
          ]
        }
      ]
    },
    {
      "cell_type": "markdown",
      "source": [
        "**17. Define a tuple with elements from a list and then convert it to a dictionary**"
      ],
      "metadata": {
        "id": "xPMuZhP40Y5N"
      }
    },
    {
      "cell_type": "code",
      "source": [
        "l1 = [1,2,3,4,5,6]\n",
        "t1 = tuple(l1)\n",
        "d1 = dict(t1)"
      ],
      "metadata": {
        "id": "Hpv5CVKl0dmn",
        "outputId": "f4cf073c-6dcf-4df1-9696-11ead43e5d57",
        "colab": {
          "base_uri": "https://localhost:8080/",
          "height": 279
        }
      },
      "execution_count": null,
      "outputs": [
        {
          "output_type": "error",
          "ename": "TypeError",
          "evalue": "ignored",
          "traceback": [
            "\u001b[0;31m---------------------------------------------------------------------------\u001b[0m",
            "\u001b[0;31mTypeError\u001b[0m                                 Traceback (most recent call last)",
            "\u001b[0;32m<ipython-input-1-5a9f9fc5f5ec>\u001b[0m in \u001b[0;36m<cell line: 3>\u001b[0;34m()\u001b[0m\n\u001b[1;32m      1\u001b[0m \u001b[0ml1\u001b[0m \u001b[0;34m=\u001b[0m \u001b[0;34m[\u001b[0m\u001b[0;36m1\u001b[0m\u001b[0;34m,\u001b[0m\u001b[0;36m2\u001b[0m\u001b[0;34m,\u001b[0m\u001b[0;36m3\u001b[0m\u001b[0;34m,\u001b[0m\u001b[0;36m4\u001b[0m\u001b[0;34m,\u001b[0m\u001b[0;36m5\u001b[0m\u001b[0;34m,\u001b[0m\u001b[0;36m6\u001b[0m\u001b[0;34m]\u001b[0m\u001b[0;34m\u001b[0m\u001b[0;34m\u001b[0m\u001b[0m\n\u001b[1;32m      2\u001b[0m \u001b[0mt1\u001b[0m \u001b[0;34m=\u001b[0m \u001b[0mtuple\u001b[0m\u001b[0;34m(\u001b[0m\u001b[0ml1\u001b[0m\u001b[0;34m)\u001b[0m\u001b[0;34m\u001b[0m\u001b[0;34m\u001b[0m\u001b[0m\n\u001b[0;32m----> 3\u001b[0;31m \u001b[0md1\u001b[0m \u001b[0;34m=\u001b[0m \u001b[0mdict\u001b[0m\u001b[0;34m(\u001b[0m\u001b[0mt1\u001b[0m\u001b[0;34m)\u001b[0m\u001b[0;34m\u001b[0m\u001b[0;34m\u001b[0m\u001b[0m\n\u001b[0m",
            "\u001b[0;31mTypeError\u001b[0m: cannot convert dictionary update sequence element #0 to a sequence"
          ]
        }
      ]
    },
    {
      "cell_type": "markdown",
      "source": [
        "**18. Create a set with elements from a list and then remove an element from the set.**"
      ],
      "metadata": {
        "id": "9b9s5xaI1mja"
      }
    },
    {
      "cell_type": "code",
      "source": [
        "l1 = [1,2,3,4,5]\n",
        "s1 = set(l1)\n",
        "s1.remove(3)\n",
        "print(s1)"
      ],
      "metadata": {
        "id": "7UFBjUR-1sVp",
        "outputId": "1fedfc2c-7275-43f4-8bda-0d946c1fb320",
        "colab": {
          "base_uri": "https://localhost:8080/"
        }
      },
      "execution_count": null,
      "outputs": [
        {
          "output_type": "stream",
          "name": "stdout",
          "text": [
            "{1, 2, 4, 5}\n"
          ]
        }
      ]
    },
    {
      "cell_type": "markdown",
      "source": [
        "**19. Define a function that takes a list of strings and returns a list of their lengths using the map function.**"
      ],
      "metadata": {
        "id": "y1fOUPU8nBfO"
      }
    },
    {
      "cell_type": "code",
      "source": [
        "\n",
        "def get_length(list1):\n",
        "  x = list(map(lambda x:len(x),list1))\n",
        "  return x\n",
        "\n",
        "l1 = ['Samarth','Santosh','Avishek','Ankit','Arun','Dev']\n",
        "get_length(l1)\n"
      ],
      "metadata": {
        "id": "76yq-hEUnKvG",
        "outputId": "5430a52e-1c1c-4a2e-dca0-bb8c6f26bd7f",
        "colab": {
          "base_uri": "https://localhost:8080/"
        }
      },
      "execution_count": null,
      "outputs": [
        {
          "output_type": "execute_result",
          "data": {
            "text/plain": [
              "[7, 7, 7, 5, 4, 3]"
            ]
          },
          "metadata": {},
          "execution_count": 1
        }
      ]
    },
    {
      "cell_type": "markdown",
      "source": [
        "**20. Define a list of dictionaries, each containing information about a person (name, age, and city).**"
      ],
      "metadata": {
        "id": "HqHrChAQ5M6-"
      }
    },
    {
      "cell_type": "code",
      "source": [
        "information = [{'name': 'Samarth', 'age': 23, 'city':'Delhi'},{'name': 'Golu', 'age': 20, 'city':'Delhi'},{'name': 'Hari', 'age': 25, 'city':'Punjab'}]\n",
        "print(information)"
      ],
      "metadata": {
        "id": "o0-UdcJe5PWM",
        "outputId": "e2637001-c0de-47af-fee3-a2db983122ea",
        "colab": {
          "base_uri": "https://localhost:8080/"
        }
      },
      "execution_count": null,
      "outputs": [
        {
          "output_type": "stream",
          "name": "stdout",
          "text": [
            "[{'name': 'Samarth', 'age': 23, 'city': 'Delhi'}, {'name': 'Golu', 'age': 20, 'city': 'Delhi'}, {'name': 'Hari', 'age': 25, 'city': 'Punjab'}]\n"
          ]
        }
      ]
    },
    {
      "cell_type": "markdown",
      "source": [
        "**21. Create a tuple with elements from both a given list and set.**"
      ],
      "metadata": {
        "id": "HhZM2lOe5M1-"
      }
    },
    {
      "cell_type": "code",
      "source": [
        "l1 = ['Samarth','Santosh','Avishek','Ankit','Arun','Dev']\n",
        "s1 = {1,2,3,4,5,6,5,2,3}\n",
        "\n",
        "t1 = l1 + list(s1)\n",
        "print(t1)"
      ],
      "metadata": {
        "id": "9Jwwcqst6FZY",
        "outputId": "28ae825b-9a70-4090-ece6-9ba854f42410",
        "colab": {
          "base_uri": "https://localhost:8080/"
        }
      },
      "execution_count": null,
      "outputs": [
        {
          "output_type": "stream",
          "name": "stdout",
          "text": [
            "['Samarth', 'Santosh', 'Avishek', 'Ankit', 'Arun', 'Dev', 1, 2, 3, 4, 5, 6]\n"
          ]
        }
      ]
    },
    {
      "cell_type": "markdown",
      "source": [
        "22. Write a function that checks if a given key is present in a dictionary and returns the corresponding value.\n",
        "23. Define a set with elements from a list and then add new elements to the set.\n",
        "24. Write a function that receives a list of tuples and returns a new list with the second elements of each tuple.\n",
        "25. Create a dictionary with keys as strings and values as lists. Extend one of the lists with elements from another list.\n",
        "26. Define a list of dictionaries, each containing information about a book (title, author, and publication year).\n",
        "27. Write a function that takes a list of integers and returns a new list with the squares of each number.\n",
        "28. Create a set with elements from a list and then find the intersection with another set.\n",
        "29. Define a dictionary with keys as integers and values as sets. Remove an element from one of the sets.\n",
        "30. Write a function that receives a dictionary and returns a list of keys where the corresponding values are even numbers."
      ],
      "metadata": {
        "id": "SM9e01k1j2kh"
      }
    },
    {
      "cell_type": "markdown",
      "source": [
        "**22. Write a function that checks if a given key is present in a dictionary and returns the corresponding value.**"
      ],
      "metadata": {
        "id": "P9SDeyCNj4sh"
      }
    },
    {
      "cell_type": "code",
      "source": [
        "def is_available(drop_key, dict1):\n",
        "  if drop_key in dict1:\n",
        "    x = dict1[drop_key]\n",
        "    return x\n",
        "\n",
        "dict1 = {'name': 'Samarth', 'age': 23, 'city': 'Delhi'}\n",
        "\n",
        "result = is_available('name', dict1)\n",
        "print(result)"
      ],
      "metadata": {
        "id": "69yDFoidj87x",
        "outputId": "8dcab390-170e-451b-e3cd-c6251480dcb1",
        "colab": {
          "base_uri": "https://localhost:8080/"
        }
      },
      "execution_count": null,
      "outputs": [
        {
          "output_type": "stream",
          "name": "stdout",
          "text": [
            "Samarth\n"
          ]
        }
      ]
    },
    {
      "cell_type": "markdown",
      "source": [
        "**23. Define a set with elements from a list and then add new elements to the set.**"
      ],
      "metadata": {
        "id": "ZMkoAAbFqskb"
      }
    },
    {
      "cell_type": "code",
      "source": [
        "s1 = {tuple[1,2,3,4],tuple[2,3,4,5],tuple[2,4,8,16]}\n",
        "s1.add(tuple['new','list'])\n",
        "print(s1)"
      ],
      "metadata": {
        "id": "hAwtsbP-qumk",
        "outputId": "7aadd344-f660-4fd3-fef3-1f024d61a8c6",
        "colab": {
          "base_uri": "https://localhost:8080/"
        }
      },
      "execution_count": null,
      "outputs": [
        {
          "output_type": "stream",
          "name": "stdout",
          "text": [
            "{tuple['new', 'list'], tuple[1, 2, 3, 4], tuple[2, 4, 8, 16], tuple[2, 3, 4, 5]}\n"
          ]
        }
      ]
    },
    {
      "cell_type": "markdown",
      "source": [
        "**24. Write a function that receives a list of tuples and returns a new list with the second elements of each tuple.**"
      ],
      "metadata": {
        "id": "seY30N58r5c_"
      }
    },
    {
      "cell_type": "code",
      "source": [
        "list_of_tuples = [(1,), (2, 3), ('a', 'b', 'c'), (4, 5, 6, 7), ('x',), ('y', 'z'), ('apple', 'orange', 'banana'), ('red', 'green', 'blue', 'yellow'), (8,), ('cat', 'dog', 'fish')]\n",
        "def element(t1):\n",
        "  l1 = []\n",
        "  for i in t1:\n",
        "    if len(i) >= 2:\n",
        "      l1.append(i[1])\n",
        "  return l1\n",
        "element(list_of_tuples)\n"
      ],
      "metadata": {
        "colab": {
          "base_uri": "https://localhost:8080/"
        },
        "id": "ReQsDeYwr9d_",
        "outputId": "2ec02054-b7e1-4136-d7d5-1bde2d57dbaf"
      },
      "execution_count": null,
      "outputs": [
        {
          "output_type": "execute_result",
          "data": {
            "text/plain": [
              "[3, 'b', 5, 'z', 'orange', 'green', 'dog']"
            ]
          },
          "metadata": {},
          "execution_count": 17
        }
      ]
    },
    {
      "cell_type": "markdown",
      "source": [
        "**25. Create a dictionary with keys as strings and values as lists. Extend one of the lists with elements from another list.**"
      ],
      "metadata": {
        "id": "72e4Gqcsxkd-"
      }
    },
    {
      "cell_type": "code",
      "source": [
        "dict1 = {'mathematics' : [45,98,68,32],'Software Architecture' : [98,89,87,79,68,93], 'Big Data': [55,91,93,87,70,21]}\n",
        "marks_added = [68,45,56]\n",
        "dict1['mathematics'].extend(marks_added)\n",
        "print(dict1)"
      ],
      "metadata": {
        "id": "jHaAwjRzxm6G",
        "outputId": "e49e50e0-04ec-4d59-8f78-966cbed115ec",
        "colab": {
          "base_uri": "https://localhost:8080/"
        }
      },
      "execution_count": null,
      "outputs": [
        {
          "output_type": "stream",
          "name": "stdout",
          "text": [
            "{'mathematics': [45, 98, 68, 32, 68, 45, 56], 'Software Architecture': [98, 89, 87, 79, 68, 93], 'Big Data': [55, 91, 93, 87, 70, 21]}\n"
          ]
        }
      ]
    },
    {
      "cell_type": "markdown",
      "source": [
        "**26. Define a list of dictionaries, each containing information about a book (title, author, and publication year).**"
      ],
      "metadata": {
        "id": "dOXBl6H08cac"
      }
    },
    {
      "cell_type": "code",
      "source": [
        "books = [\n",
        "    {\"title\": \"The Great Gatsby\", \"author\": \"F. Scott Fitzgerald\", \"publication_year\": 1925},\n",
        "    {\"title\": \"To Kill a Mockingbird\", \"author\": \"Harper Lee\", \"publication_year\": 1960},\n",
        "    {\"title\": \"1984\", \"author\": \"George Orwell\", \"publication_year\": 1949},\n",
        "    {\"title\": \"The Catcher in the Rye\", \"author\": \"J.D. Salinger\", \"publication_year\": 1951},\n",
        "    {\"title\": \"Harry Potter and the Sorcerer's Stone\", \"author\": \"J.K. Rowling\", \"publication_year\": 1997},\n",
        "]\n",
        "print(books)"
      ],
      "metadata": {
        "id": "BQWvFuvW8env",
        "outputId": "54ff3257-f3a6-4f1c-c155-136c52b53d99",
        "colab": {
          "base_uri": "https://localhost:8080/"
        }
      },
      "execution_count": 1,
      "outputs": [
        {
          "output_type": "stream",
          "name": "stdout",
          "text": [
            "[{'title': 'The Great Gatsby', 'author': 'F. Scott Fitzgerald', 'publication_year': 1925}, {'title': 'To Kill a Mockingbird', 'author': 'Harper Lee', 'publication_year': 1960}, {'title': '1984', 'author': 'George Orwell', 'publication_year': 1949}, {'title': 'The Catcher in the Rye', 'author': 'J.D. Salinger', 'publication_year': 1951}, {'title': \"Harry Potter and the Sorcerer's Stone\", 'author': 'J.K. Rowling', 'publication_year': 1997}]\n"
          ]
        }
      ]
    },
    {
      "cell_type": "markdown",
      "source": [
        "**27. Write a function that takes a list of integers and returns a new list with the squares of each number.**"
      ],
      "metadata": {
        "id": "luoY4uFs8kcv"
      }
    },
    {
      "cell_type": "code",
      "source": [
        "list_of_int = [1,2,4,5,7,3,45,23,43,21]\n",
        "def squares(list1):\n",
        "  x = map(lambda x:x**2, list1)\n",
        "  return list(x)\n",
        "\n",
        "squares(list_of_int)"
      ],
      "metadata": {
        "id": "cvWvzV0e8o0f",
        "outputId": "edbbd743-1c65-47f6-9839-1e6936a3b5d9",
        "colab": {
          "base_uri": "https://localhost:8080/"
        }
      },
      "execution_count": 4,
      "outputs": [
        {
          "output_type": "execute_result",
          "data": {
            "text/plain": [
              "[1, 4, 16, 25, 49, 9, 2025, 529, 1849, 441]"
            ]
          },
          "metadata": {},
          "execution_count": 4
        }
      ]
    },
    {
      "cell_type": "markdown",
      "source": [
        "**28. Create a set with elements from a list and then find the intersection with another set.**"
      ],
      "metadata": {
        "id": "UtGJuVZJ_xM4"
      }
    },
    {
      "cell_type": "code",
      "source": [
        "list1 = [1,2,4,5,7,3,45,23,43,21]\n",
        "set1 = set(list1)\n",
        "set2 = {2,4,5,7,8,6,9,7,0,3,21}\n",
        "\n",
        "set3 = set1 & set2\n",
        "print(f'intersection: {set3}')"
      ],
      "metadata": {
        "id": "58Zut5CP_zWI",
        "outputId": "097f1352-e976-4cbc-b746-329c41f5fe42",
        "colab": {
          "base_uri": "https://localhost:8080/"
        }
      },
      "execution_count": 8,
      "outputs": [
        {
          "output_type": "stream",
          "name": "stdout",
          "text": [
            "intersection: {2, 3, 4, 5, 7, 21}\n"
          ]
        }
      ]
    }
  ]
}