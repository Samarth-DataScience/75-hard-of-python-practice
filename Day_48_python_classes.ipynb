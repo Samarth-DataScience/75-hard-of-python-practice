{
  "nbformat": 4,
  "nbformat_minor": 0,
  "metadata": {
    "colab": {
      "provenance": [],
      "include_colab_link": true
    },
    "kernelspec": {
      "name": "python3",
      "display_name": "Python 3"
    },
    "language_info": {
      "name": "python"
    }
  },
  "cells": [
    {
      "cell_type": "markdown",
      "metadata": {
        "id": "view-in-github",
        "colab_type": "text"
      },
      "source": [
        "<a href=\"https://colab.research.google.com/github/Samarth-DataScience/75-hard-of-python-practice/blob/main/Day_48_python_classes.ipynb\" target=\"_parent\"><img src=\"https://colab.research.google.com/assets/colab-badge.svg\" alt=\"Open In Colab\"/></a>"
      ]
    },
    {
      "cell_type": "markdown",
      "source": [
        "1. Create a class representing a car with attributes like make, model, and year. Implement a method in the class to calculate the age of the car.\n",
        "\n",
        "2. Create a base class 'Shape' with methods to calculate area and perimeter. Derive classes 'Rectangle' and 'Circle' from 'Shape' with their own implementations.\n",
        "\n",
        "3. Design a class representing a bank account with private attributes for balance and account number. Implement methods for deposit and withdrawal.\n",
        "\n",
        "4. Write a function to reverse a list.\n",
        "\n",
        "5. Implement a function to find the second largest element in a list.\n",
        "\n",
        "6. Write a function to check if a given string is a palindrome.\n",
        "\n",
        "7. Create a function to count the occurrences of each character in a string.\n",
        "\n",
        "8. Write a program to concatenate two tuples.\n",
        "\n",
        "9. Implement a function to find the index of an element in a tuple.\n",
        "\n",
        "10. Create a function to find the intersection of two sets.\n",
        "\n",
        "11. Write a program to remove duplicates from a list using sets.\n",
        "\n",
        "12. Write a function to merge two dictionaries.\n",
        "\n",
        "13. Implement a program to find the keys with the maximum value in a dictionary.\n",
        "\n",
        "14. Write a function that takes a list of numbers and returns their sum.\n",
        "\n",
        "15. Implement a function to check if a number is prime.\n",
        "\n",
        "16. Use a lambda function to square each element in a list.\n",
        "\n",
        "17. Write a program to filter even numbers from a list using a lambda function.\n",
        "\n",
        "18. Use the map function to convert a list of temperatures from Celsius to Fahrenheit.\n",
        "\n",
        "19. Write a program to capitalize the first letter of each word in a list of strings using map.\n",
        "\n",
        "20. Implement a program to filter out numbers less than 10 from a list using the filter function.\n",
        "\n",
        "21. Write a function to filter palindromes from a list of strings.\n",
        "\n",
        "22. Use the reduce function to find the product of elements in a list.\n",
        "\n",
        "23. Implement a program to find the maximum element in a list using reduce.\n",
        "\n",
        "24. Write a function to check if a number is a perfect square.\n",
        "\n",
        "25. Create a class representing a book with attributes like title, author, and publication year. Implement a method to display information about the book.\n",
        "\n",
        "26. Design a class representing a geometric shape with methods to calculate area and perimeter. Derive classes for specific shapes like rectangle and circle.\n",
        "\n",
        "27. Write a program to find the common elements between two lists.\n",
        "\n",
        "28. Implement a function to remove vowels from a given string.\n",
        "\n",
        "29. Write a program to sort a list of strings based on the length of each string.\n",
        "\n",
        "30. Create a function to calculate the factorial of a given number."
      ],
      "metadata": {
        "id": "wLFDYiiQpMwn"
      }
    },
    {
      "cell_type": "markdown",
      "source": [
        "**1. Create a class representing a car with attributes like make, model, and year. Implement a method in the class to calculate the age of the car.**"
      ],
      "metadata": {
        "id": "UfgBxILWpWX4"
      }
    },
    {
      "cell_type": "code",
      "execution_count": null,
      "metadata": {
        "id": "xUvqswLl2zr9",
        "colab": {
          "base_uri": "https://localhost:8080/"
        },
        "outputId": "313a7214-b590-4220-f449-16856bbc69ec"
      },
      "outputs": [
        {
          "output_type": "stream",
          "name": "stdout",
          "text": [
            "Remaining warranty is 3 years\n"
          ]
        }
      ],
      "source": [
        "class car:\n",
        "  make = 'Toyta'\n",
        "  model = 'XUV5600'\n",
        "  year =  2021\n",
        "\n",
        "  def warranty(self,year):\n",
        "    age = 2023 - year\n",
        "    return print(f'Remaining warranty is {age} years')\n",
        "\n",
        "car = car()\n",
        "car.warranty(2020)"
      ]
    },
    {
      "cell_type": "markdown",
      "source": [
        "**2. Write a function to reverse a list.**"
      ],
      "metadata": {
        "id": "kAd7uOQ1rzvf"
      }
    },
    {
      "cell_type": "code",
      "source": [
        "def list_reverse(l):\n",
        "  reverse_list = l[::-1]\n",
        "  return reverse_list\n",
        "\n",
        "list_reverse([1,2,3,4])"
      ],
      "metadata": {
        "id": "ct82hSlnr2in",
        "outputId": "5cd10809-2918-4563-c7fd-829a93cf6ba8",
        "colab": {
          "base_uri": "https://localhost:8080/"
        }
      },
      "execution_count": null,
      "outputs": [
        {
          "output_type": "execute_result",
          "data": {
            "text/plain": [
              "[4, 3, 2, 1]"
            ]
          },
          "metadata": {},
          "execution_count": 10
        }
      ]
    },
    {
      "cell_type": "markdown",
      "source": [
        "**3. Implement a function to find the second largest element in a list.**"
      ],
      "metadata": {
        "id": "41i0XT0rsqrT"
      }
    },
    {
      "cell_type": "code",
      "source": [
        "def second_largest_num(l):\n",
        "  reversed_list = sorted(l, reverse = True)\n",
        "  return reversed_list[1]\n",
        "\n",
        "second_largest_num([2,45,3,85,4,374,311,21,12,0,1185])"
      ],
      "metadata": {
        "id": "TAEDNG_1sspj",
        "outputId": "069854af-9583-42e7-bba3-7c4a19bfe7da",
        "colab": {
          "base_uri": "https://localhost:8080/"
        }
      },
      "execution_count": null,
      "outputs": [
        {
          "output_type": "execute_result",
          "data": {
            "text/plain": [
              "374"
            ]
          },
          "metadata": {},
          "execution_count": 13
        }
      ]
    },
    {
      "cell_type": "markdown",
      "source": [
        "**4. Write a function to check if a given string is a palindrome.**"
      ],
      "metadata": {
        "id": "lVCGMu-otLmq"
      }
    },
    {
      "cell_type": "code",
      "source": [
        "def palindrome(string_value):\n",
        "  result = ''\n",
        "  if string_value[::-1] == string_value:\n",
        "    return 'Yes the given string is palindrome'\n",
        "  else:\n",
        "    return 'Given string is not a palindrome'\n",
        "\n",
        "print(palindrome('english'))"
      ],
      "metadata": {
        "id": "JcFyMepctPuz",
        "outputId": "4d186b59-5b83-4a34-d665-3b7aa1caccc7",
        "colab": {
          "base_uri": "https://localhost:8080/"
        }
      },
      "execution_count": null,
      "outputs": [
        {
          "output_type": "stream",
          "name": "stdout",
          "text": [
            "Given string is not a palindrome\n"
          ]
        }
      ]
    },
    {
      "cell_type": "markdown",
      "source": [
        "**5. Create a function to count the occurrences of each character in a string.**"
      ],
      "metadata": {
        "id": "wKTLZb9xwUTc"
      }
    },
    {
      "cell_type": "code",
      "source": [
        "def count_characters(input_string):\n",
        "    count_dict = {}\n",
        "\n",
        "    for char in input_string:\n",
        "        if char in count_dict:\n",
        "            count_dict[char] += 1\n",
        "        else:\n",
        "            count_dict[char] = 1\n",
        "\n",
        "    return count_dict\n",
        "\n",
        "# Example usage:\n",
        "input_string = 'Hello world'\n",
        "result = count_characters(input_string)\n",
        "\n",
        "for char, count in result.items():\n",
        "    print(f\"Character '{char}' occurs {count} times.\")\n"
      ],
      "metadata": {
        "id": "rIQ1o_V0wWq0",
        "colab": {
          "base_uri": "https://localhost:8080/"
        },
        "outputId": "e95f00f0-aec6-4d4f-f49f-403ea1cdea6a"
      },
      "execution_count": 6,
      "outputs": [
        {
          "output_type": "stream",
          "name": "stdout",
          "text": [
            "Character 'H' occurs 1 times.\n",
            "Character 'e' occurs 1 times.\n",
            "Character 'l' occurs 3 times.\n",
            "Character 'o' occurs 2 times.\n",
            "Character ' ' occurs 1 times.\n",
            "Character 'w' occurs 1 times.\n",
            "Character 'r' occurs 1 times.\n",
            "Character 'd' occurs 1 times.\n"
          ]
        }
      ]
    },
    {
      "cell_type": "markdown",
      "source": [
        "**7. Write a program to concatenate two tuples.**"
      ],
      "metadata": {
        "id": "F_lwhtVo3L36"
      }
    },
    {
      "cell_type": "code",
      "source": [
        "tuple1 = (1,2,3,4)\n",
        "tuple2 = (2,3,4,5)\n",
        "\n",
        "tuple1 += (tuple2)\n",
        "print(tuple1, type(tuple1))"
      ],
      "metadata": {
        "id": "QKRDvpCt3QdM",
        "outputId": "937fc2e8-964d-447d-dcfe-beee40e9f130",
        "colab": {
          "base_uri": "https://localhost:8080/"
        }
      },
      "execution_count": 5,
      "outputs": [
        {
          "output_type": "stream",
          "name": "stdout",
          "text": [
            "(1, 2, 3, 4, 2, 3, 4, 5) <class 'tuple'>\n"
          ]
        }
      ]
    },
    {
      "cell_type": "markdown",
      "source": [
        "**8. Implement a function to find the index of an element in a tuple.**"
      ],
      "metadata": {
        "id": "ey9ccwP06iFV"
      }
    },
    {
      "cell_type": "code",
      "source": [
        "tuple_example = (1,2,3,4,5,6,7,8,9)\n",
        "element = 3\n",
        "def find_index(element):\n",
        "  index = tuple_example.index(element)\n",
        "  return index\n",
        "\n",
        "print(f'The index of {element} is: {find_index(element)}')"
      ],
      "metadata": {
        "id": "peYV2_gY6kD8",
        "outputId": "a3eb877d-857b-4656-f7b8-854675e3b4fa",
        "colab": {
          "base_uri": "https://localhost:8080/"
        }
      },
      "execution_count": 9,
      "outputs": [
        {
          "output_type": "stream",
          "name": "stdout",
          "text": [
            "The index of 3 is: 2\n"
          ]
        }
      ]
    }
  ]
}