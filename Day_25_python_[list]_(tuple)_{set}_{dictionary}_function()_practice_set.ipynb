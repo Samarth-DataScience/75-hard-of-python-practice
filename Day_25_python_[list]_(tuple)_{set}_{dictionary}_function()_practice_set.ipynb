{
  "nbformat": 4,
  "nbformat_minor": 0,
  "metadata": {
    "colab": {
      "provenance": [],
      "authorship_tag": "ABX9TyOo2lcNsXLaWLzMk7s895+E",
      "include_colab_link": true
    },
    "kernelspec": {
      "name": "python3",
      "display_name": "Python 3"
    },
    "language_info": {
      "name": "python"
    }
  },
  "cells": [
    {
      "cell_type": "markdown",
      "metadata": {
        "id": "view-in-github",
        "colab_type": "text"
      },
      "source": [
        "<a href=\"https://colab.research.google.com/github/Samarth-DataScience/75-hard-of-python-practice/blob/main/Day_25_python_%5Blist%5D_(tuple)_%7Bset%7D_%7Bdictionary%7D_function()_practice_set.ipynb\" target=\"_parent\"><img src=\"https://colab.research.google.com/assets/colab-badge.svg\" alt=\"Open In Colab\"/></a>"
      ]
    },
    {
      "cell_type": "markdown",
      "source": [
        "covering a combination of lists, tuples, sets, dictionaries, and functions in Python:\n",
        "\n",
        "1. Create a function that takes two parameters, a list, and a tuple, and returns a new list that contains elements from both in reverse order.\n",
        "2. Define a dictionary with keys as strings and values as sets. Add a new key-value pair to the dictionary.\n",
        "3. Write a function that takes a list of numbers and returns a new list with only the even numbers.\n",
        "4. Create a set with elements from a given list and then convert it to a tuple.\n",
        "5. Define a function that takes a dictionary as a parameter and returns the keys sorted in descending order.\n",
        "6. Create a list of tuples where each tuple consists of a string and an associated integer.\n",
        "7. Write a function that checks if a given element is present in both a list and a set.\n",
        "8. Define a dictionary with keys as integers and values as lists. Append an element to one of the lists.\n",
        "9. Write a function that receives a list and returns a new list containing unique elements in reverse order.\n",
        "10. Create a tuple with elements from a list and then convert it to a set.\n",
        "11. Define a function that takes a list of strings and returns a dictionary where keys are strings and values are their lengths.\n",
        "12. Create a set with elements from both a given list and tuple.\n",
        "13. Write a function that accepts a dictionary and returns the sum of all values.\n",
        "14. Define a list of tuples, each containing a string and a nested list of integers.\n",
        "15. Create a dictionary with keys as strings and values as tuples. Access and print the second element of a specific tuple.\n",
        "16. Write a function that takes a list and returns a new list with unique elements in ascending order.\n",
        "17. Define a tuple with elements from a list and then convert it to a dictionary.\n",
        "18. Create a set with elements from a list and then remove an element from the set.\n",
        "19. Write a function that calculates the average of all values in a list.\n",
        "20. Define a list of dictionaries, each containing information about a person (name, age, and city).\n",
        "21. Create a tuple with elements from both a given list and set.\n",
        "22. Write a function that checks if a given key is present in a dictionary and returns the corresponding value.\n",
        "23. Define a set with elements from a list and then add new elements to the set.\n",
        "24. Write a function that receives a list of tuples and returns a new list with the second elements of each tuple.\n",
        "25. Create a dictionary with keys as strings and values as lists. Extend one of the lists with elements from another list.\n",
        "26. Define a list of dictionaries, each containing information about a book (title, author, and publication year).\n",
        "27. Write a function that takes a list of integers and returns a new list with the squares of each number.\n",
        "28. Create a set with elements from a list and then find the intersection with another set.\n",
        "29. Define a dictionary with keys as integers and values as sets. Remove an element from one of the sets.\n",
        "30. Write a function that receives a dictionary and returns a list of keys where the corresponding values are even numbers.\n",
        "\n"
      ],
      "metadata": {
        "id": "_-Nbgjvm8Auj"
      }
    },
    {
      "cell_type": "markdown",
      "source": [
        "**1. Create a function that takes two parameters, a list, and a tuple, and returns a new list that contains elements from both in reverse order.**"
      ],
      "metadata": {
        "id": "PXf4JfSE8bMq"
      }
    },
    {
      "cell_type": "code",
      "source": [
        "def list_tuple(x,y):\n",
        "  new_list = (x + list(y))\n",
        "  new_list.sort(reverse = True)\n",
        "  return new_list\n",
        "\n",
        "\n",
        "list_tuple([3,6,7],(2,3,4))"
      ],
      "metadata": {
        "colab": {
          "base_uri": "https://localhost:8080/"
        },
        "id": "-IZuTU5V8c5y",
        "outputId": "8274a597-b4a0-4651-c121-f6b199bf9d1b"
      },
      "execution_count": null,
      "outputs": [
        {
          "output_type": "execute_result",
          "data": {
            "text/plain": [
              "[7, 6, 4, 3, 3, 2]"
            ]
          },
          "metadata": {},
          "execution_count": 5
        }
      ]
    },
    {
      "cell_type": "markdown",
      "source": [
        "**2. Define a dictionary with keys as strings and values as sets. Add a new key-value pair to the dictionary.**"
      ],
      "metadata": {
        "id": "243_fgy0-pW6"
      }
    },
    {
      "cell_type": "code",
      "source": [
        "dict1 = {'str1':(2,3,4),'str2':(4,3,5,6)}\n",
        "dict1.update({'str3':(2,5,7)})\n",
        "print(dict1)"
      ],
      "metadata": {
        "id": "arXBYSHF-rQy",
        "outputId": "7ce60389-24d1-4687-d6cd-edcd41cff32b",
        "colab": {
          "base_uri": "https://localhost:8080/"
        }
      },
      "execution_count": null,
      "outputs": [
        {
          "output_type": "stream",
          "name": "stdout",
          "text": [
            "{'str1': (2, 3, 4), 'str2': (4, 3, 5, 6), 'str3': (2, 5, 7)}\n"
          ]
        }
      ]
    },
    {
      "cell_type": "markdown",
      "source": [
        "**3. Write a function that takes a list of numbers and returns a new list with only the even numbers.**"
      ],
      "metadata": {
        "id": "66PDGOvB_5GK"
      }
    },
    {
      "cell_type": "code",
      "source": [
        "def get_list(l1):\n",
        "  l2 = [i for i in l1 if i%2==0]\n",
        "  return l2\n",
        "\n",
        "l1 = [i for i in range(1,101)]\n",
        "print(f'Even numbers form l1 are: {get_list(l1)}')"
      ],
      "metadata": {
        "id": "PTT6gn5y_61J",
        "outputId": "f0cc8bf9-5edc-4f87-8a65-bf42de4864fb",
        "colab": {
          "base_uri": "https://localhost:8080/"
        }
      },
      "execution_count": null,
      "outputs": [
        {
          "output_type": "stream",
          "name": "stdout",
          "text": [
            "Even numbers form l1 are: [2, 4, 6, 8, 10, 12, 14, 16, 18, 20, 22, 24, 26, 28, 30, 32, 34, 36, 38, 40, 42, 44, 46, 48, 50, 52, 54, 56, 58, 60, 62, 64, 66, 68, 70, 72, 74, 76, 78, 80, 82, 84, 86, 88, 90, 92, 94, 96, 98, 100]\n"
          ]
        }
      ]
    },
    {
      "cell_type": "markdown",
      "source": [
        "**4. Create a set with elements from a given list and then convert it to a tuple.**"
      ],
      "metadata": {
        "id": "IdIDJh_aVzlG"
      }
    },
    {
      "cell_type": "code",
      "source": [
        "l1 = [2,3,4,5,6,7]\n",
        "s1 = set(l1)\n",
        "t1 = tuple(s1)\n",
        "\n",
        "print(type(t1))\n",
        "print(t1)"
      ],
      "metadata": {
        "id": "cbHLLvDGV1te",
        "outputId": "39ef6488-2804-49de-ca93-70a3ccf8f5b3",
        "colab": {
          "base_uri": "https://localhost:8080/"
        }
      },
      "execution_count": 1,
      "outputs": [
        {
          "output_type": "stream",
          "name": "stdout",
          "text": [
            "<class 'tuple'>\n",
            "(2, 3, 4, 5, 6, 7)\n"
          ]
        }
      ]
    },
    {
      "cell_type": "markdown",
      "source": [
        "**5. Define a function that takes a dictionary as a parameter and returns the keys sorted in descending order.**"
      ],
      "metadata": {
        "id": "uyVBk9CwWhVe"
      }
    },
    {
      "cell_type": "code",
      "source": [
        "dict1 = {1:1,2:4,3:9,4:16}\n",
        "\n",
        "def get_keys(d1):\n",
        "  list1 = list(d1.keys())\n",
        "  list1.sort(reverse = True)\n",
        "  return list1\n",
        "\n",
        "get_keys(dict1)"
      ],
      "metadata": {
        "id": "PB9bWd_sWjJW",
        "outputId": "ac1f85ef-b13f-43cf-c983-b87104a6082b",
        "colab": {
          "base_uri": "https://localhost:8080/"
        }
      },
      "execution_count": 8,
      "outputs": [
        {
          "output_type": "execute_result",
          "data": {
            "text/plain": [
              "[4, 3, 2, 1]"
            ]
          },
          "metadata": {},
          "execution_count": 8
        }
      ]
    },
    {
      "cell_type": "markdown",
      "source": [
        "**6. Create a list of tuples where each tuple consists of a string and an associated integer.**"
      ],
      "metadata": {
        "id": "QmnnbTslY_W3"
      }
    },
    {
      "cell_type": "code",
      "source": [
        "tuple_list = [(\"apple\", 5), (\"banana\", 3), (\"orange\", 8), (\"grape\", 2)]\n",
        "print(tuple_list)"
      ],
      "metadata": {
        "id": "wNJnVyN9ZBPi",
        "outputId": "b0ce8508-0343-44e2-a945-5119d576bd99",
        "colab": {
          "base_uri": "https://localhost:8080/"
        }
      },
      "execution_count": 9,
      "outputs": [
        {
          "output_type": "stream",
          "name": "stdout",
          "text": [
            "[('apple', 5), ('banana', 3), ('orange', 8), ('grape', 2)]\n"
          ]
        }
      ]
    }
  ]
}