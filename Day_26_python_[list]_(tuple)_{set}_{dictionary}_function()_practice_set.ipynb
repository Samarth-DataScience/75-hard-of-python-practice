{
  "nbformat": 4,
  "nbformat_minor": 0,
  "metadata": {
    "colab": {
      "provenance": [],
      "authorship_tag": "ABX9TyMgu4MBN1ko16J4HfMVWOI5",
      "include_colab_link": true
    },
    "kernelspec": {
      "name": "python3",
      "display_name": "Python 3"
    },
    "language_info": {
      "name": "python"
    }
  },
  "cells": [
    {
      "cell_type": "markdown",
      "metadata": {
        "id": "view-in-github",
        "colab_type": "text"
      },
      "source": [
        "<a href=\"https://colab.research.google.com/github/Samarth-DataScience/75-hard-of-python-practice/blob/main/Day_26_python_%5Blist%5D_(tuple)_%7Bset%7D_%7Bdictionary%7D_function()_practice_set.ipynb\" target=\"_parent\"><img src=\"https://colab.research.google.com/assets/colab-badge.svg\" alt=\"Open In Colab\"/></a>"
      ]
    },
    {
      "cell_type": "markdown",
      "source": [
        "covering a combination of lists, tuples, sets, dictionaries, and functions in Python:\n",
        "\n",
        "1. Create a function that takes two parameters, a list, and a tuple, and returns a new list that contains elements from both in reverse order.\n",
        "2. Define a dictionary with keys as strings and values as sets. Add a new key-value pair to the dictionary.\n",
        "3. Write a function that takes a list of numbers and returns a new list with only the even numbers.\n",
        "4. Create a set with elements from a given list and then convert it to a tuple.\n",
        "5. Define a function that takes a dictionary as a parameter and returns the keys sorted in descending order.\n",
        "6. Create a list of tuples where each tuple consists of a string and an associated integer.\n",
        "7. Write a function that checks if a given element is present in both a list and a set.\n",
        "8. Define a dictionary with keys as integers and values as lists. Append an element to one of the lists.\n",
        "9. Write a function that receives a list and returns a new list containing unique elements in reverse order.\n",
        "10. Create a tuple with elements from a list and then convert it to a set.\n",
        "11. Define a function that takes a list of strings and returns a dictionary where keys are strings and values are their lengths.\n",
        "12. Create a set with elements from both a given list and tuple.\n",
        "13. Write a function that accepts a dictionary and returns the sum of all values.\n",
        "14. Define a list of tuples, each containing a string and a nested list of integers.\n",
        "15. Create a dictionary with keys as strings and values as tuples. Access and print the second element of a specific tuple.\n",
        "16. Write a function that takes a list and returns a new list with unique elements in ascending order.\n",
        "17. Define a tuple with elements from a list and then convert it to a dictionary.\n",
        "18. Create a set with elements from a list and then remove an element from the set.\n",
        "19. Write a function that calculates the average of all values in a list.\n",
        "20. Define a list of dictionaries, each containing information about a person (name, age, and city).\n",
        "21. Create a tuple with elements from both a given list and set.\n",
        "22. Write a function that checks if a given key is present in a dictionary and returns the corresponding value.\n",
        "23. Define a set with elements from a list and then add new elements to the set.\n",
        "24. Write a function that receives a list of tuples and returns a new list with the second elements of each tuple.\n",
        "25. Create a dictionary with keys as strings and values as lists. Extend one of the lists with elements from another list.\n",
        "26. Define a list of dictionaries, each containing information about a book (title, author, and publication year).\n",
        "27. Write a function that takes a list of integers and returns a new list with the squares of each number.\n",
        "28. Create a set with elements from a list and then find the intersection with another set.\n",
        "29. Define a dictionary with keys as integers and values as sets. Remove an element from one of the sets.\n",
        "30. Write a function that receives a dictionary and returns a list of keys where the corresponding values are even numbers.\n",
        "\n"
      ],
      "metadata": {
        "id": "_-Nbgjvm8Auj"
      }
    },
    {
      "cell_type": "markdown",
      "source": [
        "**1. Create a function that takes two parameters, a list, and a tuple, and returns a new list that contains elements from both in reverse order.**"
      ],
      "metadata": {
        "id": "PXf4JfSE8bMq"
      }
    },
    {
      "cell_type": "code",
      "source": [
        "def list_tuple(x,y):\n",
        "  new_list = (x + list(y))\n",
        "  new_list.sort(reverse = True)\n",
        "  return new_list\n",
        "\n",
        "\n",
        "list_tuple([3,6,7],(2,3,4))"
      ],
      "metadata": {
        "colab": {
          "base_uri": "https://localhost:8080/"
        },
        "id": "-IZuTU5V8c5y",
        "outputId": "2598854c-f710-4475-f8f4-7f53ca91578f"
      },
      "execution_count": 1,
      "outputs": [
        {
          "output_type": "execute_result",
          "data": {
            "text/plain": [
              "[7, 6, 4, 3, 3, 2]"
            ]
          },
          "metadata": {},
          "execution_count": 1
        }
      ]
    },
    {
      "cell_type": "markdown",
      "source": [
        "**2. Define a dictionary with keys as strings and values as sets. Add a new key-value pair to the dictionary.**"
      ],
      "metadata": {
        "id": "243_fgy0-pW6"
      }
    },
    {
      "cell_type": "code",
      "source": [
        "dict1 = {'str1':(2,3,4),'str2':(4,3,5,6)}\n",
        "dict1.update({'str3':(2,5,7)})\n",
        "print(dict1)"
      ],
      "metadata": {
        "id": "arXBYSHF-rQy",
        "outputId": "7816ac67-20fd-4b97-b51b-7b060227452e",
        "colab": {
          "base_uri": "https://localhost:8080/"
        }
      },
      "execution_count": 2,
      "outputs": [
        {
          "output_type": "stream",
          "name": "stdout",
          "text": [
            "{'str1': (2, 3, 4), 'str2': (4, 3, 5, 6), 'str3': (2, 5, 7)}\n"
          ]
        }
      ]
    },
    {
      "cell_type": "markdown",
      "source": [
        "**3. Write a function that takes a list of numbers and returns a new list with only the even numbers.**"
      ],
      "metadata": {
        "id": "66PDGOvB_5GK"
      }
    },
    {
      "cell_type": "code",
      "source": [
        "def get_list(l1):\n",
        "  l2 = [i for i in l1 if i%2==0]\n",
        "  return l2\n",
        "\n",
        "l1 = [i for i in range(1,101)]\n",
        "print(f'Even numbers form l1 are: {get_list(l1)}')"
      ],
      "metadata": {
        "id": "PTT6gn5y_61J",
        "outputId": "54b75fb9-fa80-4bde-9e02-cfd5301b3871",
        "colab": {
          "base_uri": "https://localhost:8080/"
        }
      },
      "execution_count": 3,
      "outputs": [
        {
          "output_type": "stream",
          "name": "stdout",
          "text": [
            "Even numbers form l1 are: [2, 4, 6, 8, 10, 12, 14, 16, 18, 20, 22, 24, 26, 28, 30, 32, 34, 36, 38, 40, 42, 44, 46, 48, 50, 52, 54, 56, 58, 60, 62, 64, 66, 68, 70, 72, 74, 76, 78, 80, 82, 84, 86, 88, 90, 92, 94, 96, 98, 100]\n"
          ]
        }
      ]
    },
    {
      "cell_type": "markdown",
      "source": [
        "**4. Create a set with elements from a given list and then convert it to a tuple.**"
      ],
      "metadata": {
        "id": "IdIDJh_aVzlG"
      }
    },
    {
      "cell_type": "code",
      "source": [
        "l1 = [2,3,4,5,6,7]\n",
        "s1 = set(l1)\n",
        "t1 = tuple(s1)\n",
        "\n",
        "print(type(t1))\n",
        "print(t1)"
      ],
      "metadata": {
        "id": "cbHLLvDGV1te",
        "outputId": "c7327eb5-74e4-4cc9-b58b-4c2f0d97d5d7",
        "colab": {
          "base_uri": "https://localhost:8080/"
        }
      },
      "execution_count": 4,
      "outputs": [
        {
          "output_type": "stream",
          "name": "stdout",
          "text": [
            "<class 'tuple'>\n",
            "(2, 3, 4, 5, 6, 7)\n"
          ]
        }
      ]
    },
    {
      "cell_type": "markdown",
      "source": [
        "**5. Define a function that takes a dictionary as a parameter and returns the keys sorted in descending order.**"
      ],
      "metadata": {
        "id": "uyVBk9CwWhVe"
      }
    },
    {
      "cell_type": "code",
      "source": [
        "dict1 = {1:1,2:4,3:9,4:16}\n",
        "\n",
        "def get_keys(d1):\n",
        "  list1 = list(d1.keys())\n",
        "  list1.sort(reverse = True)\n",
        "  return list1\n",
        "\n",
        "get_keys(dict1)"
      ],
      "metadata": {
        "id": "PB9bWd_sWjJW",
        "outputId": "13abb0fd-8786-49c8-833c-aec3cca89df1",
        "colab": {
          "base_uri": "https://localhost:8080/"
        }
      },
      "execution_count": 5,
      "outputs": [
        {
          "output_type": "execute_result",
          "data": {
            "text/plain": [
              "[4, 3, 2, 1]"
            ]
          },
          "metadata": {},
          "execution_count": 5
        }
      ]
    },
    {
      "cell_type": "markdown",
      "source": [
        "**6. Create a list of tuples where each tuple consists of a string and an associated integer.**"
      ],
      "metadata": {
        "id": "QmnnbTslY_W3"
      }
    },
    {
      "cell_type": "code",
      "source": [
        "tuple_list = [(\"apple\", 5), (\"banana\", 3), (\"orange\", 8), (\"grape\", 2)]\n",
        "print(tuple_list)"
      ],
      "metadata": {
        "id": "wNJnVyN9ZBPi",
        "outputId": "9ecbc8f1-60b9-498a-d0b9-f7b62b05b336",
        "colab": {
          "base_uri": "https://localhost:8080/"
        }
      },
      "execution_count": 6,
      "outputs": [
        {
          "output_type": "stream",
          "name": "stdout",
          "text": [
            "[('apple', 5), ('banana', 3), ('orange', 8), ('grape', 2)]\n"
          ]
        }
      ]
    },
    {
      "cell_type": "markdown",
      "source": [
        "**7. Write a function that checks if a given element is present in both a list and a set.**"
      ],
      "metadata": {
        "id": "KpmmHR33wKin"
      }
    },
    {
      "cell_type": "code",
      "source": [
        "def is_available(element):\n",
        "  l1 = [1,2,3,4,5,6]\n",
        "  s2 = {1,3,5,8,7,2,}\n",
        "  if element in l1 and element in s2:\n",
        "    return 'Yes'\n",
        "  else:\n",
        "    return 'No'\n",
        "\n",
        "is_available(2)\n",
        "\n"
      ],
      "metadata": {
        "id": "kBANYQauwMuP",
        "outputId": "acb751df-1385-4bec-cf28-cc383309796e",
        "colab": {
          "base_uri": "https://localhost:8080/",
          "height": 36
        }
      },
      "execution_count": 12,
      "outputs": [
        {
          "output_type": "execute_result",
          "data": {
            "text/plain": [
              "'Yes'"
            ],
            "application/vnd.google.colaboratory.intrinsic+json": {
              "type": "string"
            }
          },
          "metadata": {},
          "execution_count": 12
        }
      ]
    },
    {
      "cell_type": "markdown",
      "source": [
        "**8. Define a dictionary with keys as integers and values as lists. Append an element to one of the lists.**"
      ],
      "metadata": {
        "id": "sAEVsE2zxhlV"
      }
    },
    {
      "cell_type": "code",
      "source": [
        "d1 = {1:[1,2,3],2:['Ram','Mohan'],3:[1,4,9,16]}\n",
        "print(f'Before changes in dictionay d1 is: {d1}')\n",
        "\n",
        "d1[2].append('hello')\n",
        "print(f'After changes in dictionay d1 is: {d1}')"
      ],
      "metadata": {
        "id": "JqhKNmlbxnRO",
        "outputId": "49c128c1-a25e-4f9a-858a-e2e9d16848de",
        "colab": {
          "base_uri": "https://localhost:8080/"
        }
      },
      "execution_count": 17,
      "outputs": [
        {
          "output_type": "stream",
          "name": "stdout",
          "text": [
            "Before changes in dictionay d1 is: {1: [1, 2, 3], 2: ['Ram', 'Mohan'], 3: [1, 4, 9, 16]}\n",
            "After changes in dictionay d1 is: {1: [1, 2, 3], 2: ['Ram', 'Mohan', 'hello'], 3: [1, 4, 9, 16]}\n"
          ]
        }
      ]
    },
    {
      "cell_type": "markdown",
      "source": [
        "**9. Write a function that receives a list and returns a new list containing unique elements in reverse order.**"
      ],
      "metadata": {
        "id": "NrF2lFZqzZht"
      }
    },
    {
      "cell_type": "code",
      "source": [],
      "metadata": {
        "id": "qtQr4Hcmzded"
      },
      "execution_count": null,
      "outputs": []
    }
  ]
}