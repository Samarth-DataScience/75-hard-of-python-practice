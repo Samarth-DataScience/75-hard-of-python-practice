{
  "nbformat": 4,
  "nbformat_minor": 0,
  "metadata": {
    "colab": {
      "provenance": [],
      "include_colab_link": true
    },
    "kernelspec": {
      "name": "python3",
      "display_name": "Python 3"
    },
    "language_info": {
      "name": "python"
    }
  },
  "cells": [
    {
      "cell_type": "markdown",
      "metadata": {
        "id": "view-in-github",
        "colab_type": "text"
      },
      "source": [
        "<a href=\"https://colab.research.google.com/github/Samarth-DataScience/75-hard-of-python-practice/blob/main/Day_40_python_lambda%2C%20map%2C%20reduce%2C%20nested%2C%20filter_function_practice_set.ipynb\" target=\"_parent\"><img src=\"https://colab.research.google.com/assets/colab-badge.svg\" alt=\"Open In Colab\"/></a>"
      ]
    },
    {
      "cell_type": "markdown",
      "source": [
        "**Certainly! Here are 30 questions covering topics like lambda functions, map, filter, reduce, nested functions, and variable scope in Python:**\n",
        "\n",
        "1. Write a lambda function to square a given number.\n",
        "2. Use the map function to double each element in a list.\n",
        "3. Create a list of integers and use the filter function to get only the even numbers.\n",
        "4. Define a lambda function to check if a given number is greater than 10.\n",
        "5. Use the reduce function to find the product of elements in a list.\n",
        "6. Write a nested function that calculates the square of a given number.\n",
        "7. Create a list of strings and use the map function to convert them to uppercase.\n",
        "8. Define a lambda function to calculate the cube of a given number.\n",
        "9. Use the filter function to get only the strings with length greater than 5 from a list of strings.\n",
        "10. Write a lambda function to add two numbers.\n",
        "11. Create a list of numbers and use the reduce function to find the sum.\n",
        "12. Define a function that takes a list of numbers and returns a list of their squares using the map function.\n",
        "13. Write a lambda function to check if a given string is a palindrome.\n",
        "14. Use the filter function to get only the elements divisible by 3 from a list of numbers.\n",
        "15. Define a function that uses a nested lambda function to calculate the square of a given number.\n",
        "16. Create a list of tuples, each containing two numbers, and use the map function to find the sum of each tuple.\n",
        "17. Write a lambda function to find the maximum of two numbers.\n",
        "18. Use the reduce function to find the product of elements in a list, starting from an initial value of 1.\n",
        "19. Define a function that takes a list of strings and returns a list of their lengths using the map function.\n",
        "20. Write a lambda function to check if a given number is prime.\n",
        "21. Use the filter function to get only the elements greater than the average from a list of numbers.\n",
        "22. Define a nested function with a closure that keeps track of the total count of function calls.\n",
        "23. Create a list of strings and use the map function to concatenate \" - Python\" to each string.\n",
        "24. Write a lambda function to calculate the square root of a given number.\n",
        "25. Use the filter function to get only the elements that are strings from a mixed list.\n",
        "26. Define a function that takes a list of numbers and returns a list of their cubes using the map function.\n",
        "27. Write a lambda function to reverse a given string.\n",
        "28. Use the reduce function to find the maximum of a list of numbers.\n",
        "29. Define a function that uses a nested lambda function to calculate the product of two given numbers.\n",
        "30. Create a list of dictionaries, each containing 'name' and 'age', and use the map function to extract only the names.\n",
        "\n",
        "Feel free to use these questions for practice, and if you have any specific doubts or need explanations, feel free to ask!"
      ],
      "metadata": {
        "id": "7E8Jli64kFBs"
      }
    },
    {
      "cell_type": "markdown",
      "source": [
        "**1. Write a lambda function to square a given number.**"
      ],
      "metadata": {
        "id": "h7WM7gcNkGnU"
      }
    },
    {
      "cell_type": "code",
      "source": [
        "square = lambda x: x**2\n",
        "print(square(2))"
      ],
      "metadata": {
        "colab": {
          "base_uri": "https://localhost:8080/"
        },
        "id": "WjHNrpEYlV1z",
        "outputId": "84794ab6-42a5-4bc1-d4e0-c43c258a339d"
      },
      "execution_count": null,
      "outputs": [
        {
          "output_type": "stream",
          "name": "stdout",
          "text": [
            "4\n"
          ]
        }
      ]
    },
    {
      "cell_type": "markdown",
      "source": [
        "**2. Use the map function to double each element in a list.**"
      ],
      "metadata": {
        "id": "hrtixwjRllRj"
      }
    },
    {
      "cell_type": "code",
      "source": [
        "list1 = [2,3,4,5,6]\n",
        "output = list(map(lambda x : x+x, list1 ))\n",
        "print(output)"
      ],
      "metadata": {
        "colab": {
          "base_uri": "https://localhost:8080/"
        },
        "id": "62KYRfNLlnrr",
        "outputId": "4fa0e41e-192d-4ea6-ee4b-38c15c221389"
      },
      "execution_count": null,
      "outputs": [
        {
          "output_type": "stream",
          "name": "stdout",
          "text": [
            "[4, 6, 8, 10, 12]\n"
          ]
        }
      ]
    },
    {
      "cell_type": "markdown",
      "source": [
        "**3. Create a list of integers and use the filter function to get only the even numbers.**"
      ],
      "metadata": {
        "id": "WBcUsm8kqbk5"
      }
    },
    {
      "cell_type": "code",
      "source": [
        "my_integer_list = [1, 2, 3, 4, 5, 6, 7, 8, 9, 10, 11, 12, 13, 14, 15, 16, 17, 18, 19, 20]\n",
        "only_even = list(filter(lambda x: (x%2==0), my_integer_list))\n",
        "print(only_even)"
      ],
      "metadata": {
        "colab": {
          "base_uri": "https://localhost:8080/"
        },
        "id": "7FXHy7doqdaK",
        "outputId": "9b63081f-c032-43dc-f21f-baf10d694e37"
      },
      "execution_count": null,
      "outputs": [
        {
          "output_type": "stream",
          "name": "stdout",
          "text": [
            "[2, 4, 6, 8, 10, 12, 14, 16, 18, 20]\n"
          ]
        }
      ]
    },
    {
      "cell_type": "markdown",
      "source": [
        "**4. Define a lambda function to check if a given number is greater than 10.**"
      ],
      "metadata": {
        "id": "CIdk1-XUNFtF"
      }
    },
    {
      "cell_type": "code",
      "source": [
        "def check_num(f, l1):\n",
        "    result = []\n",
        "    for i in l1:\n",
        "        if f(i):\n",
        "            result.append(i)\n",
        "    return result\n",
        "\n",
        "list1 = [14, 37, 8, 44, 23, 5, 12, 31, 19, 49, 2, 16, 28, 41, 7, 46, 35, 9, 27, 3]\n",
        "result_list = check_num(lambda x: x > 10, list1)\n",
        "\n",
        "print(result_list)\n"
      ],
      "metadata": {
        "colab": {
          "base_uri": "https://localhost:8080/"
        },
        "id": "gKnUlhaENH3e",
        "outputId": "74e89da2-0a4b-4827-c81d-84fa26d85ef1"
      },
      "execution_count": null,
      "outputs": [
        {
          "output_type": "stream",
          "name": "stdout",
          "text": [
            "[14, 37, 44, 23, 12, 31, 19, 49, 16, 28, 41, 46, 35, 27]\n"
          ]
        }
      ]
    },
    {
      "cell_type": "markdown",
      "source": [
        "**5. Use the reduce function to find the product of elements in a list.**"
      ],
      "metadata": {
        "id": "jW57pskkNIiB"
      }
    },
    {
      "cell_type": "code",
      "source": [
        "import functools\n",
        "list1 = [14, 37, 8, 44, 23, 5, 12]\n",
        "product = (functools.reduce(lambda x,y:x*y,list1))\n",
        "print(product)"
      ],
      "metadata": {
        "colab": {
          "base_uri": "https://localhost:8080/"
        },
        "id": "9kI1-4lFNNNN",
        "outputId": "33fc2b34-5398-4df7-8bb3-cb6a97c8457a"
      },
      "execution_count": null,
      "outputs": [
        {
          "output_type": "stream",
          "name": "stdout",
          "text": [
            "251623680\n"
          ]
        }
      ]
    },
    {
      "cell_type": "markdown",
      "source": [
        "**6. Write a nested function that calculates the square of a given number.**"
      ],
      "metadata": {
        "id": "vvz883lmpgN_"
      }
    },
    {
      "cell_type": "code",
      "source": [
        "def calculate(number):\n",
        "  def square_roots():\n",
        "    square_root = number**2\n",
        "    return square_root\n",
        "  return square_roots\n",
        "\n",
        "\n",
        "return_function = calculate(4)\n",
        "print(return_function())"
      ],
      "metadata": {
        "id": "8Dr4ENX3pkS-",
        "outputId": "f7ce8d09-075b-4fbe-9d56-bc4b0a1fd96f",
        "colab": {
          "base_uri": "https://localhost:8080/"
        }
      },
      "execution_count": null,
      "outputs": [
        {
          "output_type": "stream",
          "name": "stdout",
          "text": [
            "16\n"
          ]
        }
      ]
    },
    {
      "cell_type": "markdown",
      "source": [
        "**7. Create a list of strings and use the map function to convert them to uppercase.**"
      ],
      "metadata": {
        "id": "UMP4ET3lp8iF"
      }
    },
    {
      "cell_type": "code",
      "source": [
        "list_of_str = ['Avishek','Samarth','Ramesh','Nitesh','Sanju']\n",
        "upper_case = list(map(lambda x:x.upper(),list_of_str))\n",
        "print(upper_case)"
      ],
      "metadata": {
        "id": "MDZhUsaQp-Gk",
        "outputId": "430ecbbd-a9d9-431d-cce3-f2166ecba2b2",
        "colab": {
          "base_uri": "https://localhost:8080/"
        }
      },
      "execution_count": null,
      "outputs": [
        {
          "output_type": "stream",
          "name": "stdout",
          "text": [
            "['AVISHEK', 'SAMARTH', 'RAMESH', 'NITESH', 'SANJU']\n"
          ]
        }
      ]
    },
    {
      "cell_type": "markdown",
      "source": [
        "**8. Define a lambda function to calculate the cube of a given number.**"
      ],
      "metadata": {
        "id": "m3VYiO0NqrtO"
      }
    },
    {
      "cell_type": "code",
      "source": [
        "def cube(f):\n",
        "  return f\n",
        "\n",
        "cube_function = cube(lambda x:x**3)\n",
        "print(cube_function(5))\n"
      ],
      "metadata": {
        "id": "PUn9xSZnqtg9",
        "outputId": "f2c1db67-2aed-4188-ecda-5f32146b3db4",
        "colab": {
          "base_uri": "https://localhost:8080/"
        }
      },
      "execution_count": null,
      "outputs": [
        {
          "output_type": "stream",
          "name": "stdout",
          "text": [
            "125\n"
          ]
        }
      ]
    },
    {
      "cell_type": "markdown",
      "source": [
        "**9. Use the filter function to get only the strings with length greater than 5 from a list of strings.**"
      ],
      "metadata": {
        "id": "fPt1RwM-sAjW"
      }
    },
    {
      "cell_type": "code",
      "source": [
        "list_of_str = ['Avishek','Samarth','Ramesh','Nitesh','Sanju','Kang','Dev']\n",
        "new_list = list(filter(lambda x :len(x) > 5, list_of_str))\n",
        "print(new_list)"
      ],
      "metadata": {
        "id": "COis-r5vsCLm",
        "outputId": "0dfe2640-9142-4ff4-cd67-f4fc886550ec",
        "colab": {
          "base_uri": "https://localhost:8080/"
        }
      },
      "execution_count": null,
      "outputs": [
        {
          "output_type": "stream",
          "name": "stdout",
          "text": [
            "['Avishek', 'Samarth', 'Ramesh', 'Nitesh']\n"
          ]
        }
      ]
    },
    {
      "cell_type": "markdown",
      "source": [
        "**10. Write a lambda function to add two numbers.**"
      ],
      "metadata": {
        "id": "0ePyVq4hsvek"
      }
    },
    {
      "cell_type": "code",
      "source": [
        "addition = lambda x, y: x + y\n",
        "add = addition(4, 5)\n",
        "print(f'addition of two numbers are: {add}')"
      ],
      "metadata": {
        "id": "AgkLsk1WsxBz",
        "outputId": "ad4c5d24-4e9d-4365-e02a-05e83a020f76",
        "colab": {
          "base_uri": "https://localhost:8080/"
        }
      },
      "execution_count": null,
      "outputs": [
        {
          "output_type": "stream",
          "name": "stdout",
          "text": [
            "addition of two numbers are: 9\n"
          ]
        }
      ]
    },
    {
      "cell_type": "markdown",
      "source": [
        "**11.Create a list of numbers and use the reduce function to find the sum.**"
      ],
      "metadata": {
        "id": "2GGKlEPRUUPZ"
      }
    },
    {
      "cell_type": "code",
      "source": [
        "num_list = [1,2,3,4,5]\n",
        "sum = reduce(lambda x,y : x + y, num_list)\n",
        "print(sum)"
      ],
      "metadata": {
        "id": "bWZqrWIdUekK",
        "outputId": "37e3a9cb-677e-47fb-cb74-cb017f864d7f",
        "colab": {
          "base_uri": "https://localhost:8080/",
          "height": 279
        }
      },
      "execution_count": null,
      "outputs": [
        {
          "output_type": "error",
          "ename": "NameError",
          "evalue": "ignored",
          "traceback": [
            "\u001b[0;31m---------------------------------------------------------------------------\u001b[0m",
            "\u001b[0;31mNameError\u001b[0m                                 Traceback (most recent call last)",
            "\u001b[0;32m<ipython-input-13-b46b48ab4280>\u001b[0m in \u001b[0;36m<cell line: 2>\u001b[0;34m()\u001b[0m\n\u001b[1;32m      1\u001b[0m \u001b[0mnum_list\u001b[0m \u001b[0;34m=\u001b[0m \u001b[0;34m[\u001b[0m\u001b[0;36m1\u001b[0m\u001b[0;34m,\u001b[0m\u001b[0;36m2\u001b[0m\u001b[0;34m,\u001b[0m\u001b[0;36m3\u001b[0m\u001b[0;34m,\u001b[0m\u001b[0;36m4\u001b[0m\u001b[0;34m,\u001b[0m\u001b[0;36m5\u001b[0m\u001b[0;34m]\u001b[0m\u001b[0;34m\u001b[0m\u001b[0;34m\u001b[0m\u001b[0m\n\u001b[0;32m----> 2\u001b[0;31m \u001b[0msum\u001b[0m \u001b[0;34m=\u001b[0m \u001b[0mreduce\u001b[0m\u001b[0;34m(\u001b[0m\u001b[0;32mlambda\u001b[0m \u001b[0mx\u001b[0m\u001b[0;34m,\u001b[0m\u001b[0my\u001b[0m \u001b[0;34m:\u001b[0m \u001b[0mx\u001b[0m \u001b[0;34m+\u001b[0m \u001b[0my\u001b[0m\u001b[0;34m,\u001b[0m \u001b[0mnum_list\u001b[0m\u001b[0;34m)\u001b[0m\u001b[0;34m\u001b[0m\u001b[0;34m\u001b[0m\u001b[0m\n\u001b[0m\u001b[1;32m      3\u001b[0m \u001b[0mprint\u001b[0m\u001b[0;34m(\u001b[0m\u001b[0msum\u001b[0m\u001b[0;34m)\u001b[0m\u001b[0;34m\u001b[0m\u001b[0;34m\u001b[0m\u001b[0m\n",
            "\u001b[0;31mNameError\u001b[0m: name 'reduce' is not defined"
          ]
        }
      ]
    },
    {
      "cell_type": "markdown",
      "source": [
        "**12. Define a function that takes a list of numbers and returns a list of their squares using the map function.**"
      ],
      "metadata": {
        "id": "ynn64k4xXErw"
      }
    },
    {
      "cell_type": "code",
      "source": [
        "squares = list(map(lambda x: x**2, num_list))\n",
        "print(squares)"
      ],
      "metadata": {
        "id": "N7rvu83CXGQc",
        "outputId": "fd45b422-d448-4610-a5e4-315385d20593",
        "colab": {
          "base_uri": "https://localhost:8080/"
        }
      },
      "execution_count": null,
      "outputs": [
        {
          "output_type": "stream",
          "name": "stdout",
          "text": [
            "[1, 4, 9, 16, 25]\n"
          ]
        }
      ]
    },
    {
      "cell_type": "markdown",
      "source": [
        "**13. Write a lambda function to check if a given string is a palindrome.**"
      ],
      "metadata": {
        "id": "F3fsC58Zia06"
      }
    },
    {
      "cell_type": "code",
      "source": [
        "string1 = input(str('Enter the word you want to test: '))\n",
        "\n",
        "def is_palindrome(string):\n",
        "  return string == string[::-1]\n",
        "\n",
        "if is_palindrome(string1):\n",
        "  print(f'Yes \"{string1}\" is a a palindrome.')\n",
        "else:\n",
        "  print(f'\"{string1}\" is not a palindrome word.')\n",
        "\n",
        "\n"
      ],
      "metadata": {
        "id": "IVYFSVdLirB9",
        "outputId": "0939aead-bf7d-47cc-c8c5-ccce3cb9c5c5",
        "colab": {
          "base_uri": "https://localhost:8080/"
        }
      },
      "execution_count": null,
      "outputs": [
        {
          "output_type": "stream",
          "name": "stdout",
          "text": [
            "Enter the word you want to test: english\n",
            "\"english\" is not a palindrome word.\n"
          ]
        }
      ]
    },
    {
      "cell_type": "markdown",
      "source": [
        "**14. Use the filter function to get only the elements divisible by 3 from a list of numbers.**"
      ],
      "metadata": {
        "id": "gCZgPoX2nkhg"
      }
    },
    {
      "cell_type": "code",
      "source": [
        "list_of_numbers = [2,3,5,6,3,1]\n",
        "new_list = list(filter(lambda x : x%3==0, list_of_numbers))\n",
        "print(new_list)"
      ],
      "metadata": {
        "id": "Egbuacf1nnJC",
        "outputId": "91ddfd3f-f025-4d58-c18f-3ef4a0b5966a",
        "colab": {
          "base_uri": "https://localhost:8080/"
        }
      },
      "execution_count": null,
      "outputs": [
        {
          "output_type": "stream",
          "name": "stdout",
          "text": [
            "[3, 6, 3]\n"
          ]
        }
      ]
    },
    {
      "cell_type": "markdown",
      "source": [
        "**15. Define a function that uses a nested lambda function to calculate the square of a given number.**"
      ],
      "metadata": {
        "id": "9E814_SSpBkL"
      }
    },
    {
      "cell_type": "code",
      "source": [
        "def calculate_square():\n",
        "    square = lambda x: x**2\n",
        "    return square\n",
        "\n",
        "\n",
        "number = 5\n",
        "square_function = calculate_square()\n",
        "result = square_function(number)\n",
        "print(f\"The square of {number} is: {result}\")\n"
      ],
      "metadata": {
        "id": "Fu6FfX5mpElN",
        "outputId": "a27d88dc-0b07-4ee8-ab86-4659d8563292",
        "colab": {
          "base_uri": "https://localhost:8080/"
        }
      },
      "execution_count": null,
      "outputs": [
        {
          "output_type": "stream",
          "name": "stdout",
          "text": [
            "The square of 5 is: 25\n"
          ]
        }
      ]
    },
    {
      "cell_type": "markdown",
      "source": [
        "**16. Create a list of tuples, each containing two numbers, and use the map function to find the sum of each tuple.**"
      ],
      "metadata": {
        "id": "KjagaAPVFhq4"
      }
    },
    {
      "cell_type": "code",
      "source": [
        "list_of_tuples = [(2,3),\n",
        "                  (5,6),\n",
        "                  (6,4),\n",
        "                  (7,6)]\n",
        "\n",
        "sum = list(map(lambda x: sum(x), list_of_tuples))\n",
        "print(sum)"
      ],
      "metadata": {
        "id": "pU_y_UjLFkL_",
        "outputId": "bd947862-edb1-4aca-f878-c4b5fb7ce416",
        "colab": {
          "base_uri": "https://localhost:8080/"
        }
      },
      "execution_count": null,
      "outputs": [
        {
          "output_type": "stream",
          "name": "stdout",
          "text": [
            "[5, 11, 10, 13]\n"
          ]
        }
      ]
    },
    {
      "cell_type": "markdown",
      "source": [
        "**17. Write a lambda function to find the maximum of two numbers.**"
      ],
      "metadata": {
        "id": "xBuu_IxlG_8c"
      }
    },
    {
      "cell_type": "code",
      "source": [
        "maximum = (lambda x,y: x if x>y else x<y)(2,3)\n",
        "print(maximum)"
      ],
      "metadata": {
        "id": "y2F4VDd2HClM",
        "outputId": "a09c256f-03ee-469d-e184-51651f963b53",
        "colab": {
          "base_uri": "https://localhost:8080/"
        }
      },
      "execution_count": null,
      "outputs": [
        {
          "output_type": "stream",
          "name": "stdout",
          "text": [
            "True\n"
          ]
        }
      ]
    },
    {
      "cell_type": "markdown",
      "source": [
        "**18. Use the reduce function to find the product of elements in a list, starting from an initial value of 1.**"
      ],
      "metadata": {
        "id": "GoviAo11IWkO"
      }
    },
    {
      "cell_type": "code",
      "source": [
        "from functools import reduce\n",
        "\n",
        "# Your list of numbers\n",
        "numbers = [2, 3, 4, 5]\n",
        "\n",
        "# Use reduce to find the product starting from an initial value of 1\n",
        "product = reduce(lambda x, y: x * y, numbers, 1)\n",
        "\n",
        "print(product)\n"
      ],
      "metadata": {
        "id": "fnawEqmIIeQA",
        "outputId": "bd0aea34-85e8-4e21-d3c7-e0c8dafe56a6",
        "colab": {
          "base_uri": "https://localhost:8080/"
        }
      },
      "execution_count": null,
      "outputs": [
        {
          "output_type": "stream",
          "name": "stdout",
          "text": [
            "120\n"
          ]
        }
      ]
    }
  ]
}