{
  "nbformat": 4,
  "nbformat_minor": 0,
  "metadata": {
    "colab": {
      "provenance": [],
      "toc_visible": true,
      "authorship_tag": "ABX9TyMy2ELEk6eF/Dn9wBZwfUWJ",
      "include_colab_link": true
    },
    "kernelspec": {
      "name": "python3",
      "display_name": "Python 3"
    },
    "language_info": {
      "name": "python"
    }
  },
  "cells": [
    {
      "cell_type": "markdown",
      "metadata": {
        "id": "view-in-github",
        "colab_type": "text"
      },
      "source": [
        "<a href=\"https://colab.research.google.com/github/Samarth-DataScience/75-hard-of-python-practice/blob/main/Day%2014-python-(tuple)-%7Bset%7D-practice-set.ipynb\" target=\"_parent\"><img src=\"https://colab.research.google.com/assets/colab-badge.svg\" alt=\"Open In Colab\"/></a>"
      ]
    },
    {
      "cell_type": "markdown",
      "source": [
        "\n",
        "1. Create an empty tuple.\n",
        "2. Define a tuple with three elements of different data types.\n",
        "3. Access the second element of a tuple.\n",
        "4. Concatenate two tuples.\n",
        "5. Check if an element exists in a tuple.\n",
        "6. Find the length of a tuple.\n",
        "7. Create a tuple with a nested tuple.\n",
        "8. Convert a list to a tuple.\n",
        "9. Extract the last three elements of a tuple.\n",
        "10. Count the occurrences of a specific element in a tuple.\n",
        "11. Create an empty set.\n",
        "12. Define a set with five integer elements.\n",
        "13. Add an element to a set.\n",
        "14. Remove an element from a set.\n",
        "15. Check if two sets have any common elements.\n",
        "16. Find the union of two sets.\n",
        "17. Get the intersection of two sets.\n",
        "18. Check if a set is a subset of another set.\n",
        "19. Remove all elements from a set.\n",
        "20. Convert a list to a set.\n",
        "21. Create a string with your name.\n",
        "22. Concatenate two strings.\n",
        "23. Access the third character of a string.\n",
        "24. Convert a string to uppercase.\n",
        "25. Check if a substring is present in a string.\n",
        "26. Replace a specific substring in a string.\n",
        "27. Find the length of a string.\n",
        "28. Count the occurrences of a particular character in a string.\n",
        "29. Check if a string is numeric.\n",
        "30. Reverse a string.\n"
      ],
      "metadata": {
        "id": "XgmRaS-brDE3"
      }
    },
    {
      "cell_type": "markdown",
      "source": [],
      "metadata": {
        "id": "oGgN-aIdrOf_"
      }
    }
  ]
}