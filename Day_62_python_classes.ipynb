{
  "nbformat": 4,
  "nbformat_minor": 0,
  "metadata": {
    "colab": {
      "provenance": [],
      "include_colab_link": true
    },
    "kernelspec": {
      "name": "python3",
      "display_name": "Python 3"
    },
    "language_info": {
      "name": "python"
    }
  },
  "cells": [
    {
      "cell_type": "markdown",
      "metadata": {
        "id": "view-in-github",
        "colab_type": "text"
      },
      "source": [
        "<a href=\"https://colab.research.google.com/github/Samarth-DataScience/Python-75-Hard-Challenge/blob/main/Day_62_python_classes.ipynb\" target=\"_parent\"><img src=\"https://colab.research.google.com/assets/colab-badge.svg\" alt=\"Open In Colab\"/></a>"
      ]
    },
    {
      "cell_type": "markdown",
      "source": [
        "##`Q-1:` Rectangle Class\n",
        "1. Write a Rectangle class in Python language, allowing you to build a rectangle with length and width attributes.\n",
        "\n",
        "2. Create a Perimeter() method to calculate the perimeter of the rectangle and a Area() method to calculate the area of ​​the rectangle.\n",
        "\n",
        "3. Create a method display() that display the length, width, perimeter and area of an object created using an instantiation on rectangle class."
      ],
      "metadata": {
        "id": "FyUJ3PRAsPr4"
      }
    },
    {
      "cell_type": "markdown",
      "source": [
        "Eg.\n",
        "After making above classes and methods, on executing below code:-\n",
        "```\n",
        "my_rectangle = Rectangle(3 , 4)\n",
        "my_rectangle.display()\n",
        "```\n",
        "\n",
        "`Output:`\n",
        "```\n",
        "The length of rectangle is:  3\n",
        "The width of rectangle is:  4\n",
        "The perimeter of rectangle is:  14\n",
        "The area of rectangle is:  12\n",
        "```\n"
      ],
      "metadata": {
        "id": "GxUtOqJfssFK"
      }
    },
    {
      "cell_type": "code",
      "source": [
        "# write your code here\n",
        "# Q1, part 1--\n",
        "\n",
        "class Rectangle:\n",
        "    def __init__(self, length, width):\n",
        "      self.length = length\n",
        "      self.width = width\n",
        "      print(f'The rectangle is created with the length {self.length} and with width is {self.width}.')\n"
      ],
      "metadata": {
        "id": "92_QT-Uj6NBg"
      },
      "execution_count": 1,
      "outputs": []
    },
    {
      "cell_type": "code",
      "source": [
        "my_rectangle = Rectangle(3 , 4)"
      ],
      "metadata": {
        "colab": {
          "base_uri": "https://localhost:8080/"
        },
        "id": "vvrgufKPfAnq",
        "outputId": "1538d587-22e2-4fd4-8b13-a0523a396de7"
      },
      "execution_count": 2,
      "outputs": [
        {
          "output_type": "stream",
          "name": "stdout",
          "text": [
            "The rectangle is created with the length 3 and with width is 4.\n"
          ]
        }
      ]
    },
    {
      "cell_type": "markdown",
      "source": [
        "**2. Create a Perimeter() method to calculate the perimeter of the rectangle and a Area() method to calculate the area of ​​the rectangle.**"
      ],
      "metadata": {
        "id": "c8MWNCq_fJ28"
      }
    },
    {
      "cell_type": "code",
      "source": [
        "# Q1, part 2--\n",
        "\n",
        "class Rectangle:\n",
        "    def __init__(self, length, width):\n",
        "      self.length = length\n",
        "      self.width = width\n",
        "      print(f'The rectangle is created with the length {self.length} and with width is {self.width}.')\n",
        "\n",
        "\n",
        "    def perimeter(self):\n",
        "      print(f'The perimeter of the rectangle is {2*(self.length + self.width)}')\n",
        "\n",
        "    def area(self):\n",
        "      print(f'The area of the rectangle is {self.length * self.width}')\n"
      ],
      "metadata": {
        "id": "4O3eYyp-fEUB"
      },
      "execution_count": 3,
      "outputs": []
    },
    {
      "cell_type": "code",
      "source": [
        "my_rectangle = Rectangle(3,4)\n",
        "my_rectangle.perimeter()\n",
        "my_rectangle.area()"
      ],
      "metadata": {
        "colab": {
          "base_uri": "https://localhost:8080/"
        },
        "id": "JZPVI5jlf9KB",
        "outputId": "adcfc33b-8dc4-4c7f-8fde-e0751c39f8bc"
      },
      "execution_count": 4,
      "outputs": [
        {
          "output_type": "stream",
          "name": "stdout",
          "text": [
            "The rectangle is created with the length 3 and with width is 4.\n",
            "The perimeter of the rectangle is 14\n",
            "The area of the rectangle is 12\n"
          ]
        }
      ]
    },
    {
      "cell_type": "markdown",
      "source": [
        "##`Q-2: Bank Class`\n",
        "\n",
        "1. Create a Python class called `BankAccount` which represents a bank account, having as attributes: `accountNumber` (numeric type), `name` (name of the account owner as string type), `balance`.\n",
        "2. Create a constructor with parameters: `accountNumber, name, balance`.\n",
        "3. Create a `Deposit()` method which manages the deposit actions.\n",
        "4. Create a `Withdrawal()` method  which manages withdrawals actions.\n",
        "5. Create an `bankFees()` method to apply the bank fees with a percentage of 5% of the balance account.\n",
        "6. Create a `display()` method to display account details.\n",
        "Give the complete code for the  BankAccount class."
      ],
      "metadata": {
        "id": "r_GxrS0Vrdom"
      }
    },
    {
      "cell_type": "markdown",
      "source": [
        "Eg.\n",
        "After making above classes and methods, on executing below code:-\n",
        "```\n",
        "newAccount = BankAccount(2178514584, \"Mandy\" , 2800)\n",
        "\n",
        "newAccount.Withdrawal(700)\n",
        "\n",
        "newAccount.Deposit(1000)\n",
        "\n",
        "newAccount.display()\n",
        "```\n",
        "\n",
        "`Output:`\n",
        "```\n",
        "Account Number :  2178514584\n",
        "Account Name :  Mandy\n",
        "Account Balance :  3100 ₹\n",
        "```"
      ],
      "metadata": {
        "id": "qvVkOUJgvTV_"
      }
    },
    {
      "cell_type": "code",
      "source": [
        "# write your code here\n",
        "class BankAccount:\n",
        "  def __init__(self, accountNumber, name, balance):\n",
        "    self.accountNumber = int(accountNumber)\n",
        "    self.name = str(name)\n",
        "    self.balance = int(balance)\n",
        "\n",
        "  def deposit(self, depositAmount):\n",
        "    self.balance += depositAmount\n",
        "    print(f'{depositAmount} has been deposited.')\n",
        "\n",
        "  def withdrawal(self, withdrawalAmount):\n",
        "    if self.balance >= withdrawalAmount:\n",
        "      self.balance -= withdrawalAmount\n",
        "      print(f'Remaining Balance: {self.balance}')\n",
        "\n",
        "    else:\n",
        "      print(f'Insufficient Balance: {self.balance}')\n",
        "\n",
        "  def bankFees(self):\n",
        "    if self.balance > 0:\n",
        "      bankFee = self.balance * 0.05\n",
        "      print(f'Total bank fee on your balance is: {bankFee}')\n",
        "\n",
        "  def display(self):\n",
        "    print(f\"\"\"\n",
        "  Account Number: {self.accountNumber}\n",
        "  Account Name: {self.name}\n",
        "  Account Balance: {self.balance}\n",
        "          \"\"\")\n",
        "\n"
      ],
      "metadata": {
        "id": "fUQOmQyA6YDR"
      },
      "execution_count": 5,
      "outputs": []
    },
    {
      "cell_type": "code",
      "source": [
        "obj1 = BankAccount(22420443,'Samarth', 2400)"
      ],
      "metadata": {
        "id": "b62Sh_hqqA8A"
      },
      "execution_count": 6,
      "outputs": []
    },
    {
      "cell_type": "code",
      "source": [
        "obj1.deposit(400)"
      ],
      "metadata": {
        "id": "-MQjyoNsqQI1",
        "outputId": "964b199f-ebe0-4b2a-ee4d-097fed246ddd",
        "colab": {
          "base_uri": "https://localhost:8080/"
        }
      },
      "execution_count": 7,
      "outputs": [
        {
          "output_type": "stream",
          "name": "stdout",
          "text": [
            "400 has been deposited.\n"
          ]
        }
      ]
    },
    {
      "cell_type": "code",
      "source": [
        "obj1.withdrawal(200)"
      ],
      "metadata": {
        "id": "1fZKZfS4qmBm",
        "outputId": "f17777ee-514b-459a-f6e8-d2c95eb3e073",
        "colab": {
          "base_uri": "https://localhost:8080/"
        }
      },
      "execution_count": 8,
      "outputs": [
        {
          "output_type": "stream",
          "name": "stdout",
          "text": [
            "Remaining Balance: 2600\n"
          ]
        }
      ]
    },
    {
      "cell_type": "code",
      "source": [
        "obj1.display()"
      ],
      "metadata": {
        "id": "k06QnWoKqwLV",
        "outputId": "11a4a711-fc86-4f2f-dfef-d927a0b3646e",
        "colab": {
          "base_uri": "https://localhost:8080/"
        }
      },
      "execution_count": 9,
      "outputs": [
        {
          "output_type": "stream",
          "name": "stdout",
          "text": [
            "\n",
            "  Account Number: 22420443\n",
            "  Account Name: Samarth\n",
            "  Account Balance: 2600\n",
            "          \n"
          ]
        }
      ]
    },
    {
      "cell_type": "markdown",
      "source": [
        "##`Q-3:Computation class`\n",
        "\n",
        "1. Create a `Computation` class with a default constructor (without parameters) allowing to perform various calculations on integers numbers.\n",
        "2. Create a method called `Factorial()` which allows to calculate the factorial of an integer n. Integer n as parameter for this method\n",
        "\n",
        "3. Create a method called `naturalSum()` allowing to calculate the sum of the first n integers 1 + 2 + 3 + .. + n. Integer n as parameter for this method.\n",
        "\n",
        "4. Create a method called `testPrime()` in  the Calculation class to test the primality of a given integer n, n is Prime or Not? Integer n as parameter for this method.\n",
        "\n",
        "5. Create  a method called `testPrims()` allowing to test if two numbers are prime between them. Two integers are prime to one another if they have only `1` as their common divisor. Eg. 4 and 9 are prime to each other.\n",
        "\n",
        "5. Create a `tableMult()` method which creates and displays the multiplication table of a given integer. Then create an `allTablesMult()` method to display all the integer multiplication tables 1, 2, 3, ..., 9.\n",
        "\n",
        "6. Create a static `listDiv()` method that gets all the divisors of a given integer on new list called  Ldiv. Create another `listDivPrim()` method that gets all the prime divisors of a given integer."
      ],
      "metadata": {
        "id": "QovcQAZTrgGU"
      }
    },
    {
      "cell_type": "code",
      "source": [
        "# write your code here\n",
        "import math\n",
        "class Computation:\n",
        "  def __init__(self):\n",
        "    print('Here you can perform computation: ')\n",
        "\n",
        "  def factorial(self, n):\n",
        "    fact = math.factorial(n)\n",
        "    print(f'Factorial of {n} is {fact}.')\n",
        "\n",
        "  def naturalSum(self, n):\n",
        "    NS = (n * (n + 1)) / 2\n",
        "    print(f'The natural sum is {NS}')\n",
        "\n",
        "  def testPrime(self, n):\n",
        "    if n <= 1:\n",
        "      return False\n",
        "\n",
        "    else:\n",
        "      for i in range(2, int(n ** 0.5) + 1):\n",
        "        if n % i == 0:\n",
        "          return False\n",
        "      return True\n",
        "\n",
        "  def testPrims(self, num1, num2):\n",
        "    def gcd(n1, n2):\n",
        "      while n2:\n",
        "        n1, n2 = n2, n1 % n2\n",
        "        return n1\n",
        "\n",
        "    gcd(num1,num2)\n",
        "\n",
        "  def tableMult(self, n):\n",
        "    for i in range(1, 11):\n",
        "      print(f'{n} * {i} = {n*i}')\n",
        "\n",
        ""
      ],
      "metadata": {
        "id": "YEkPH70l6Z-o"
      },
      "execution_count": 43,
      "outputs": []
    },
    {
      "cell_type": "code",
      "source": [
        "obj1 = Computation()"
      ],
      "metadata": {
        "colab": {
          "base_uri": "https://localhost:8080/"
        },
        "id": "PoOYTJQbYjHD",
        "outputId": "74433ed9-92c1-4a86-f09b-222ef02a373f"
      },
      "execution_count": 44,
      "outputs": [
        {
          "output_type": "stream",
          "name": "stdout",
          "text": [
            "Here you can perform computation: \n"
          ]
        }
      ]
    },
    {
      "cell_type": "code",
      "source": [
        "obj1.factorial(4)"
      ],
      "metadata": {
        "colab": {
          "base_uri": "https://localhost:8080/"
        },
        "id": "V4fjG9D4Yr76",
        "outputId": "8e1fa017-5773-4bc8-c6b0-f75e39593566"
      },
      "execution_count": 45,
      "outputs": [
        {
          "output_type": "stream",
          "name": "stdout",
          "text": [
            "Factorial of 4 is 24.\n"
          ]
        }
      ]
    },
    {
      "cell_type": "code",
      "source": [
        "obj1.naturalSum(5)"
      ],
      "metadata": {
        "colab": {
          "base_uri": "https://localhost:8080/"
        },
        "id": "Aa8w1xDGZBqU",
        "outputId": "c61375d9-8395-4215-95a6-5c55c38661a0"
      },
      "execution_count": 46,
      "outputs": [
        {
          "output_type": "stream",
          "name": "stdout",
          "text": [
            "The natural sum is 15.0\n"
          ]
        }
      ]
    },
    {
      "cell_type": "code",
      "source": [
        "obj1.testPrime(7)"
      ],
      "metadata": {
        "colab": {
          "base_uri": "https://localhost:8080/"
        },
        "id": "HUz9obtmN4jv",
        "outputId": "a8cde3ae-56e5-46a1-c4d5-0bcb700ef951"
      },
      "execution_count": 47,
      "outputs": [
        {
          "output_type": "execute_result",
          "data": {
            "text/plain": [
              "True"
            ]
          },
          "metadata": {},
          "execution_count": 47
        }
      ]
    },
    {
      "cell_type": "code",
      "source": [
        "obj1.testPrims(4,7)"
      ],
      "metadata": {
        "id": "qYdwdmNUN_QI"
      },
      "execution_count": 48,
      "outputs": []
    },
    {
      "cell_type": "code",
      "source": [
        "obj1.tableMult(2)"
      ],
      "metadata": {
        "colab": {
          "base_uri": "https://localhost:8080/"
        },
        "id": "Or5D8y_KOM6P",
        "outputId": "9180b530-d61f-4f18-cad7-db3e37882e2d"
      },
      "execution_count": 49,
      "outputs": [
        {
          "output_type": "stream",
          "name": "stdout",
          "text": [
            "2 * 1 = 2\n",
            "2 * 2 = 4\n",
            "2 * 3 = 6\n",
            "2 * 4 = 8\n",
            "2 * 5 = 10\n",
            "2 * 6 = 12\n",
            "2 * 7 = 14\n",
            "2 * 8 = 16\n",
            "2 * 9 = 18\n",
            "2 * 10 = 20\n"
          ]
        }
      ]
    },
    {
      "cell_type": "code",
      "source": [
        "class Computation:\n",
        "   def allTablesMult(self):\n",
        "    for i in range(1,10):\n",
        "      for j in range(1,11):\n",
        "        print(f'{i} * {j}   = {i * j}')\n",
        "      print()\n"
      ],
      "metadata": {
        "id": "d0N1C9lzQEYs"
      },
      "execution_count": 50,
      "outputs": []
    },
    {
      "cell_type": "code",
      "source": [
        "obj2 = Computation()"
      ],
      "metadata": {
        "id": "j3OKjLtzQLTU"
      },
      "execution_count": 51,
      "outputs": []
    },
    {
      "cell_type": "code",
      "source": [
        "obj2.allTablesMult()"
      ],
      "metadata": {
        "id": "fNipmoe5OWiY",
        "outputId": "8dc22969-6459-4f2a-8efc-c2d22501f238",
        "colab": {
          "base_uri": "https://localhost:8080/"
        }
      },
      "execution_count": 53,
      "outputs": [
        {
          "output_type": "stream",
          "name": "stdout",
          "text": [
            "1 * 1   = 1\n",
            "1 * 2   = 2\n",
            "1 * 3   = 3\n",
            "1 * 4   = 4\n",
            "1 * 5   = 5\n",
            "1 * 6   = 6\n",
            "1 * 7   = 7\n",
            "1 * 8   = 8\n",
            "1 * 9   = 9\n",
            "1 * 10   = 10\n",
            "\n",
            "2 * 1   = 2\n",
            "2 * 2   = 4\n",
            "2 * 3   = 6\n",
            "2 * 4   = 8\n",
            "2 * 5   = 10\n",
            "2 * 6   = 12\n",
            "2 * 7   = 14\n",
            "2 * 8   = 16\n",
            "2 * 9   = 18\n",
            "2 * 10   = 20\n",
            "\n",
            "3 * 1   = 3\n",
            "3 * 2   = 6\n",
            "3 * 3   = 9\n",
            "3 * 4   = 12\n",
            "3 * 5   = 15\n",
            "3 * 6   = 18\n",
            "3 * 7   = 21\n",
            "3 * 8   = 24\n",
            "3 * 9   = 27\n",
            "3 * 10   = 30\n",
            "\n",
            "4 * 1   = 4\n",
            "4 * 2   = 8\n",
            "4 * 3   = 12\n",
            "4 * 4   = 16\n",
            "4 * 5   = 20\n",
            "4 * 6   = 24\n",
            "4 * 7   = 28\n",
            "4 * 8   = 32\n",
            "4 * 9   = 36\n",
            "4 * 10   = 40\n",
            "\n",
            "5 * 1   = 5\n",
            "5 * 2   = 10\n",
            "5 * 3   = 15\n",
            "5 * 4   = 20\n",
            "5 * 5   = 25\n",
            "5 * 6   = 30\n",
            "5 * 7   = 35\n",
            "5 * 8   = 40\n",
            "5 * 9   = 45\n",
            "5 * 10   = 50\n",
            "\n",
            "6 * 1   = 6\n",
            "6 * 2   = 12\n",
            "6 * 3   = 18\n",
            "6 * 4   = 24\n",
            "6 * 5   = 30\n",
            "6 * 6   = 36\n",
            "6 * 7   = 42\n",
            "6 * 8   = 48\n",
            "6 * 9   = 54\n",
            "6 * 10   = 60\n",
            "\n",
            "7 * 1   = 7\n",
            "7 * 2   = 14\n",
            "7 * 3   = 21\n",
            "7 * 4   = 28\n",
            "7 * 5   = 35\n",
            "7 * 6   = 42\n",
            "7 * 7   = 49\n",
            "7 * 8   = 56\n",
            "7 * 9   = 63\n",
            "7 * 10   = 70\n",
            "\n",
            "8 * 1   = 8\n",
            "8 * 2   = 16\n",
            "8 * 3   = 24\n",
            "8 * 4   = 32\n",
            "8 * 5   = 40\n",
            "8 * 6   = 48\n",
            "8 * 7   = 56\n",
            "8 * 8   = 64\n",
            "8 * 9   = 72\n",
            "8 * 10   = 80\n",
            "\n",
            "9 * 1   = 9\n",
            "9 * 2   = 18\n",
            "9 * 3   = 27\n",
            "9 * 4   = 36\n",
            "9 * 5   = 45\n",
            "9 * 6   = 54\n",
            "9 * 7   = 63\n",
            "9 * 8   = 72\n",
            "9 * 9   = 81\n",
            "9 * 10   = 90\n",
            "\n"
          ]
        }
      ]
    },
    {
      "cell_type": "markdown",
      "source": [
        "##`Q-4`: Build flashcard using class in Python.\n",
        "\n",
        "Build a flashcard using class in python. A flashcard is a card having information on both sides, which can be used as an aid in memoization. Flashcards usually have a question on one side and an answer on the other.\n",
        "\n",
        "**Example 1:**\n",
        "\n",
        "Approach:\n",
        "\n",
        "- Create a class named FlashCard.\n",
        "- Initialize dictionary fruits using __init__() method. Here you have to define fruit name as key and it's color as value. E.g., {\"Banana\": \"yellow\", \"Strawberries\": \"pink\"}\n",
        "- Now randomly choose a pair from fruits by using _random_ module and store the key in variable _fruit_ and _value_ in variable color.\n",
        "- Now prompt the user to answer the color of the randomly chosen fruit.\n",
        "- If correct print correct else print wrong.\n",
        "\n",
        "Output:\n",
        "```bash\n",
        "welcome to fruit quiz\n",
        "What is the color of Strawberries\n",
        "pink\n",
        "Correct answer\n",
        "Enter 0, if you want to play again: 0\n",
        "What is the color of watermelon\n",
        "green\n",
        "Correct answer\n",
        "Enter 0, if you want to play again: 1\n",
        "```"
      ],
      "metadata": {
        "id": "0yn23_oEriXa"
      }
    },
    {
      "cell_type": "code",
      "source": [
        "# write your code here"
      ],
      "metadata": {
        "id": "vCrUF6VU6l6w"
      },
      "execution_count": null,
      "outputs": []
    },
    {
      "cell_type": "markdown",
      "source": [
        "## `Q-5:` Problem 5 based on OOP Python.\n",
        "\n",
        "TechWorld, a technology training center, wants to allocate courses for instructors. An instructor is identified by name, technology skills, experience and average feedback. An instructor is allocated a course, if he/she satisfies the below two conditions:\n",
        "- eligibility criteria:\n",
        "    - if experience is more than 3 years, average feedback should be 4.5 or more\n",
        "    - if experience is 3 years or less, average feedback should be 4 or more\n",
        "- he/she should posses the technology skill for the course\n",
        "\n",
        "Identify the class name and attributes to represent instructors. Write a Python program to implement the class chosen with its attributes and methods.\n",
        "\n",
        "**Note:**\n",
        "- Consider all instance variables to be private and methods to be public.\n",
        "- An instructor may have multiple technology skills, so consider instance variable, technology_skill to be a list.\n",
        "- *check_eligibility()*: Return true if eligibility criteria is satisfied by the instructor. Else, return false\n",
        "- *allocate_course(technology)*: Return true if the course which requires the given technology can be allocated to the instructor. Else, return false.\n",
        "\n",
        "Represent a few objects of the class, initialize instance variables using setter methods, invoke\n",
        "appropriate methods and test your program."
      ],
      "metadata": {
        "id": "GN2r0jbRewYr"
      }
    },
    {
      "cell_type": "code",
      "source": [
        "# write your code here"
      ],
      "metadata": {
        "id": "pdMFuVFnlvKL"
      },
      "execution_count": null,
      "outputs": []
    }
  ]
}