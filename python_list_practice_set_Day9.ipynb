{
  "nbformat": 4,
  "nbformat_minor": 0,
  "metadata": {
    "colab": {
      "provenance": [],
      "include_colab_link": true
    },
    "kernelspec": {
      "name": "python3",
      "display_name": "Python 3"
    },
    "language_info": {
      "name": "python"
    }
  },
  "cells": [
    {
      "cell_type": "markdown",
      "metadata": {
        "id": "view-in-github",
        "colab_type": "text"
      },
      "source": [
        "<a href=\"https://colab.research.google.com/github/Samarth-DataScience/75-hard-of-python-practice/blob/main/python_list_practice_set_Day9.ipynb\" target=\"_parent\"><img src=\"https://colab.research.google.com/assets/colab-badge.svg\" alt=\"Open In Colab\"/></a>"
      ]
    },
    {
      "cell_type": "markdown",
      "source": [
        "Certainly! Here are 30 Python list questions covering a wide range of topics and functions, numbered from 1 to 30:\n",
        "\n",
        "1. Create an empty list named `my_list`.\n",
        "2. Initialize a list `numbers` with integers from 1 to 5.\n",
        "3. Access the third element of the `numbers` list.\n",
        "4. Append the number 6 to the `numbers` list.\n",
        "5. Extend the `numbers` list with another list `[7, 8, 9]`.\n",
        "6. Remove the element with the value 3 from the `numbers` list.\n",
        "7. Check if the value 5 is present in the `numbers` list.\n",
        "8. Find the index of the element with the value 8 in the `numbers` list.\n",
        "9. Count the number of occurrences of 2 in the `numbers` list.\n",
        "10. Reverse the order of elements in the `numbers` list.\n",
        "11. Sort the `numbers` list in ascending order.\n",
        "12. Create a new list `squares` containing the square of each number in the `numbers` list.\n",
        "13. Extract a sublist from `numbers` with elements from index 2 to 4.\n",
        "14. Create a list of lists, `matrix`, representing a 2x2 matrix.\n",
        "15. Flatten the `matrix` into a single list.\n",
        "16. Use list comprehension to create a list of even numbers from 1 to 10.\n",
        "17. Zip two lists, `names` and `ages`, into a list of tuples.\n",
        "18. Unpack the tuples from the previous question into separate lists.\n",
        "19. Copy the `numbers` list to a new list named `numbers_copy`.\n",
        "20. Clear all elements from the `numbers_copy` list.\n",
        "21. Check if two lists, `list1` and `list2`, are equal.\n",
        "22. Create a list of the first five letters of the alphabet.\n",
        "23. Insert the letter 'X' at index 2 in the alphabet list.\n",
        "24. Remove the last element from the alphabet list.\n",
        "25. Use slicing to get the last three elements of the alphabet list.\n",
        "26. Create a list of 10 zeros using a list comprehension.\n",
        "27. Find the maximum and minimum values in the `numbers` list.\n",
        "28. Remove duplicates from a list `duplicates` while preserving the order.\n",
        "29. Combine two lists, `list1` and `list2`, into a single list.\n",
        "30. Create a list of the squares of even numbers from 1 to 10 using a lambda function and `map`."
      ],
      "metadata": {
        "id": "dWPP-PJWwXNL"
      }
    },
    {
      "cell_type": "markdown",
      "source": [
        "**1. Create an empty list named my_list.**"
      ],
      "metadata": {
        "id": "_D1AqCHT52be"
      }
    },
    {
      "cell_type": "code",
      "source": [
        "my_list = []"
      ],
      "metadata": {
        "id": "sCW0jiLB56ER"
      },
      "execution_count": 3,
      "outputs": []
    },
    {
      "cell_type": "markdown",
      "source": [
        "**2. Initialize a list numbers with integers from 1 to 5.**"
      ],
      "metadata": {
        "id": "GpA3JBXi6A0G"
      }
    },
    {
      "cell_type": "code",
      "source": [
        "l1 = [1,2,3,4,5]\n",
        "print(l1)"
      ],
      "metadata": {
        "colab": {
          "base_uri": "https://localhost:8080/"
        },
        "id": "X0pwCpS56DFu",
        "outputId": "f0eb787b-d6dd-4a95-a8d1-1b60e0f5aff8"
      },
      "execution_count": 4,
      "outputs": [
        {
          "output_type": "stream",
          "name": "stdout",
          "text": [
            "[1, 2, 3, 4, 5]\n"
          ]
        }
      ]
    },
    {
      "cell_type": "markdown",
      "source": [
        "**3. Access the third element of the numbers list.**"
      ],
      "metadata": {
        "id": "lSmBdmBy8YBs"
      }
    },
    {
      "cell_type": "code",
      "source": [
        "third_element = l1[2]\n",
        "print(third_element)"
      ],
      "metadata": {
        "colab": {
          "base_uri": "https://localhost:8080/"
        },
        "id": "pxo-4JQ68aWU",
        "outputId": "c4e05337-3193-416e-892a-0bd1dbc7c118"
      },
      "execution_count": 5,
      "outputs": [
        {
          "output_type": "stream",
          "name": "stdout",
          "text": [
            "3\n"
          ]
        }
      ]
    },
    {
      "cell_type": "markdown",
      "source": [
        "**4. Append the number 6 to the numbers list.**"
      ],
      "metadata": {
        "id": "X1AvMEXJ88O8"
      }
    },
    {
      "cell_type": "code",
      "source": [
        "l1.append(6)\n",
        "print(l1)"
      ],
      "metadata": {
        "colab": {
          "base_uri": "https://localhost:8080/"
        },
        "id": "YE4Z0M2g8_OB",
        "outputId": "bab79bab-571f-4b38-8c33-8a28a9b7411f"
      },
      "execution_count": 6,
      "outputs": [
        {
          "output_type": "stream",
          "name": "stdout",
          "text": [
            "[1, 2, 3, 4, 5, 6]\n"
          ]
        }
      ]
    },
    {
      "cell_type": "markdown",
      "source": [
        "**5. Extend the numbers list with another list [7, 8, 9].**"
      ],
      "metadata": {
        "id": "uegO2bBy9IcU"
      }
    },
    {
      "cell_type": "code",
      "source": [
        "l2 = [7,8,9]\n",
        "l1.extend(l2)\n",
        "print(l1)"
      ],
      "metadata": {
        "colab": {
          "base_uri": "https://localhost:8080/"
        },
        "id": "1BHoHO0j9Ktc",
        "outputId": "3d23bb22-b9fb-4f8b-9b4c-086895a8e528"
      },
      "execution_count": 7,
      "outputs": [
        {
          "output_type": "stream",
          "name": "stdout",
          "text": [
            "[1, 2, 3, 4, 5, 6, 7, 8, 9]\n"
          ]
        }
      ]
    },
    {
      "cell_type": "markdown",
      "source": [
        "**6. Remove the element with the value 3 from the numbers list.**"
      ],
      "metadata": {
        "id": "9DNfSHN99aDM"
      }
    },
    {
      "cell_type": "code",
      "source": [
        "l1.remove(3)\n",
        "print(l1)"
      ],
      "metadata": {
        "colab": {
          "base_uri": "https://localhost:8080/"
        },
        "id": "r3jo6fd59cXM",
        "outputId": "9b010df1-04f6-4958-c811-e2ae40c0a49f"
      },
      "execution_count": 8,
      "outputs": [
        {
          "output_type": "stream",
          "name": "stdout",
          "text": [
            "[1, 2, 4, 5, 6, 7, 8, 9]\n"
          ]
        }
      ]
    },
    {
      "cell_type": "markdown",
      "source": [
        "**7. Check if the value 5 is present in the numbers list.**"
      ],
      "metadata": {
        "id": "D2Fa2EEh9p9M"
      }
    },
    {
      "cell_type": "code",
      "source": [
        "if 5 in l1:\n",
        "  print('value 5 is available')"
      ],
      "metadata": {
        "colab": {
          "base_uri": "https://localhost:8080/"
        },
        "id": "m-u9RvtC9sWk",
        "outputId": "c2752c2e-a553-43e8-ab31-b79b301d4f8c"
      },
      "execution_count": 9,
      "outputs": [
        {
          "output_type": "stream",
          "name": "stdout",
          "text": [
            "value 5 is available\n"
          ]
        }
      ]
    },
    {
      "cell_type": "markdown",
      "source": [
        "**8. Find the index of the element with the value 8 in the numbers list.**"
      ],
      "metadata": {
        "id": "GJGkJFmv96oD"
      }
    },
    {
      "cell_type": "code",
      "source": [
        "index = l1.index(8)\n",
        "print(index)"
      ],
      "metadata": {
        "colab": {
          "base_uri": "https://localhost:8080/"
        },
        "id": "h2B9AzEU98ct",
        "outputId": "513d1b1f-ab57-4ef8-a17c-28eed3b32e0c"
      },
      "execution_count": 10,
      "outputs": [
        {
          "output_type": "stream",
          "name": "stdout",
          "text": [
            "6\n"
          ]
        }
      ]
    },
    {
      "cell_type": "markdown",
      "source": [
        "**9. Count the number of occurrences of 2 in the numbers list.**"
      ],
      "metadata": {
        "id": "RaBKnZGK-piE"
      }
    },
    {
      "cell_type": "code",
      "source": [
        "occurence = l1.count(2)\n",
        "print(f'The total number of occureance of 2 is: {occurence}')"
      ],
      "metadata": {
        "id": "bNJYx0KS-rQ0",
        "outputId": "9b245cc3-3ca4-4de6-b2d6-c7659629174b",
        "colab": {
          "base_uri": "https://localhost:8080/"
        }
      },
      "execution_count": 11,
      "outputs": [
        {
          "output_type": "stream",
          "name": "stdout",
          "text": [
            "The total number of occureance of 2 is: 1\n"
          ]
        }
      ]
    },
    {
      "cell_type": "markdown",
      "source": [
        "**10. Reverse the order of elements in the numbers list.**"
      ],
      "metadata": {
        "id": "FOvq3qzI_Cab"
      }
    },
    {
      "cell_type": "code",
      "source": [
        "reverse_element = l1[::-1]\n",
        "print(reverse_element)"
      ],
      "metadata": {
        "id": "umX_t-oc_Ejb",
        "outputId": "f9b19aac-0fb9-45df-c2f2-d9beb873cbba",
        "colab": {
          "base_uri": "https://localhost:8080/"
        }
      },
      "execution_count": 12,
      "outputs": [
        {
          "output_type": "stream",
          "name": "stdout",
          "text": [
            "[9, 8, 7, 6, 5, 4, 2, 1]\n"
          ]
        }
      ]
    },
    {
      "cell_type": "markdown",
      "source": [
        "11. Sort the `numbers` list in ascending order.\n",
        "12. Create a new list `squares` containing the square of each number in the `numbers` list.\n",
        "13. Extract a sublist from `numbers` with elements from index 2 to 4.\n",
        "14. Create a list of lists, `matrix`, representing a 2x2 matrix.\n",
        "15. Flatten the `matrix` into a single list.\n",
        "16. Use list comprehension to create a list of even numbers from 1 to 10.\n",
        "17. Zip two lists, `names` and `ages`, into a list of tuples.\n",
        "18. Unpack the tuples from the previous question into separate lists.\n",
        "19. Copy the `numbers` list to a new list named `numbers_copy`.\n",
        "20. Clear all elements from the `numbers_copy` list.\n",
        "21. Check if two lists, `list1` and `list2`, are equal.\n",
        "22. Create a list of the first five letters of the alphabet.\n",
        "23. Insert the letter 'X' at index 2 in the alphabet list.\n",
        "24. Remove the last element from the alphabet list.\n",
        "25. Use slicing to get the last three elements of the alphabet list.\n",
        "26. Create a list of 10 zeros using a list comprehension.\n",
        "27. Find the maximum and minimum values in the `numbers` list.\n",
        "28. Remove duplicates from a list `duplicates` while preserving the order.\n",
        "29. Combine two lists, `list1` and `list2`, into a single list.\n",
        "30. Create a list of the squares of even numbers from 1 to 10 using a lambda function and `map`."
      ],
      "metadata": {
        "id": "aH0FatEk_siT"
      }
    },
    {
      "cell_type": "markdown",
      "source": [
        "**11. Sort the numbers list in ascending order.**"
      ],
      "metadata": {
        "id": "HL_6bKdw_uJM"
      }
    },
    {
      "cell_type": "code",
      "source": [
        "sorted_list = sorted(l1)\n",
        "print(sorted_list)"
      ],
      "metadata": {
        "id": "2WukWgua_xxU",
        "outputId": "c4ed2c1c-521b-47d7-c0c0-9fba47375356",
        "colab": {
          "base_uri": "https://localhost:8080/"
        }
      },
      "execution_count": 13,
      "outputs": [
        {
          "output_type": "stream",
          "name": "stdout",
          "text": [
            "[1, 2, 4, 5, 6, 7, 8, 9]\n"
          ]
        }
      ]
    },
    {
      "cell_type": "markdown",
      "source": [
        "**12. Create a new list squares containing the square of each number in the numbers list.**"
      ],
      "metadata": {
        "id": "wSlHwtQpAuP9"
      }
    },
    {
      "cell_type": "code",
      "source": [
        "l2 = []\n",
        "for i in l1:\n",
        "  l2.append(i**2)\n",
        "\n",
        "print(f'New squred list is: {l2}')"
      ],
      "metadata": {
        "id": "kHUYpMTLAwdb",
        "outputId": "81e42143-3b0b-4d17-98fd-9c2cd98a3a3a",
        "colab": {
          "base_uri": "https://localhost:8080/"
        }
      },
      "execution_count": 17,
      "outputs": [
        {
          "output_type": "stream",
          "name": "stdout",
          "text": [
            "New squred list is: [1, 4, 16, 25, 36, 49, 64, 81]\n"
          ]
        }
      ]
    },
    {
      "cell_type": "markdown",
      "source": [
        "**13. Extract a sublist from numbers with elements from index 2 to 4.**"
      ],
      "metadata": {
        "id": "3TQA_f2QknXA"
      }
    },
    {
      "cell_type": "code",
      "source": [
        "l3 = l2[2:5]\n",
        "print(f'elements from index 2 to 4 are: {l3}')"
      ],
      "metadata": {
        "colab": {
          "base_uri": "https://localhost:8080/"
        },
        "id": "xOCxzWSolrq3",
        "outputId": "f13f76ae-060c-45dc-90f3-952d20a4f984"
      },
      "execution_count": 19,
      "outputs": [
        {
          "output_type": "stream",
          "name": "stdout",
          "text": [
            "elements from index 2 to 4 are: [16, 25, 36]\n"
          ]
        }
      ]
    },
    {
      "cell_type": "markdown",
      "source": [
        "**14. Create a list of lists, matrix, representing a 2x2 matrix.**"
      ],
      "metadata": {
        "id": "bNuqbPlkl_CO"
      }
    },
    {
      "cell_type": "code",
      "source": [
        "l4 = [[1,2],[3,4]]\n",
        "print(l4)"
      ],
      "metadata": {
        "colab": {
          "base_uri": "https://localhost:8080/"
        },
        "id": "4rquSblDmBMm",
        "outputId": "38f94362-0f1a-4db5-e4ab-fb5e81b9e7f0"
      },
      "execution_count": 20,
      "outputs": [
        {
          "output_type": "stream",
          "name": "stdout",
          "text": [
            "[[1, 2], [3, 4]]\n"
          ]
        }
      ]
    },
    {
      "cell_type": "markdown",
      "source": [
        "**15. Flatten the matrix into a single list.**"
      ],
      "metadata": {
        "id": "NIsh0ynVnQdO"
      }
    },
    {
      "cell_type": "code",
      "source": [
        "l4 = [[1, 2], [3, 4]]\n",
        "\n",
        "flattened_list = [item for sublist in l4 for item in sublist]\n",
        "\n",
        "print(flattened_list)\n"
      ],
      "metadata": {
        "colab": {
          "base_uri": "https://localhost:8080/"
        },
        "id": "jAa2Q2ov3c5x",
        "outputId": "9b736c17-e4f7-45fe-9880-691e292265dd"
      },
      "execution_count": 1,
      "outputs": [
        {
          "output_type": "stream",
          "name": "stdout",
          "text": [
            "[1, 2, 3, 4]\n"
          ]
        }
      ]
    }
  ]
}