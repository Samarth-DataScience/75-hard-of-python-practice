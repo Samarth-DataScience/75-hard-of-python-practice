{
  "nbformat": 4,
  "nbformat_minor": 0,
  "metadata": {
    "colab": {
      "provenance": [],
      "toc_visible": true,
      "authorship_tag": "ABX9TyMSdmCpUuV1IYWdA+U5o7BJ",
      "include_colab_link": true
    },
    "kernelspec": {
      "name": "python3",
      "display_name": "Python 3"
    },
    "language_info": {
      "name": "python"
    }
  },
  "cells": [
    {
      "cell_type": "markdown",
      "metadata": {
        "id": "view-in-github",
        "colab_type": "text"
      },
      "source": [
        "<a href=\"https://colab.research.google.com/github/Samarth-DataScience/75-hard-of-python-practice/blob/main/Day%2016-python-(tuple)-%7Bset%7D-practice-set.ipynb\" target=\"_parent\"><img src=\"https://colab.research.google.com/assets/colab-badge.svg\" alt=\"Open In Colab\"/></a>"
      ]
    },
    {
      "cell_type": "markdown",
      "source": [
        "\n",
        "1. Create an empty tuple.\n",
        "2. Define a tuple with three elements of different data types.\n",
        "3. Access the second element of a tuple.\n",
        "4. Concatenate two tuples.\n",
        "5. Check if an element exists in a tuple.\n",
        "6. Find the length of a tuple.\n",
        "7. Create a tuple with a nested tuple.\n",
        "8. Convert a list to a tuple.\n",
        "9. Extract the last three elements of a tuple.\n",
        "10. Count the occurrences of a specific element in a tuple.\n",
        "11. Create an empty set.\n",
        "12. Define a set with five integer elements.\n",
        "13. Add an element to a set.\n",
        "14. Remove an element from a set.\n",
        "15. Check if two sets have any common elements.\n",
        "16. Find the union of two sets.\n",
        "17. Get the intersection of two sets.\n",
        "18. Check if a set is a subset of another set.\n",
        "19. Remove all elements from a set.\n",
        "20. Convert a list to a set.\n",
        "21. Create a string with your name.\n",
        "22. Concatenate two strings.\n",
        "23. Access the third character of a string.\n",
        "24. Convert a string to uppercase.\n",
        "25. Check if a substring is present in a string.\n",
        "26. Replace a specific substring in a string.\n",
        "27. Find the length of a string.\n",
        "28. Count the occurrences of a particular character in a string.\n",
        "29. Check if a string is numeric.\n",
        "30. Reverse a string.\n"
      ],
      "metadata": {
        "id": "XgmRaS-brDE3"
      }
    },
    {
      "cell_type": "markdown",
      "source": [
        "**1. Create an empty tuple.**"
      ],
      "metadata": {
        "id": "oGgN-aIdrOf_"
      }
    },
    {
      "cell_type": "code",
      "source": [
        "empty_tuple = tuple()\n",
        "print(type(empty_tuple))"
      ],
      "metadata": {
        "id": "IgS0524xsRT9",
        "outputId": "f98227f5-ad7d-4bc1-bfcc-bc6ff1cd5d42",
        "colab": {
          "base_uri": "https://localhost:8080/"
        }
      },
      "execution_count": null,
      "outputs": [
        {
          "output_type": "stream",
          "name": "stdout",
          "text": [
            "<class 'tuple'>\n"
          ]
        }
      ]
    },
    {
      "cell_type": "markdown",
      "source": [
        "**2. Define a tuple with three elements of different data types.**"
      ],
      "metadata": {
        "id": "eaQBwn9LshVz"
      }
    },
    {
      "cell_type": "code",
      "source": [
        "t1 = (2,3.5,'Different Data Types')\n",
        "print(t1)\n",
        "print(type(t1))"
      ],
      "metadata": {
        "id": "JlwkFvk5sbI4",
        "outputId": "405c077b-255e-4ad2-d461-471a3f6fc12c",
        "colab": {
          "base_uri": "https://localhost:8080/"
        }
      },
      "execution_count": null,
      "outputs": [
        {
          "output_type": "stream",
          "name": "stdout",
          "text": [
            "(2, 3.5, 'Different Data Types')\n",
            "<class 'tuple'>\n"
          ]
        }
      ]
    },
    {
      "cell_type": "markdown",
      "source": [
        "**3. Access the second element of a tuple.**"
      ],
      "metadata": {
        "id": "dcWPzAk2vjzf"
      }
    },
    {
      "cell_type": "code",
      "source": [
        "print(f'The second element of the tuple is {t1[1]}')"
      ],
      "metadata": {
        "colab": {
          "base_uri": "https://localhost:8080/"
        },
        "id": "ETz9obn5vog3",
        "outputId": "781af571-170f-4157-d3ac-9b7692191b5f"
      },
      "execution_count": null,
      "outputs": [
        {
          "output_type": "stream",
          "name": "stdout",
          "text": [
            "The second element of the tuple is 3.5\n"
          ]
        }
      ]
    },
    {
      "cell_type": "markdown",
      "source": [
        "**4. Concatenate two tuples.**"
      ],
      "metadata": {
        "id": "FMgXhDvmv4Kf"
      }
    },
    {
      "cell_type": "code",
      "source": [
        "t2 = (1,2,3,4,5,6)\n",
        "t3 = t1+t2\n",
        "print(t3)"
      ],
      "metadata": {
        "colab": {
          "base_uri": "https://localhost:8080/"
        },
        "id": "2ODBNG-ov6TP",
        "outputId": "d61819dc-5a3c-4b47-a2ea-f182201b0cbf"
      },
      "execution_count": null,
      "outputs": [
        {
          "output_type": "stream",
          "name": "stdout",
          "text": [
            "(2, 3.5, 'Different Data Types', 1, 2, 3, 4, 5, 6)\n"
          ]
        }
      ]
    },
    {
      "cell_type": "markdown",
      "source": [
        "**5. Check if an element exists in a tuple.**"
      ],
      "metadata": {
        "id": "5qnpcfk_ydQx"
      }
    },
    {
      "cell_type": "code",
      "source": [
        "if 2 in t2:\n",
        "  print('Item found')\n",
        "else:\n",
        "  print('Item does not exist')"
      ],
      "metadata": {
        "colab": {
          "base_uri": "https://localhost:8080/"
        },
        "id": "akYc6m4syflI",
        "outputId": "c618cd34-9e6f-4f31-f107-021f0e7b506a"
      },
      "execution_count": null,
      "outputs": [
        {
          "output_type": "stream",
          "name": "stdout",
          "text": [
            "Item found\n"
          ]
        }
      ]
    },
    {
      "cell_type": "markdown",
      "source": [
        "**6. Find the length of a tuple.**"
      ],
      "metadata": {
        "id": "jedvwzT00AZf"
      }
    },
    {
      "cell_type": "code",
      "source": [
        "print(f'The length of a tuple is: {len(t2)}')"
      ],
      "metadata": {
        "colab": {
          "base_uri": "https://localhost:8080/"
        },
        "id": "aHpOWSR70Cy_",
        "outputId": "39cae5e3-49e7-4cf6-c894-d237cc048413"
      },
      "execution_count": null,
      "outputs": [
        {
          "output_type": "stream",
          "name": "stdout",
          "text": [
            "The length of a tuple is: 6\n"
          ]
        }
      ]
    },
    {
      "cell_type": "markdown",
      "source": [
        "**7. Create a tuple with a nested tuple.**"
      ],
      "metadata": {
        "id": "CcCxgqsDw4hK"
      }
    },
    {
      "cell_type": "code",
      "source": [
        "t3 = (1,2,(3,4),(5,6,7))\n",
        "print(t3)"
      ],
      "metadata": {
        "colab": {
          "base_uri": "https://localhost:8080/"
        },
        "id": "WoRHB2Yiw6dZ",
        "outputId": "8f8332cb-5b8c-435a-cf6f-93f683dfac63"
      },
      "execution_count": null,
      "outputs": [
        {
          "output_type": "stream",
          "name": "stdout",
          "text": [
            "(1, 2, (3, 4), (5, 6, 7))\n"
          ]
        }
      ]
    },
    {
      "cell_type": "markdown",
      "source": [
        "**8. Convert a list to a tuple.**"
      ],
      "metadata": {
        "id": "SOmLQHU-xL-i"
      }
    },
    {
      "cell_type": "code",
      "source": [
        "l1 = [1,2,3,4,5,6,5]\n",
        "print(f'list: {l1}')\n",
        "t1 = tuple(l1)\n",
        "print(f'tuple: {t1}')"
      ],
      "metadata": {
        "colab": {
          "base_uri": "https://localhost:8080/"
        },
        "id": "tta2WR6OxOw6",
        "outputId": "3d1e26ca-f725-46a3-f6c3-d263eb9a4816"
      },
      "execution_count": null,
      "outputs": [
        {
          "output_type": "stream",
          "name": "stdout",
          "text": [
            "list: [1, 2, 3, 4, 5, 6, 5]\n",
            "tuple: (1, 2, 3, 4, 5, 6, 5)\n"
          ]
        }
      ]
    },
    {
      "cell_type": "markdown",
      "source": [
        "**9. Extract the last three elements of a tuple.**"
      ],
      "metadata": {
        "id": "anHKMOI1x2zE"
      }
    },
    {
      "cell_type": "code",
      "source": [
        "print(t1[-3:])"
      ],
      "metadata": {
        "colab": {
          "base_uri": "https://localhost:8080/"
        },
        "id": "RZFv1u9Ox4lz",
        "outputId": "73b566f4-b040-48af-ecbd-a544f7912fed"
      },
      "execution_count": null,
      "outputs": [
        {
          "output_type": "stream",
          "name": "stdout",
          "text": [
            "(5, 6, 5)\n"
          ]
        }
      ]
    },
    {
      "cell_type": "markdown",
      "source": [
        "10. Count the occurrences of a specific element in a tuple."
      ],
      "metadata": {
        "id": "BmhmkfqDybz2"
      }
    },
    {
      "cell_type": "code",
      "source": [
        "element = int(input('Enter the element you want to find out: '))\n",
        "count_element = t1.count(element)\n",
        "print(f'Total count of the element is/are: {count_element}')"
      ],
      "metadata": {
        "colab": {
          "base_uri": "https://localhost:8080/"
        },
        "id": "9jjAg49wyeBn",
        "outputId": "90e29636-50d7-43f1-dccc-514c06105860"
      },
      "execution_count": null,
      "outputs": [
        {
          "output_type": "stream",
          "name": "stdout",
          "text": [
            "Enter the element you want to find out: 5\n",
            "Total count of the element is/are: 2\n"
          ]
        }
      ]
    },
    {
      "cell_type": "markdown",
      "source": [
        "11. Create an empty set.\n",
        "12. Define a set with five integer elements.\n",
        "13. Add an element to a set.\n",
        "14. Remove an element from a set.\n",
        "15. Check if two sets have any common elements.\n",
        "16. Find the union of two sets.\n",
        "17. Get the intersection of two sets.\n",
        "18. Check if a set is a subset of another set.\n",
        "19. Remove all elements from a set.\n",
        "20. Convert a list to a set.\n",
        "21. Create a string with your name.\n",
        "22. Concatenate two strings.\n",
        "23. Access the third character of a string.\n",
        "24. Convert a string to uppercase.\n",
        "25. Check if a substring is present in a string.\n",
        "26. Replace a specific substring in a string.\n",
        "27. Find the length of a string.\n",
        "28. Count the occurrences of a particular character in a string.\n",
        "29. Check if a string is numeric.\n",
        "30. Reverse a string."
      ],
      "metadata": {
        "id": "xaQre7SQzZCZ"
      }
    },
    {
      "cell_type": "markdown",
      "source": [
        "**11. Create an empty set.**"
      ],
      "metadata": {
        "id": "DFqPlq5GzbQx"
      }
    },
    {
      "cell_type": "code",
      "source": [
        "empty_set = set()\n",
        "print(empty_set)\n",
        "print(type(empty_set))"
      ],
      "metadata": {
        "colab": {
          "base_uri": "https://localhost:8080/"
        },
        "id": "ey7e4-6lzcR6",
        "outputId": "b848902a-4f25-4051-fb9e-e24f1cc5b980"
      },
      "execution_count": null,
      "outputs": [
        {
          "output_type": "stream",
          "name": "stdout",
          "text": [
            "set()\n",
            "<class 'set'>\n"
          ]
        }
      ]
    }
  ]
}