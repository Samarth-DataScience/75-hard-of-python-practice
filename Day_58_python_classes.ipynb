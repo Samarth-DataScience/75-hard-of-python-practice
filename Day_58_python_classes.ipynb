{
  "nbformat": 4,
  "nbformat_minor": 0,
  "metadata": {
    "colab": {
      "provenance": [],
      "include_colab_link": true
    },
    "kernelspec": {
      "name": "python3",
      "display_name": "Python 3"
    },
    "language_info": {
      "name": "python"
    }
  },
  "cells": [
    {
      "cell_type": "markdown",
      "metadata": {
        "id": "view-in-github",
        "colab_type": "text"
      },
      "source": [
        "<a href=\"https://colab.research.google.com/github/Samarth-DataScience/Python-75-Hard-Challenge/blob/main/Day_58_python_classes.ipynb\" target=\"_parent\"><img src=\"https://colab.research.google.com/assets/colab-badge.svg\" alt=\"Open In Colab\"/></a>"
      ]
    },
    {
      "cell_type": "markdown",
      "source": [
        "1. Create a class representing a car with attributes like make, model, and year. Implement a method in the class to calculate the age of the car.\n",
        "\n",
        "2. Create a base class 'Shape' with methods to calculate area and perimeter. Derive classes 'Rectangle' and 'Circle' from 'Shape' with their own implementations.\n",
        "\n",
        "3. Design a class representing a bank account with private attributes for balance and account number. Implement methods for deposit and withdrawal.\n",
        "\n",
        "4. Write a function to reverse a list.\n",
        "\n",
        "5. Implement a function to find the second largest element in a list.\n",
        "\n",
        "6. Write a function to check if a given string is a palindrome.\n",
        "\n",
        "7. Create a function to count the occurrences of each character in a string.\n",
        "\n",
        "8. Write a program to concatenate two tuples.\n",
        "\n",
        "9. Implement a function to find the index of an element in a tuple.\n",
        "\n",
        "10. Create a function to find the intersection of two sets.\n",
        "\n",
        "11. Write a program to remove duplicates from a list using sets.\n",
        "\n",
        "12. Write a function to merge two dictionaries.\n",
        "\n",
        "13. Implement a program to find the keys with the maximum value in a dictionary.\n",
        "\n",
        "14. Write a function that takes a list of numbers and returns their sum.\n",
        "\n",
        "15. Implement a function to check if a number is prime.\n",
        "\n",
        "16. Use a lambda function to square each element in a list.\n",
        "\n",
        "17. Write a program to filter even numbers from a list using a lambda function.\n",
        "\n",
        "18. Use the map function to convert a list of temperatures from Celsius to Fahrenheit.\n",
        "\n",
        "19. Write a program to capitalize the first letter of each word in a list of strings using map.\n",
        "\n",
        "20. Implement a program to filter out numbers less than 10 from a list using the filter function.\n",
        "\n",
        "21. Write a function to filter palindromes from a list of strings.\n",
        "\n",
        "22. Use the reduce function to find the product of elements in a list.\n",
        "\n",
        "23. Implement a program to find the maximum element in a list using reduce.\n",
        "\n",
        "24. Write a function to check if a number is a perfect square.\n",
        "\n",
        "25. Create a class representing a book with attributes like title, author, and publication year. Implement a method to display information about the book.\n",
        "\n",
        "26. Design a class representing a geometric shape with methods to calculate area and perimeter. Derive classes for specific shapes like rectangle and circle.\n",
        "\n",
        "27. Write a program to find the common elements between two lists.\n",
        "\n",
        "28. Implement a function to remove vowels from a given string.\n",
        "\n",
        "29. Write a program to sort a list of strings based on the length of each string.\n",
        "\n",
        "30. Create a function to calculate the factorial of a given number."
      ],
      "metadata": {
        "id": "wLFDYiiQpMwn"
      }
    },
    {
      "cell_type": "markdown",
      "source": [
        "**1. Create a class representing a car with attributes like make, model, and year. Implement a method in the class to calculate the age of the car.**"
      ],
      "metadata": {
        "id": "UfgBxILWpWX4"
      }
    },
    {
      "cell_type": "code",
      "execution_count": null,
      "metadata": {
        "id": "xUvqswLl2zr9",
        "colab": {
          "base_uri": "https://localhost:8080/"
        },
        "outputId": "313a7214-b590-4220-f449-16856bbc69ec"
      },
      "outputs": [
        {
          "output_type": "stream",
          "name": "stdout",
          "text": [
            "Remaining warranty is 3 years\n"
          ]
        }
      ],
      "source": [
        "class car:\n",
        "  make = 'Toyta'\n",
        "  model = 'XUV5600'\n",
        "  year =  2021\n",
        "\n",
        "  def warranty(self,year):\n",
        "    age = 2023 - year\n",
        "    return print(f'Remaining warranty is {age} years')\n",
        "\n",
        "car = car()\n",
        "car.warranty(2020)"
      ]
    },
    {
      "cell_type": "markdown",
      "source": [
        "**2. Write a function to reverse a list.**"
      ],
      "metadata": {
        "id": "kAd7uOQ1rzvf"
      }
    },
    {
      "cell_type": "code",
      "source": [
        "def list_reverse(l):\n",
        "  reverse_list = l[::-1]\n",
        "  return reverse_list\n",
        "\n",
        "list_reverse([1,2,3,4])"
      ],
      "metadata": {
        "id": "ct82hSlnr2in",
        "outputId": "5cd10809-2918-4563-c7fd-829a93cf6ba8",
        "colab": {
          "base_uri": "https://localhost:8080/"
        }
      },
      "execution_count": null,
      "outputs": [
        {
          "output_type": "execute_result",
          "data": {
            "text/plain": [
              "[4, 3, 2, 1]"
            ]
          },
          "metadata": {},
          "execution_count": 10
        }
      ]
    },
    {
      "cell_type": "markdown",
      "source": [
        "**3. Implement a function to find the second largest element in a list.**"
      ],
      "metadata": {
        "id": "41i0XT0rsqrT"
      }
    },
    {
      "cell_type": "code",
      "source": [
        "def second_largest_num(l):\n",
        "  reversed_list = sorted(l, reverse = True)\n",
        "  return reversed_list[1]\n",
        "\n",
        "second_largest_num([2,45,3,85,4,374,311,21,12,0,1185])"
      ],
      "metadata": {
        "id": "TAEDNG_1sspj",
        "outputId": "069854af-9583-42e7-bba3-7c4a19bfe7da",
        "colab": {
          "base_uri": "https://localhost:8080/"
        }
      },
      "execution_count": null,
      "outputs": [
        {
          "output_type": "execute_result",
          "data": {
            "text/plain": [
              "374"
            ]
          },
          "metadata": {},
          "execution_count": 13
        }
      ]
    },
    {
      "cell_type": "markdown",
      "source": [
        "**4. Write a function to check if a given string is a palindrome.**"
      ],
      "metadata": {
        "id": "lVCGMu-otLmq"
      }
    },
    {
      "cell_type": "code",
      "source": [
        "def palindrome(string_value):\n",
        "  result = ''\n",
        "  if string_value[::-1] == string_value:\n",
        "    return 'Yes the given string is palindrome'\n",
        "  else:\n",
        "    return 'Given string is not a palindrome'\n",
        "\n",
        "print(palindrome('english'))"
      ],
      "metadata": {
        "id": "JcFyMepctPuz",
        "outputId": "4d186b59-5b83-4a34-d665-3b7aa1caccc7",
        "colab": {
          "base_uri": "https://localhost:8080/"
        }
      },
      "execution_count": null,
      "outputs": [
        {
          "output_type": "stream",
          "name": "stdout",
          "text": [
            "Given string is not a palindrome\n"
          ]
        }
      ]
    },
    {
      "cell_type": "markdown",
      "source": [
        "**5. Create a function to count the occurrences of each character in a string.**"
      ],
      "metadata": {
        "id": "wKTLZb9xwUTc"
      }
    },
    {
      "cell_type": "code",
      "source": [
        "def count_characters(input_string):\n",
        "    count_dict = {}\n",
        "\n",
        "    for char in input_string:\n",
        "        if char in count_dict:\n",
        "            count_dict[char] += 1\n",
        "        else:\n",
        "            count_dict[char] = 1\n",
        "\n",
        "    return count_dict\n",
        "\n",
        "# Example usage:\n",
        "input_string = 'Hello world'\n",
        "result = count_characters(input_string)\n",
        "\n",
        "for char, count in result.items():\n",
        "    print(f\"Character '{char}' occurs {count} times.\")\n"
      ],
      "metadata": {
        "id": "rIQ1o_V0wWq0",
        "colab": {
          "base_uri": "https://localhost:8080/"
        },
        "outputId": "e95f00f0-aec6-4d4f-f49f-403ea1cdea6a"
      },
      "execution_count": null,
      "outputs": [
        {
          "output_type": "stream",
          "name": "stdout",
          "text": [
            "Character 'H' occurs 1 times.\n",
            "Character 'e' occurs 1 times.\n",
            "Character 'l' occurs 3 times.\n",
            "Character 'o' occurs 2 times.\n",
            "Character ' ' occurs 1 times.\n",
            "Character 'w' occurs 1 times.\n",
            "Character 'r' occurs 1 times.\n",
            "Character 'd' occurs 1 times.\n"
          ]
        }
      ]
    },
    {
      "cell_type": "markdown",
      "source": [
        "**7. Write a program to concatenate two tuples.**"
      ],
      "metadata": {
        "id": "F_lwhtVo3L36"
      }
    },
    {
      "cell_type": "code",
      "source": [
        "tuple1 = (1,2,3,4)\n",
        "tuple2 = (2,3,4,5)\n",
        "\n",
        "tuple1 += (tuple2)\n",
        "print(tuple1, type(tuple1))"
      ],
      "metadata": {
        "id": "QKRDvpCt3QdM",
        "outputId": "937fc2e8-964d-447d-dcfe-beee40e9f130",
        "colab": {
          "base_uri": "https://localhost:8080/"
        }
      },
      "execution_count": null,
      "outputs": [
        {
          "output_type": "stream",
          "name": "stdout",
          "text": [
            "(1, 2, 3, 4, 2, 3, 4, 5) <class 'tuple'>\n"
          ]
        }
      ]
    },
    {
      "cell_type": "markdown",
      "source": [
        "**8. Implement a function to find the index of an element in a tuple.**"
      ],
      "metadata": {
        "id": "ey9ccwP06iFV"
      }
    },
    {
      "cell_type": "code",
      "source": [
        "tuple_example = (1,2,3,4,5,6,7,8,9)\n",
        "element = 3\n",
        "def find_index(element):\n",
        "  index = tuple_example.index(element)\n",
        "  return index\n",
        "\n",
        "print(f'The index of {element} is: {find_index(element)}')"
      ],
      "metadata": {
        "id": "peYV2_gY6kD8",
        "outputId": "a3eb877d-857b-4656-f7b8-854675e3b4fa",
        "colab": {
          "base_uri": "https://localhost:8080/"
        }
      },
      "execution_count": null,
      "outputs": [
        {
          "output_type": "stream",
          "name": "stdout",
          "text": [
            "The index of 3 is: 2\n"
          ]
        }
      ]
    },
    {
      "cell_type": "markdown",
      "source": [
        "**9. Create a function to find the intersection of two sets.**"
      ],
      "metadata": {
        "id": "FD45kF1ciSEC"
      }
    },
    {
      "cell_type": "code",
      "source": [
        "def intersection_of_set(set1,set2):\n",
        "  intersected = set1.intersection(set2)\n",
        "  return 'intersection of two set is {}'.format(intersected)\n",
        "\n",
        "set1 = {1,2,3,4}\n",
        "set2 = {2,3,4,5,6,7}\n",
        "\n",
        "intersection_of_set(set1,set2)"
      ],
      "metadata": {
        "colab": {
          "base_uri": "https://localhost:8080/",
          "height": 36
        },
        "id": "FX3Bbe82iUpa",
        "outputId": "b2b57b90-8ccf-4f62-a377-3e03921038cd"
      },
      "execution_count": null,
      "outputs": [
        {
          "output_type": "execute_result",
          "data": {
            "text/plain": [
              "'intersection of two set is {2, 3, 4}'"
            ],
            "application/vnd.google.colaboratory.intrinsic+json": {
              "type": "string"
            }
          },
          "metadata": {},
          "execution_count": 4
        }
      ]
    },
    {
      "cell_type": "markdown",
      "source": [
        "**10. Write a program to remove duplicates from a list using sets.**"
      ],
      "metadata": {
        "id": "mMlsXTXujWZv"
      }
    },
    {
      "cell_type": "code",
      "source": [
        "class remove_duplicates:\n",
        "  def duplicates(list1):\n",
        "    return set(list1)\n",
        "\n",
        "obj = remove_duplicates.duplicates([1,2,3,4,1,3,5,6,7])\n",
        "print(obj)"
      ],
      "metadata": {
        "id": "uXMcq-7WjYtO",
        "outputId": "1d9919f6-b01f-453a-b002-6b35711203c8",
        "colab": {
          "base_uri": "https://localhost:8080/"
        }
      },
      "execution_count": null,
      "outputs": [
        {
          "output_type": "stream",
          "name": "stdout",
          "text": [
            "{1, 2, 3, 4, 5, 6, 7}\n"
          ]
        }
      ]
    },
    {
      "cell_type": "markdown",
      "source": [
        "1. Create a class representing a `Person` with attributes `name` and `age`.\n",
        "2. Implement a method in the `Person` class to display the person's details.\n",
        "3. Create a class for a `Circle` with methods to calculate its area and circumference.\n",
        "4. Implement a `Student` class with attributes `name`, `roll_number`, and `marks`. Include a method to display whether the student has passed or failed.\n",
        "5. Create a `BankAccount` class with methods for deposit and withdrawal.\n",
        "6. Implement a `Book` class with attributes `title`, `author`, and `publication_year`.\n",
        "7. Create a class for a basic `Calculator` with methods for addition, subtraction, multiplication, and division.\n",
        "8. Implement a `Fraction` class with methods for addition, subtraction, multiplication, and division of fractions.\n",
        "9. Create a class `Rectangle` with attributes `length` and `width`. Include methods to calculate area and perimeter.\n",
        "10. Implement a `Car` class with attributes `make`, `model`, and `year`. Include a method to display the car details.\n",
        "11. Write a class for a basic `Queue` using a list.\n",
        "12. Create a class for a simple `Employee` with attributes `name`, `employee_id`, and `salary`.\n",
        "13. Implement a `Point` class representing a point in 2D space. Include a method to calculate the distance from the origin.\n",
        "14. Write a class for a `Stack` using a list.\n",
        "15. Create a `Date` class with attributes `day`, `month`, and `year`.\n",
        "16. Implement a `StringManipulator` class with methods for reversing a string and checking if it is a palindrome.\n",
        "17. Write a class for a basic `LinkedList`.\n",
        "18. Create a `DictionaryManager` class with methods to add, remove, and display key-value pairs.\n",
        "19. Implement a class for a basic `Set` with methods for union, intersection, and difference.\n",
        "20. Write a class `Time` to represent time in hours and minutes. Include methods to add and subtract times."
      ],
      "metadata": {
        "id": "z2mT8ohCYeZy"
      }
    },
    {
      "cell_type": "markdown",
      "source": [
        "**1. Create a class representing a Person with attributes name and age.**"
      ],
      "metadata": {
        "id": "UxaRf3gsY6J6"
      }
    },
    {
      "cell_type": "code",
      "source": [
        "class Person:\n",
        "  def __init__(self,x,y):\n",
        "    self.name = x\n",
        "    self.age = y\n",
        "\n",
        "obj1 = Person('Samarth', 23)\n"
      ],
      "metadata": {
        "id": "sygYNb4eY-Hp"
      },
      "execution_count": null,
      "outputs": []
    },
    {
      "cell_type": "markdown",
      "source": [
        "**2. Implement a method in the Person class to display the person's details.**"
      ],
      "metadata": {
        "id": "Oz10vJjMZkha"
      }
    },
    {
      "cell_type": "code",
      "source": [
        "class Person:\n",
        "  def __str__(self):\n",
        "    return 'name: {}, age: {}'.format(self.name, self.age)\n",
        "\n",
        "print(obj1)"
      ],
      "metadata": {
        "id": "o7-aQA0FZmCh",
        "outputId": "4d9dd38f-a46d-4d24-951d-ad537c54c696",
        "colab": {
          "base_uri": "https://localhost:8080/"
        }
      },
      "execution_count": null,
      "outputs": [
        {
          "output_type": "stream",
          "name": "stdout",
          "text": [
            "<__main__.Person object at 0x7d826fa13a90>\n"
          ]
        }
      ]
    },
    {
      "cell_type": "markdown",
      "source": [
        "**3. Create a class for a Circle with methods to calculate its area and circumference.**"
      ],
      "metadata": {
        "id": "6Wzci454a8wx"
      }
    },
    {
      "cell_type": "code",
      "source": [
        "import math\n",
        "\n",
        "class Circle:\n",
        "    def __init__(self, radius):\n",
        "        self.r = radius\n",
        "\n",
        "    def area(self):\n",
        "        area_of_circle = math.pi * (self.r**2)\n",
        "        return area_of_circle\n",
        "\n",
        "    def circumference(self):\n",
        "        circumference_of_circle = 2 * math.pi * self.r\n",
        "        return circumference_of_circle\n",
        "\n",
        "obj = Circle(7)\n",
        "print(f'Area of circle: {obj.area():.3f}')\n",
        "print(f'Circumference of circle: {obj.circumference():.3f}')\n"
      ],
      "metadata": {
        "id": "T0MZa6Bda-Hq",
        "outputId": "3bd454c1-4d05-4c9f-e0e0-7802cec418bc",
        "colab": {
          "base_uri": "https://localhost:8080/"
        }
      },
      "execution_count": null,
      "outputs": [
        {
          "output_type": "stream",
          "name": "stdout",
          "text": [
            "Area of circle: 153.938\n",
            "Circumference of circle: 43.982\n"
          ]
        }
      ]
    },
    {
      "cell_type": "markdown",
      "source": [
        "**4. Implement a Student class with attributes name, roll_number, and marks. Include a method to display whether the student has passed or failed.**"
      ],
      "metadata": {
        "id": "yaBGXIYmgVzN"
      }
    },
    {
      "cell_type": "code",
      "source": [
        "class Student:\n",
        "  def __init__(self):\n",
        "    self.name = 'Samarth'\n",
        "    self.roll_number = 124\n",
        "    self.marks = int(0)\n",
        "\n",
        "  def result(self):\n",
        "    if self.marks < 33:\n",
        "      return '{} is Fail.'.format(self.name)\n",
        "    else:\n",
        "      return '{} is passed.'.format(self.name)"
      ],
      "metadata": {
        "id": "eIhxGIXhgXbl"
      },
      "execution_count": null,
      "outputs": []
    },
    {
      "cell_type": "code",
      "source": [
        "obj = Student()\n",
        "obj.marks = 40\n",
        "obj.result()"
      ],
      "metadata": {
        "colab": {
          "base_uri": "https://localhost:8080/",
          "height": 36
        },
        "id": "533RlOJHhqh3",
        "outputId": "0f4ce609-8062-4249-d5ab-6ed6a8592e01"
      },
      "execution_count": null,
      "outputs": [
        {
          "output_type": "execute_result",
          "data": {
            "text/plain": [
              "'Samarth is passed.'"
            ],
            "application/vnd.google.colaboratory.intrinsic+json": {
              "type": "string"
            }
          },
          "metadata": {},
          "execution_count": 14
        }
      ]
    },
    {
      "cell_type": "markdown",
      "source": [
        "**5. Create a BankAccount class with methods for deposit and withdrawal.**"
      ],
      "metadata": {
        "id": "zniv5I2ejHG-"
      }
    },
    {
      "cell_type": "code",
      "source": [
        "class BankAccount:\n",
        "  def __init__(self):\n",
        "    self.pin = int()\n",
        "    self.balance = int()\n",
        "\n",
        "  def deposit(self):\n",
        "    amount = int(input('Enter the amount you want to deposit: '))\n",
        "    self.balance += amount\n",
        "    return f'Amount {amount} deposited successfully. Total Deposit: {self.balance}'\n",
        "\n",
        "  def withdrawal(self):\n",
        "    amount = int(input('Enter the amount you want to withdraw: '))\n",
        "    self.balance -= amount\n",
        "    return f'Amount {amount} withdrawn done successfully. Remaining Balance: {self.balance}'"
      ],
      "metadata": {
        "id": "t3bwyrmAjJKd"
      },
      "execution_count": null,
      "outputs": []
    },
    {
      "cell_type": "code",
      "source": [
        "obj = BankAccount()"
      ],
      "metadata": {
        "id": "tBmWHmkykd3d"
      },
      "execution_count": null,
      "outputs": []
    },
    {
      "cell_type": "code",
      "source": [
        "obj.deposit()"
      ],
      "metadata": {
        "colab": {
          "base_uri": "https://localhost:8080/",
          "height": 54
        },
        "id": "0s70WR0Ukj_v",
        "outputId": "1ce372b0-0fb7-48e0-b603-3fda36f2ea44"
      },
      "execution_count": null,
      "outputs": [
        {
          "name": "stdout",
          "output_type": "stream",
          "text": [
            "Enter the amount you want to deposit: 5000\n"
          ]
        },
        {
          "output_type": "execute_result",
          "data": {
            "text/plain": [
              "'Amount 5000 deposited successfully. Total Deposit: 5000'"
            ],
            "application/vnd.google.colaboratory.intrinsic+json": {
              "type": "string"
            }
          },
          "metadata": {},
          "execution_count": 21
        }
      ]
    },
    {
      "cell_type": "code",
      "source": [
        "obj.withdrawal()"
      ],
      "metadata": {
        "colab": {
          "base_uri": "https://localhost:8080/",
          "height": 54
        },
        "id": "O8XUCkiakrwk",
        "outputId": "74ba4941-11ae-4670-daab-eaeffe97997c"
      },
      "execution_count": null,
      "outputs": [
        {
          "name": "stdout",
          "output_type": "stream",
          "text": [
            "Enter the amount you want to withdraw: 2000\n"
          ]
        },
        {
          "output_type": "execute_result",
          "data": {
            "text/plain": [
              "'Amount 2000 withdrawn done successfully. Remaining Balance: 3000'"
            ],
            "application/vnd.google.colaboratory.intrinsic+json": {
              "type": "string"
            }
          },
          "metadata": {},
          "execution_count": 22
        }
      ]
    },
    {
      "cell_type": "markdown",
      "source": [
        "**6. Implement a Book class with attributes title, author, and publication_year.**"
      ],
      "metadata": {
        "id": "PmCW8MbulZO8"
      }
    },
    {
      "cell_type": "code",
      "source": [
        "class Book:\n",
        "  def __init__(self,title,author,year):\n",
        "    self.title = str(title)\n",
        "    self.author = str(author)\n",
        "    self.publication_year = int(year)\n",
        "\n",
        "    print(f\"\"\"title: {self.title}\n",
        "author: {self.author}\n",
        "publication_year: {self.publication_year}\n",
        "          \"\"\")\n"
      ],
      "metadata": {
        "id": "_8H4HlGBlefU"
      },
      "execution_count": null,
      "outputs": []
    },
    {
      "cell_type": "code",
      "source": [
        "obj = Book('Half Girlfriend', 'Chetan Bhagat', 2011)"
      ],
      "metadata": {
        "colab": {
          "base_uri": "https://localhost:8080/"
        },
        "id": "sxU6x3EJmz38",
        "outputId": "b127647b-c837-4145-d095-d5c242177583"
      },
      "execution_count": null,
      "outputs": [
        {
          "output_type": "stream",
          "name": "stdout",
          "text": [
            "title: Half Girlfriend\n",
            "author: Chetan Bhagat\n",
            "publication_year: 2011\n",
            "          \n"
          ]
        }
      ]
    },
    {
      "cell_type": "markdown",
      "source": [
        "**7. Create a class for a basic Calculator with methods for addition, subtraction, multiplication, and division.**"
      ],
      "metadata": {
        "id": "vN0JIN1wSRKV"
      }
    },
    {
      "cell_type": "code",
      "source": [
        "class Calculator:\n",
        "  def __init__(self,x,y):\n",
        "    self.x = int(x)\n",
        "    self.y = int(y)\n",
        "\n",
        "  def addition(self):\n",
        "    return self.x + self.y\n",
        "\n",
        "  def subtraction(self):\n",
        "    return self.x - self.y\n",
        "\n",
        "  def multiplication(self):\n",
        "    return self.x * self.y\n",
        "\n",
        "  def division(self):\n",
        "    return self.x / self.y\n"
      ],
      "metadata": {
        "id": "DLj8mn5OSTdN"
      },
      "execution_count": null,
      "outputs": []
    },
    {
      "cell_type": "code",
      "source": [
        "obj = Calculator(4,5)"
      ],
      "metadata": {
        "id": "HxkQG0k9TH99"
      },
      "execution_count": null,
      "outputs": []
    },
    {
      "cell_type": "code",
      "source": [
        "obj.addition()"
      ],
      "metadata": {
        "id": "zGVie76ETP_t",
        "outputId": "e772b501-d922-458b-b0cd-7f1ec5da40ec",
        "colab": {
          "base_uri": "https://localhost:8080/"
        }
      },
      "execution_count": null,
      "outputs": [
        {
          "output_type": "execute_result",
          "data": {
            "text/plain": [
              "9"
            ]
          },
          "metadata": {},
          "execution_count": 10
        }
      ]
    },
    {
      "cell_type": "code",
      "source": [
        "obj.subtraction()"
      ],
      "metadata": {
        "id": "3_0W1WGCT2WF",
        "outputId": "d0d90731-f40d-4408-b51c-10378e61f859",
        "colab": {
          "base_uri": "https://localhost:8080/"
        }
      },
      "execution_count": null,
      "outputs": [
        {
          "output_type": "execute_result",
          "data": {
            "text/plain": [
              "-1"
            ]
          },
          "metadata": {},
          "execution_count": 11
        }
      ]
    },
    {
      "cell_type": "code",
      "source": [
        "obj.multiplication()"
      ],
      "metadata": {
        "id": "ZUMcqRihT5kH",
        "outputId": "29ddef64-42a9-45b0-f9b7-9d3c78b6d03a",
        "colab": {
          "base_uri": "https://localhost:8080/"
        }
      },
      "execution_count": null,
      "outputs": [
        {
          "output_type": "execute_result",
          "data": {
            "text/plain": [
              "20"
            ]
          },
          "metadata": {},
          "execution_count": 12
        }
      ]
    },
    {
      "cell_type": "code",
      "source": [
        "obj.division()"
      ],
      "metadata": {
        "id": "03s1Ge0dT9mM",
        "outputId": "f9919a9e-b76e-4c9f-f684-5b9e46589b58",
        "colab": {
          "base_uri": "https://localhost:8080/"
        }
      },
      "execution_count": null,
      "outputs": [
        {
          "output_type": "execute_result",
          "data": {
            "text/plain": [
              "0.8"
            ]
          },
          "metadata": {},
          "execution_count": 13
        }
      ]
    },
    {
      "cell_type": "markdown",
      "source": [
        "**8. Implement a Fraction class with methods for addition, subtraction, multiplication, and division of fractions.**"
      ],
      "metadata": {
        "id": "aBzyrXbMUCrE"
      }
    },
    {
      "cell_type": "code",
      "source": [
        "from __future__ import division\n",
        "class Fraction:\n",
        "  def __init__(self,num,den):\n",
        "    self.num = int(num)\n",
        "    self.den = int(den)\n",
        "\n",
        "  def __str__(self):\n",
        "    return '{}/{}'.format(self.num,self.den)\n",
        "\n",
        "  def __add__(self, other):\n",
        "    sum = (self.num * other.den + other.num * self.den) / (self.den * other.den)\n",
        "    return sum\n",
        "\n",
        "  def __sub__(self, other):\n",
        "    sub = (self.num * other.den - other.num * self.den) / (self.den * other.den)\n",
        "    return sub\n",
        "\n",
        "  def __mul__(self, other):\n",
        "    multiplication = (self.num * other.num) / (self.den * other.den)\n",
        "    return multiplication\n",
        "\n",
        "  def __truediv__(self, other):\n",
        "    division = (self.num * other.den) / (self.den * other.num)\n",
        "    return division\n",
        "\n",
        "\n"
      ],
      "metadata": {
        "id": "DP275qA9UHf0"
      },
      "execution_count": null,
      "outputs": []
    },
    {
      "cell_type": "code",
      "source": [
        "obj1 = Fraction(3,4)"
      ],
      "metadata": {
        "id": "Q3cuIR3tUb00"
      },
      "execution_count": null,
      "outputs": []
    },
    {
      "cell_type": "code",
      "source": [
        "obj2 = Fraction(2,3)"
      ],
      "metadata": {
        "id": "CC3UR4ExVlI0"
      },
      "execution_count": null,
      "outputs": []
    },
    {
      "cell_type": "code",
      "source": [
        "print(obj1 + obj2)"
      ],
      "metadata": {
        "id": "mvg76iPZVnyk",
        "outputId": "019bd40a-b9fa-4a52-f9cc-0222164477c6",
        "colab": {
          "base_uri": "https://localhost:8080/"
        }
      },
      "execution_count": null,
      "outputs": [
        {
          "output_type": "stream",
          "name": "stdout",
          "text": [
            "1.4166666666666667\n"
          ]
        }
      ]
    },
    {
      "cell_type": "code",
      "source": [
        "print(obj1)"
      ],
      "metadata": {
        "id": "zeW70A6CV1vz",
        "outputId": "cadbdfa2-dd9c-4709-ebdd-b78824d80448",
        "colab": {
          "base_uri": "https://localhost:8080/"
        }
      },
      "execution_count": null,
      "outputs": [
        {
          "output_type": "stream",
          "name": "stdout",
          "text": [
            "3/4\n"
          ]
        }
      ]
    },
    {
      "cell_type": "code",
      "source": [
        "print(obj1 - obj2)"
      ],
      "metadata": {
        "id": "fhaYsKarV5gz",
        "outputId": "514776da-05c0-4780-c9d7-c738d4c1f5f9",
        "colab": {
          "base_uri": "https://localhost:8080/"
        }
      },
      "execution_count": null,
      "outputs": [
        {
          "output_type": "stream",
          "name": "stdout",
          "text": [
            "0.08333333333333333\n"
          ]
        }
      ]
    },
    {
      "cell_type": "code",
      "source": [
        "print(obj1 * obj2)"
      ],
      "metadata": {
        "id": "PC_JjN1BXHU7",
        "outputId": "3724b743-e00a-4668-e082-2f22b50957ab",
        "colab": {
          "base_uri": "https://localhost:8080/"
        }
      },
      "execution_count": null,
      "outputs": [
        {
          "output_type": "stream",
          "name": "stdout",
          "text": [
            "0.5\n"
          ]
        }
      ]
    },
    {
      "cell_type": "code",
      "source": [
        "print(obj1 / obj2)"
      ],
      "metadata": {
        "id": "xjv9ovLqXJ6K",
        "outputId": "ba7fa7e5-80bd-4747-c145-3527f3ae3972",
        "colab": {
          "base_uri": "https://localhost:8080/"
        }
      },
      "execution_count": null,
      "outputs": [
        {
          "output_type": "stream",
          "name": "stdout",
          "text": [
            "1.125\n"
          ]
        }
      ]
    },
    {
      "cell_type": "markdown",
      "source": [
        "9. Create a class `Rectangle` with attributes `length` and `width`. Include methods to calculate area and perimeter.\n",
        "10. Implement a `Car` class with attributes `make`, `model`, and `year`. Include a method to display the car details.\n",
        "11. Write a class for a basic `Queue` using a list.\n",
        "12. Create a class for a simple `Employee` with attributes `name`, `employee_id`, and `salary`.\n",
        "13. Implement a `Point` class representing a point in 2D space. Include a method to calculate the distance from the origin.\n",
        "14. Write a class for a `Stack` using a list.\n",
        "15. Create a `Date` class with attributes `day`, `month`, and `year`.\n",
        "16. Implement a `StringManipulator` class with methods for reversing a string and checking if it is a palindrome.\n",
        "17. Write a class for a basic `LinkedList`.\n",
        "18. Create a `DictionaryManager` class with methods to add, remove, and display key-value pairs.\n",
        "19. Implement a class for a basic `Set` with methods for union, intersection, and difference.\n",
        "20. Write a class `Time` to represent time in hours and minutes. Include methods to add and subtract times."
      ],
      "metadata": {
        "id": "QJv8ZBtXX2sE"
      }
    },
    {
      "cell_type": "markdown",
      "source": [
        "**9. Create a class `Rectangle` with attributes `length` and `width`. Include methods to calculate area and perimeter.**"
      ],
      "metadata": {
        "id": "Bhomi3EOX-kD"
      }
    },
    {
      "cell_type": "code",
      "source": [
        "class Rectangle:\n",
        "  def __init__(self, length, width):\n",
        "    self.length = length\n",
        "    self.width = width\n",
        "\n",
        "  def area_and_parimeter(self):\n",
        "    area = self.length * self.width\n",
        "    perimeter = 2*(self.length + self.width)\n",
        "    return f'area: {area} perimeter {perimeter}'"
      ],
      "metadata": {
        "id": "6syOXbenX_tz"
      },
      "execution_count": null,
      "outputs": []
    },
    {
      "cell_type": "code",
      "source": [
        "rectangle = Rectangle(3,5)"
      ],
      "metadata": {
        "id": "wo680bK4LNcz"
      },
      "execution_count": null,
      "outputs": []
    },
    {
      "cell_type": "code",
      "source": [
        "rectangle.area_and_parimeter()"
      ],
      "metadata": {
        "id": "dbufi1QQLXBk",
        "outputId": "176c4cdb-9b7d-46a5-db39-f52cd43229ae",
        "colab": {
          "base_uri": "https://localhost:8080/",
          "height": 36
        }
      },
      "execution_count": null,
      "outputs": [
        {
          "output_type": "execute_result",
          "data": {
            "text/plain": [
              "'area: 15 perimeter 16'"
            ],
            "application/vnd.google.colaboratory.intrinsic+json": {
              "type": "string"
            }
          },
          "metadata": {},
          "execution_count": 14
        }
      ]
    },
    {
      "cell_type": "markdown",
      "source": [
        "**10. Implement a Car class with attributes make, model, and year. Include a method to display the car details.**"
      ],
      "metadata": {
        "id": "4FgzAoT3Lz2k"
      }
    },
    {
      "cell_type": "code",
      "source": [
        "class Car:\n",
        "  def __init__(self, make, model, year):\n",
        "    self.make = make\n",
        "    self.model = model\n",
        "    self.year = year\n",
        "\n",
        "  def car_details(self):\n",
        "    print('Making company of car: ', self.make)\n",
        "    print('Model of the car: ', self.model)\n",
        "    print('Year of the car:', self.year)\n"
      ],
      "metadata": {
        "id": "IA-e8XWFLbAb"
      },
      "execution_count": null,
      "outputs": []
    },
    {
      "cell_type": "code",
      "source": [
        "car_obj = Car('TATA','Nexon EV Max', 2022)"
      ],
      "metadata": {
        "id": "uTJwKDkAMmhr"
      },
      "execution_count": null,
      "outputs": []
    },
    {
      "cell_type": "code",
      "source": [
        "car_obj.car_details()"
      ],
      "metadata": {
        "id": "e667dN7bNAhL",
        "outputId": "d4bc06d7-d762-498c-ab16-bfc77be2ea70",
        "colab": {
          "base_uri": "https://localhost:8080/"
        }
      },
      "execution_count": null,
      "outputs": [
        {
          "output_type": "stream",
          "name": "stdout",
          "text": [
            "Making company of car:  TATA\n",
            "Model of the car:  Nexon EV Max\n",
            "Year of the car: 2022\n"
          ]
        }
      ]
    },
    {
      "cell_type": "markdown",
      "source": [
        "**11. Write a class for a basic Queue using a list.**"
      ],
      "metadata": {
        "id": "xjFgqUpwNZwc"
      }
    },
    {
      "cell_type": "code",
      "source": [
        "class Queue:\n",
        "    def __init__(self):\n",
        "        print('This is Queue Data Structure')\n",
        "        self.l1 = [1, 2, 3, 4, 3, 5, 37, 4]\n",
        "\n",
        "    def add_item(self, item):\n",
        "        self.l1.append(item)\n",
        "        return self.l1\n",
        "\n"
      ],
      "metadata": {
        "id": "XzcLApidNEVk"
      },
      "execution_count": null,
      "outputs": []
    },
    {
      "cell_type": "code",
      "source": [
        "obj = Queue()"
      ],
      "metadata": {
        "id": "3jGYztbJ_i3Z",
        "outputId": "d6cb8c9c-62d1-4540-b00f-00a5a1bf0dcf",
        "colab": {
          "base_uri": "https://localhost:8080/"
        }
      },
      "execution_count": null,
      "outputs": [
        {
          "output_type": "stream",
          "name": "stdout",
          "text": [
            "This is Queue Data Structure\n"
          ]
        }
      ]
    },
    {
      "cell_type": "code",
      "source": [
        "obj.add_item(25)"
      ],
      "metadata": {
        "id": "sU74K8_D_nex",
        "outputId": "07ec3764-1c76-44ef-e776-5e84a50fc528",
        "colab": {
          "base_uri": "https://localhost:8080/"
        }
      },
      "execution_count": null,
      "outputs": [
        {
          "output_type": "execute_result",
          "data": {
            "text/plain": [
              "[1, 2, 3, 4, 3, 5, 37, 4, 25]"
            ]
          },
          "metadata": {},
          "execution_count": 10
        }
      ]
    },
    {
      "cell_type": "markdown",
      "source": [
        "**12. Create a class for a simple Employee with attributes name, employee_id, and salary.**"
      ],
      "metadata": {
        "id": "W4o5pfN0EpT1"
      }
    },
    {
      "cell_type": "code",
      "source": [
        "class Employee:\n",
        "  def __init__(self, name, id, salary):\n",
        "    self.__name = name\n",
        "    self.__emp_id = id\n",
        "    self.__salary = salary\n",
        "\n",
        "  def view_details(self):\n",
        "    print(f\"\"\"Employee name: {self.__name}\n",
        "Employee id: {self.__emp_id}\n",
        "Salary: {self.__salary}\n",
        "          \"\"\")"
      ],
      "metadata": {
        "id": "zlCsBce6E9h-"
      },
      "execution_count": null,
      "outputs": []
    },
    {
      "cell_type": "code",
      "source": [
        "obj = Employee('Samarth', 22, '45000')"
      ],
      "metadata": {
        "id": "0XAhGLpDBNKj"
      },
      "execution_count": null,
      "outputs": []
    },
    {
      "cell_type": "code",
      "source": [
        "obj.view_details()"
      ],
      "metadata": {
        "id": "a1qXUaApBUYt",
        "outputId": "9ad5a290-269f-4a18-85ff-ffd2a6dddbcc",
        "colab": {
          "base_uri": "https://localhost:8080/"
        }
      },
      "execution_count": null,
      "outputs": [
        {
          "output_type": "stream",
          "name": "stdout",
          "text": [
            "Employee name: Samarth\n",
            "Employee id: 22\n",
            "Salary: 45000\n",
            "          \n"
          ]
        }
      ]
    },
    {
      "cell_type": "markdown",
      "source": [
        "**13. Implement a Point class representing a point in 2D space. Include a method to calculate the distance from the origin.**"
      ],
      "metadata": {
        "id": "98ekycFVLg0E"
      }
    },
    {
      "cell_type": "code",
      "source": [
        "import math\n",
        "\n",
        "class Point:\n",
        "    def __init__(self, x, y):\n",
        "        self.x = x\n",
        "        self.y = y\n",
        "\n",
        "    def distance_from_origin(self):\n",
        "        distance = math.sqrt(self.x ** 2 + self.y ** 2)\n",
        "        print(f'Distance from the origin is: {distance}')"
      ],
      "metadata": {
        "id": "pqWEHX_CLlZb"
      },
      "execution_count": null,
      "outputs": []
    },
    {
      "cell_type": "code",
      "source": [
        "obj = Point(3,4)"
      ],
      "metadata": {
        "id": "4vDm_4xPMcDs"
      },
      "execution_count": null,
      "outputs": []
    },
    {
      "cell_type": "code",
      "source": [
        "obj.distance_from_origin()"
      ],
      "metadata": {
        "id": "5QPNSP4zMhsE",
        "outputId": "bb505c96-2a96-4fa9-96dd-2f24088be86c",
        "colab": {
          "base_uri": "https://localhost:8080/"
        }
      },
      "execution_count": null,
      "outputs": [
        {
          "output_type": "stream",
          "name": "stdout",
          "text": [
            "Distance from the origin is: 5.0\n"
          ]
        }
      ]
    },
    {
      "cell_type": "markdown",
      "source": [
        "**14. Write a class for a Stack using a list.**"
      ],
      "metadata": {
        "id": "SHU5azf8Mq1k"
      }
    },
    {
      "cell_type": "code",
      "source": [
        "class Stack:\n",
        "    def __init__(self):\n",
        "        self.items = []\n",
        "\n",
        "    def is_empty(self):\n",
        "        return len(self.items) == 0\n",
        "\n",
        "    def push(self, item):\n",
        "        self.items.append(item)\n",
        "\n",
        "    def pop(self):\n",
        "        if not self.is_empty():\n",
        "            return self.items.pop()\n",
        "        else:\n",
        "            raise IndexError(\"pop from an empty stack\")\n",
        "\n",
        "    def peek(self):\n",
        "        if not self.is_empty():\n",
        "            return self.items[-1]\n",
        "        else:\n",
        "            raise IndexError(\"peek from an empty stack\")\n",
        "\n",
        "    def size(self):\n",
        "        return len(self.items)\n",
        "\n",
        "# Example usage:\n",
        "stack = Stack()\n",
        "\n",
        "print(\"Is the stack empty?\", stack.is_empty())\n",
        "\n",
        "stack.push(1)\n",
        "stack.push(2)\n",
        "stack.push(3)\n",
        "\n",
        "print(\"Stack size:\", stack.size())\n",
        "print(\"Top element:\", stack.peek())\n",
        "\n",
        "popped_item = stack.pop()\n",
        "print(\"Popped item:\", popped_item)\n",
        "\n",
        "print(\"Is the stack empty now?\", stack.is_empty())\n"
      ],
      "metadata": {
        "id": "wocv5c4kQIa1",
        "outputId": "c3f292d2-0bac-47ab-c58d-f10a58d6abc7",
        "colab": {
          "base_uri": "https://localhost:8080/"
        }
      },
      "execution_count": null,
      "outputs": [
        {
          "output_type": "stream",
          "name": "stdout",
          "text": [
            "Is the stack empty? True\n",
            "Stack size: 3\n",
            "Top element: 3\n",
            "Popped item: 3\n",
            "Is the stack empty now? False\n"
          ]
        }
      ]
    },
    {
      "cell_type": "markdown",
      "source": [
        "15. Create a `Date` class with attributes `day`, `month`, and `year`.\n",
        "16. Implement a `StringManipulator` class with methods for reversing a string and checking if it is a palindrome.\n",
        "17. Write a class for a basic `LinkedList`.\n",
        "18. Create a `DictionaryManager` class with methods to add, remove, and display key-value pairs.\n",
        "19. Implement a class for a basic `Set` with methods for union, intersection, and difference.\n",
        "20. Write a class `Time` to represent time in hours and minutes. Include methods to add and subtract times."
      ],
      "metadata": {
        "id": "ELydFOpadGnV"
      }
    },
    {
      "cell_type": "markdown",
      "source": [
        "**15. Create a `Date` class with attributes `day`, `month`, and `year`.**"
      ],
      "metadata": {
        "id": "UvqDgDQ3dIbU"
      }
    },
    {
      "cell_type": "code",
      "source": [
        "class Date:\n",
        "  def __init__(self, day, month, year):\n",
        "    self.day = (day)\n",
        "    self.month = month\n",
        "    self.year = year\n",
        "\n",
        "  def show_date(self):\n",
        "    print(f'The date is: {self.day}/{self.month}/{self.year}')\n"
      ],
      "metadata": {
        "id": "MbS9h0aLdSdV"
      },
      "execution_count": null,
      "outputs": []
    },
    {
      "cell_type": "code",
      "source": [
        "obj = Date(1,1,2024)"
      ],
      "metadata": {
        "id": "PLJDh_ioeZTe"
      },
      "execution_count": null,
      "outputs": []
    },
    {
      "cell_type": "code",
      "source": [
        "obj.show_date()"
      ],
      "metadata": {
        "colab": {
          "base_uri": "https://localhost:8080/"
        },
        "id": "u9EAmLaMhIF3",
        "outputId": "f1320a84-3fcf-4646-9312-67c74c1058d8"
      },
      "execution_count": null,
      "outputs": [
        {
          "output_type": "stream",
          "name": "stdout",
          "text": [
            "The date is: 1/1/2024\n"
          ]
        }
      ]
    },
    {
      "cell_type": "markdown",
      "source": [
        "**16. Implement a StringManipulator class with methods for reversing a string and checking if it is a palindrome.**"
      ],
      "metadata": {
        "id": "UzXL37VgiEBf"
      }
    },
    {
      "cell_type": "code",
      "source": [
        "class StringManipulator:\n",
        "  def __init__(self, newString):\n",
        "    self.__newString = newString\n",
        "\n",
        "  def isPalindrome(self):\n",
        "    if self.__newString == self.__newString[::-1]:\n",
        "      print(f'{self.__newString} is a palindrome.')\n",
        "    else:\n",
        "      print(f'{self.__newString} is not a palindrome.')\n",
        "\n",
        "  def reverseString(self):\n",
        "    return self.__newString[::-1]"
      ],
      "metadata": {
        "id": "H3G5TXj9iHVW"
      },
      "execution_count": null,
      "outputs": []
    },
    {
      "cell_type": "code",
      "source": [
        "obj = StringManipulator('Hello')"
      ],
      "metadata": {
        "id": "UX5shR562Vi3"
      },
      "execution_count": null,
      "outputs": []
    },
    {
      "cell_type": "code",
      "source": [
        "obj.isPalindrome()"
      ],
      "metadata": {
        "colab": {
          "base_uri": "https://localhost:8080/"
        },
        "id": "CnxZjfxR2uVu",
        "outputId": "ed9e7e82-171a-4901-fc4d-63cbda2db90b"
      },
      "execution_count": null,
      "outputs": [
        {
          "output_type": "stream",
          "name": "stdout",
          "text": [
            "Hello is not a palindrome.\n"
          ]
        }
      ]
    },
    {
      "cell_type": "code",
      "source": [
        "obj.reverseString()"
      ],
      "metadata": {
        "colab": {
          "base_uri": "https://localhost:8080/",
          "height": 36
        },
        "id": "XTajGyY-2xgl",
        "outputId": "f4aee405-db12-48de-da1c-d041b353fc5b"
      },
      "execution_count": null,
      "outputs": [
        {
          "output_type": "execute_result",
          "data": {
            "text/plain": [
              "'olleH'"
            ],
            "application/vnd.google.colaboratory.intrinsic+json": {
              "type": "string"
            }
          },
          "metadata": {},
          "execution_count": 5
        }
      ]
    },
    {
      "cell_type": "code",
      "source": [
        "obj1 = StringManipulator('madam')"
      ],
      "metadata": {
        "id": "vdDVeeZ12zh2"
      },
      "execution_count": null,
      "outputs": []
    },
    {
      "cell_type": "code",
      "source": [
        "obj1.isPalindrome()"
      ],
      "metadata": {
        "colab": {
          "base_uri": "https://localhost:8080/"
        },
        "id": "6-rOo1Lv27zW",
        "outputId": "00a3059b-02bc-415b-c0ce-f7cfe13129da"
      },
      "execution_count": null,
      "outputs": [
        {
          "output_type": "stream",
          "name": "stdout",
          "text": [
            "madam is a palindrome.\n"
          ]
        }
      ]
    },
    {
      "cell_type": "markdown",
      "source": [
        "**17. Write a class for a basic LinkedList.**"
      ],
      "metadata": {
        "id": "5I7y8Hq4zXhO"
      }
    },
    {
      "cell_type": "code",
      "source": [
        "class Node:\n",
        "    def __init__(self, data):\n",
        "        self.data = data\n",
        "        self.next = None\n",
        "\n",
        "class LinkedList:\n",
        "    def __init__(self):\n",
        "        self.head = None\n",
        "\n",
        "    def is_empty(self):\n",
        "        return self.head is None\n",
        "\n",
        "    def append(self, data):\n",
        "        new_node = Node(data)\n",
        "        if self.head is None:\n",
        "            self.head = new_node\n",
        "            return\n",
        "        last_node = self.head\n",
        "        while last_node.next:\n",
        "            last_node = last_node.next\n",
        "        last_node.next = new_node\n",
        "\n",
        "    def prepend(self, data):\n",
        "        new_node = Node(data)\n",
        "        new_node.next = self.head\n",
        "        self.head = new_node\n",
        "\n",
        "    def delete_node(self, key):\n",
        "        current_node = self.head\n",
        "        if current_node and current_node.data == key:\n",
        "            self.head = current_node.next\n",
        "            current_node = None\n",
        "            return\n",
        "        prev_node = None\n",
        "        while current_node and current_node.data != key:\n",
        "            prev_node = current_node\n",
        "            current_node = current_node.next\n",
        "        if current_node is None:\n",
        "            return\n",
        "        prev_node.next = current_node.next\n",
        "        current_node = None\n",
        "\n",
        "    def display(self):\n",
        "        current_node = self.head\n",
        "        while current_node:\n",
        "            print(current_node.data, end=\" -> \")\n",
        "            current_node = current_node.next\n",
        "        print(\"None\")\n",
        "\n",
        "# Example usage:\n",
        "linked_list = LinkedList()\n",
        "linked_list.append(1)\n",
        "linked_list.append(2)\n",
        "linked_list.append(3)\n",
        "linked_list.prepend(0)\n",
        "linked_list.display()\n",
        "linked_list.delete_node(2)\n",
        "linked_list.display()\n"
      ],
      "metadata": {
        "colab": {
          "base_uri": "https://localhost:8080/"
        },
        "id": "nkgrG0f6zZwO",
        "outputId": "81e6e7c2-e63f-4b63-e20f-3520c07d3e90"
      },
      "execution_count": null,
      "outputs": [
        {
          "output_type": "stream",
          "name": "stdout",
          "text": [
            "0 -> 1 -> 2 -> 3 -> None\n",
            "0 -> 1 -> 3 -> None\n"
          ]
        }
      ]
    },
    {
      "cell_type": "markdown",
      "source": [
        "**18. Create a DictionaryManager class with methods to add, remove, and display key-value pairs.**"
      ],
      "metadata": {
        "id": "RVQ3IwJoz4rW"
      }
    },
    {
      "cell_type": "code",
      "source": [
        "class DictionaryManager:\n",
        "    def __init__(self):\n",
        "        self.dictionary = {}\n",
        "\n",
        "    def add_pair(self, key, value):\n",
        "        self.dictionary[key] = value\n",
        "        print(f\"Added: {key} - {value}\")\n",
        "\n",
        "    def remove_pair(self, key):\n",
        "        if key in self.dictionary:\n",
        "            del self.dictionary[key]\n",
        "            print(f\"Removed: {key}\")\n",
        "        else:\n",
        "            print(f\"Key '{key}' not found\")\n",
        "\n",
        "    def display_pairs(self):\n",
        "        if not self.dictionary:\n",
        "            print(\"Dictionary is empty\")\n",
        "        else:\n",
        "            print(\"Key-Value Pairs:\")\n",
        "            for key, value in self.dictionary.items():\n",
        "                print(f\"{key}: {value}\")\n"
      ],
      "metadata": {
        "id": "zp4ZNjAJz78W"
      },
      "execution_count": null,
      "outputs": []
    },
    {
      "cell_type": "code",
      "source": [
        "obj1 = DictionaryManager()"
      ],
      "metadata": {
        "id": "QrKrNYqO12sn"
      },
      "execution_count": null,
      "outputs": []
    },
    {
      "cell_type": "code",
      "source": [
        "obj1.add_pair('Collab',56)"
      ],
      "metadata": {
        "id": "wkcbCjKQ2AIm",
        "outputId": "426dac28-a20b-44f8-e0f0-1a679fb81045",
        "colab": {
          "base_uri": "https://localhost:8080/"
        }
      },
      "execution_count": null,
      "outputs": [
        {
          "output_type": "stream",
          "name": "stdout",
          "text": [
            "Added: Collab - 56\n"
          ]
        }
      ]
    },
    {
      "cell_type": "markdown",
      "source": [
        "**19. Implement a class for a basic Set with methods for union, intersection, and difference.**"
      ],
      "metadata": {
        "id": "fGb1ab-COWh1"
      }
    },
    {
      "cell_type": "code",
      "source": [
        "class Sets:\n",
        "    def __init__(self, newSet):\n",
        "        self.__newSet = set(newSet)\n",
        "\n",
        "    def union_of_set(self, other):\n",
        "        new_set = self.__newSet | other.__newSet\n",
        "        print(f'The union of both the sets is {new_set}')\n",
        "\n",
        "    def intersection_of_union(self, other):\n",
        "        new_set = self.__newSet & other.__newSet\n",
        "        print(f'The intersection of both the sets is {new_set}')\n",
        "\n",
        "    def difference_of_union(self, other):\n",
        "        new_set = self.__newSet - other.__newSet\n",
        "        print(f'The difference of given sets is {new_set}')"
      ],
      "metadata": {
        "id": "_TFYIohhObyc"
      },
      "execution_count": 21,
      "outputs": []
    },
    {
      "cell_type": "code",
      "source": [
        "obj1 = Sets((1,2,4,5,3,2,7))"
      ],
      "metadata": {
        "id": "gwXHhniKPyAu"
      },
      "execution_count": 22,
      "outputs": []
    },
    {
      "cell_type": "code",
      "source": [
        "obj2 = Sets((2,3,4,12,3,45,543,1))"
      ],
      "metadata": {
        "id": "FpHPkINEP9P2"
      },
      "execution_count": 23,
      "outputs": []
    },
    {
      "cell_type": "code",
      "source": [
        "obj1.union_of_set(obj2)"
      ],
      "metadata": {
        "id": "Z3-lCxHxQD-2",
        "outputId": "acb2e36c-7c3b-4cf0-e61e-44ee444f5c7b",
        "colab": {
          "base_uri": "https://localhost:8080/"
        }
      },
      "execution_count": 24,
      "outputs": [
        {
          "output_type": "stream",
          "name": "stdout",
          "text": [
            "The union of both the sets is {1, 2, 3, 4, 5, 7, 12, 45, 543}\n"
          ]
        }
      ]
    },
    {
      "cell_type": "code",
      "source": [
        "obj1.difference_of_union(obj2)"
      ],
      "metadata": {
        "id": "WFL-2EXsSQIk",
        "outputId": "d5201e17-146e-430d-d9ac-4093cc167f27",
        "colab": {
          "base_uri": "https://localhost:8080/"
        }
      },
      "execution_count": 25,
      "outputs": [
        {
          "output_type": "stream",
          "name": "stdout",
          "text": [
            "The difference of given sets is {5, 7}\n"
          ]
        }
      ]
    },
    {
      "cell_type": "code",
      "source": [
        "obj1.intersection_of_union(obj2)"
      ],
      "metadata": {
        "id": "RcocW9I7UMtt",
        "outputId": "2d87d07a-0ba9-4151-aa1e-92783b276e54",
        "colab": {
          "base_uri": "https://localhost:8080/"
        }
      },
      "execution_count": 27,
      "outputs": [
        {
          "output_type": "stream",
          "name": "stdout",
          "text": [
            "The intersection of both the sets is {1, 2, 3, 4}\n"
          ]
        }
      ]
    },
    {
      "cell_type": "code",
      "source": [],
      "metadata": {
        "id": "U_FvJtddURnD"
      },
      "execution_count": null,
      "outputs": []
    }
  ]
}