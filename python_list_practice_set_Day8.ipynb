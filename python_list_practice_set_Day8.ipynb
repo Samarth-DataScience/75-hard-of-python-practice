{
  "nbformat": 4,
  "nbformat_minor": 0,
  "metadata": {
    "colab": {
      "provenance": [],
      "authorship_tag": "ABX9TyNJ0TKBvRYw+tDdTbuTLBBZ",
      "include_colab_link": true
    },
    "kernelspec": {
      "name": "python3",
      "display_name": "Python 3"
    },
    "language_info": {
      "name": "python"
    }
  },
  "cells": [
    {
      "cell_type": "markdown",
      "metadata": {
        "id": "view-in-github",
        "colab_type": "text"
      },
      "source": [
        "<a href=\"https://colab.research.google.com/github/Samarth-DataScience/75-hard-of-python-practice/blob/main/python_list_practice_set_Day8.ipynb\" target=\"_parent\"><img src=\"https://colab.research.google.com/assets/colab-badge.svg\" alt=\"Open In Colab\"/></a>"
      ]
    },
    {
      "cell_type": "markdown",
      "source": [
        "Certainly! Here are 30 Python list questions covering a wide range of topics and functions, numbered from 1 to 30:\n",
        "\n",
        "1. Create an empty list named `my_list`.\n",
        "2. Initialize a list `numbers` with integers from 1 to 5.\n",
        "3. Access the third element of the `numbers` list.\n",
        "4. Append the number 6 to the `numbers` list.\n",
        "5. Extend the `numbers` list with another list `[7, 8, 9]`.\n",
        "6. Remove the element with the value 3 from the `numbers` list.\n",
        "7. Check if the value 5 is present in the `numbers` list.\n",
        "8. Find the index of the element with the value 8 in the `numbers` list.\n",
        "9. Count the number of occurrences of 2 in the `numbers` list.\n",
        "10. Reverse the order of elements in the `numbers` list.\n",
        "11. Sort the `numbers` list in ascending order.\n",
        "12. Create a new list `squares` containing the square of each number in the `numbers` list.\n",
        "13. Extract a sublist from `numbers` with elements from index 2 to 4.\n",
        "14. Create a list of lists, `matrix`, representing a 2x2 matrix.\n",
        "15. Flatten the `matrix` into a single list.\n",
        "16. Use list comprehension to create a list of even numbers from 1 to 10.\n",
        "17. Zip two lists, `names` and `ages`, into a list of tuples.\n",
        "18. Unpack the tuples from the previous question into separate lists.\n",
        "19. Copy the `numbers` list to a new list named `numbers_copy`.\n",
        "20. Clear all elements from the `numbers_copy` list.\n",
        "21. Check if two lists, `list1` and `list2`, are equal.\n",
        "22. Create a list of the first five letters of the alphabet.\n",
        "23. Insert the letter 'X' at index 2 in the alphabet list.\n",
        "24. Remove the last element from the alphabet list.\n",
        "25. Use slicing to get the last three elements of the alphabet list.\n",
        "26. Create a list of 10 zeros using a list comprehension.\n",
        "27. Find the maximum and minimum values in the `numbers` list.\n",
        "28. Remove duplicates from a list `duplicates` while preserving the order.\n",
        "29. Combine two lists, `list1` and `list2`, into a single list.\n",
        "30. Create a list of the squares of even numbers from 1 to 10 using a lambda function and `map`."
      ],
      "metadata": {
        "id": "dWPP-PJWwXNL"
      }
    },
    {
      "cell_type": "markdown",
      "source": [
        "**1. Create an empty list named my_list.**"
      ],
      "metadata": {
        "id": "_D1AqCHT52be"
      }
    },
    {
      "cell_type": "code",
      "source": [
        "my_list = []"
      ],
      "metadata": {
        "id": "sCW0jiLB56ER"
      },
      "execution_count": 1,
      "outputs": []
    },
    {
      "cell_type": "markdown",
      "source": [
        "**2. Initialize a list numbers with integers from 1 to 5.**"
      ],
      "metadata": {
        "id": "GpA3JBXi6A0G"
      }
    },
    {
      "cell_type": "code",
      "source": [
        "l1 = [1,2,3,4,5]\n",
        "print(l1)"
      ],
      "metadata": {
        "id": "X0pwCpS56DFu",
        "outputId": "90dc319f-992e-4de8-efe8-a94a9ab87a0b",
        "colab": {
          "base_uri": "https://localhost:8080/"
        }
      },
      "execution_count": 2,
      "outputs": [
        {
          "output_type": "stream",
          "name": "stdout",
          "text": [
            "[1, 2, 3, 4, 5]\n"
          ]
        }
      ]
    },
    {
      "cell_type": "markdown",
      "source": [
        "**3. Access the third element of the numbers list.**"
      ],
      "metadata": {
        "id": "lSmBdmBy8YBs"
      }
    },
    {
      "cell_type": "code",
      "source": [
        "third_element = l1[2]\n",
        "print(third_element)"
      ],
      "metadata": {
        "id": "pxo-4JQ68aWU",
        "outputId": "cd61f373-c262-4f65-8903-74c1b09e2579",
        "colab": {
          "base_uri": "https://localhost:8080/"
        }
      },
      "execution_count": 3,
      "outputs": [
        {
          "output_type": "stream",
          "name": "stdout",
          "text": [
            "3\n"
          ]
        }
      ]
    },
    {
      "cell_type": "markdown",
      "source": [
        "**4. Append the number 6 to the numbers list.**"
      ],
      "metadata": {
        "id": "X1AvMEXJ88O8"
      }
    },
    {
      "cell_type": "code",
      "source": [
        "l1.append(6)\n",
        "print(l1)"
      ],
      "metadata": {
        "id": "YE4Z0M2g8_OB",
        "outputId": "16d95c6d-28ab-412a-fe01-a38a668e0d65",
        "colab": {
          "base_uri": "https://localhost:8080/"
        }
      },
      "execution_count": 4,
      "outputs": [
        {
          "output_type": "stream",
          "name": "stdout",
          "text": [
            "[1, 2, 3, 4, 5, 6]\n"
          ]
        }
      ]
    },
    {
      "cell_type": "markdown",
      "source": [
        "**5. Extend the numbers list with another list [7, 8, 9].**"
      ],
      "metadata": {
        "id": "uegO2bBy9IcU"
      }
    },
    {
      "cell_type": "code",
      "source": [
        "l2 = [7,8,9]\n",
        "l1.extend(l2)\n",
        "print(l1)"
      ],
      "metadata": {
        "id": "1BHoHO0j9Ktc",
        "outputId": "c5bfdfae-e689-45fe-b4d3-bcc8513986f7",
        "colab": {
          "base_uri": "https://localhost:8080/"
        }
      },
      "execution_count": 5,
      "outputs": [
        {
          "output_type": "stream",
          "name": "stdout",
          "text": [
            "[1, 2, 3, 4, 5, 6, 7, 8, 9]\n"
          ]
        }
      ]
    },
    {
      "cell_type": "markdown",
      "source": [
        "**6. Remove the element with the value 3 from the numbers list.**"
      ],
      "metadata": {
        "id": "9DNfSHN99aDM"
      }
    },
    {
      "cell_type": "code",
      "source": [
        "l1.remove(3)\n",
        "print(l1)"
      ],
      "metadata": {
        "id": "r3jo6fd59cXM",
        "outputId": "8d7caa9f-415f-47d7-8e95-41c62a1257a4",
        "colab": {
          "base_uri": "https://localhost:8080/"
        }
      },
      "execution_count": 6,
      "outputs": [
        {
          "output_type": "stream",
          "name": "stdout",
          "text": [
            "[1, 2, 4, 5, 6, 7, 8, 9]\n"
          ]
        }
      ]
    },
    {
      "cell_type": "markdown",
      "source": [
        "**7. Check if the value 5 is present in the numbers list.**"
      ],
      "metadata": {
        "id": "D2Fa2EEh9p9M"
      }
    },
    {
      "cell_type": "code",
      "source": [
        "if 5 in l1:\n",
        "  print('value 5 is available')"
      ],
      "metadata": {
        "id": "m-u9RvtC9sWk",
        "outputId": "5edcf0fc-7372-4a00-cbab-b05e611785e2",
        "colab": {
          "base_uri": "https://localhost:8080/"
        }
      },
      "execution_count": 7,
      "outputs": [
        {
          "output_type": "stream",
          "name": "stdout",
          "text": [
            "value 5 is available\n"
          ]
        }
      ]
    },
    {
      "cell_type": "markdown",
      "source": [
        "**8. Find the index of the element with the value 8 in the numbers list.**"
      ],
      "metadata": {
        "id": "GJGkJFmv96oD"
      }
    },
    {
      "cell_type": "code",
      "source": [
        "index = l1.index(8)\n",
        "print(index)"
      ],
      "metadata": {
        "id": "h2B9AzEU98ct",
        "outputId": "96f7da10-50cd-4996-ef1f-2f185904eb69",
        "colab": {
          "base_uri": "https://localhost:8080/"
        }
      },
      "execution_count": 8,
      "outputs": [
        {
          "output_type": "stream",
          "name": "stdout",
          "text": [
            "6\n"
          ]
        }
      ]
    }
  ]
}