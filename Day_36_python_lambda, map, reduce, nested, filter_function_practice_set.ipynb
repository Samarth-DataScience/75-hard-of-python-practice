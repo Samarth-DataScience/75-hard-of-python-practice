{
  "nbformat": 4,
  "nbformat_minor": 0,
  "metadata": {
    "colab": {
      "provenance": [],
      "authorship_tag": "ABX9TyM3jKUt6baaJQcVVhTt2jCN",
      "include_colab_link": true
    },
    "kernelspec": {
      "name": "python3",
      "display_name": "Python 3"
    },
    "language_info": {
      "name": "python"
    }
  },
  "cells": [
    {
      "cell_type": "markdown",
      "metadata": {
        "id": "view-in-github",
        "colab_type": "text"
      },
      "source": [
        "<a href=\"https://colab.research.google.com/github/Samarth-DataScience/75-hard-of-python-practice/blob/main/Day_36_python_lambda%2C%20map%2C%20reduce%2C%20nested%2C%20filter_function_practice_set.ipynb\" target=\"_parent\"><img src=\"https://colab.research.google.com/assets/colab-badge.svg\" alt=\"Open In Colab\"/></a>"
      ]
    },
    {
      "cell_type": "markdown",
      "source": [
        "**Certainly! Here are 30 questions covering topics like lambda functions, map, filter, reduce, nested functions, and variable scope in Python:**\n",
        "\n",
        "1. Write a lambda function to square a given number.\n",
        "2. Use the map function to double each element in a list.\n",
        "3. Create a list of integers and use the filter function to get only the even numbers.\n",
        "4. Define a lambda function to check if a given number is greater than 10.\n",
        "5. Use the reduce function to find the product of elements in a list.\n",
        "6. Write a nested function that calculates the square of a given number.\n",
        "7. Create a list of strings and use the map function to convert them to uppercase.\n",
        "8. Define a lambda function to calculate the cube of a given number.\n",
        "9. Use the filter function to get only the strings with length greater than 5 from a list of strings.\n",
        "10. Write a lambda function to add two numbers.\n",
        "11. Create a list of numbers and use the reduce function to find the sum.\n",
        "12. Define a function that takes a list of numbers and returns a list of their squares using the map function.\n",
        "13. Write a lambda function to check if a given string is a palindrome.\n",
        "14. Use the filter function to get only the elements divisible by 3 from a list of numbers.\n",
        "15. Define a function that uses a nested lambda function to calculate the square of a given number.\n",
        "16. Create a list of tuples, each containing two numbers, and use the map function to find the sum of each tuple.\n",
        "17. Write a lambda function to find the maximum of two numbers.\n",
        "18. Use the reduce function to find the product of elements in a list, starting from an initial value of 1.\n",
        "19. Define a function that takes a list of strings and returns a list of their lengths using the map function.\n",
        "20. Write a lambda function to check if a given number is prime.\n",
        "21. Use the filter function to get only the elements greater than the average from a list of numbers.\n",
        "22. Define a nested function with a closure that keeps track of the total count of function calls.\n",
        "23. Create a list of strings and use the map function to concatenate \" - Python\" to each string.\n",
        "24. Write a lambda function to calculate the square root of a given number.\n",
        "25. Use the filter function to get only the elements that are strings from a mixed list.\n",
        "26. Define a function that takes a list of numbers and returns a list of their cubes using the map function.\n",
        "27. Write a lambda function to reverse a given string.\n",
        "28. Use the reduce function to find the maximum of a list of numbers.\n",
        "29. Define a function that uses a nested lambda function to calculate the product of two given numbers.\n",
        "30. Create a list of dictionaries, each containing 'name' and 'age', and use the map function to extract only the names.\n",
        "\n",
        "Feel free to use these questions for practice, and if you have any specific doubts or need explanations, feel free to ask!"
      ],
      "metadata": {
        "id": "7E8Jli64kFBs"
      }
    },
    {
      "cell_type": "markdown",
      "source": [
        "**1. Write a lambda function to square a given number.**"
      ],
      "metadata": {
        "id": "h7WM7gcNkGnU"
      }
    },
    {
      "cell_type": "code",
      "source": [
        "square = lambda x: x**2\n",
        "print(square(2))"
      ],
      "metadata": {
        "colab": {
          "base_uri": "https://localhost:8080/"
        },
        "id": "WjHNrpEYlV1z",
        "outputId": "f55880aa-49ac-4853-80b3-8ebc04a37cec"
      },
      "execution_count": null,
      "outputs": [
        {
          "output_type": "stream",
          "name": "stdout",
          "text": [
            "4\n"
          ]
        }
      ]
    },
    {
      "cell_type": "markdown",
      "source": [
        "**2. Use the map function to double each element in a list.**"
      ],
      "metadata": {
        "id": "hrtixwjRllRj"
      }
    },
    {
      "cell_type": "code",
      "source": [
        "list1 = [2,3,4,5,6]\n",
        "output = list(map(lambda x : x+x, list1 ))\n",
        "print(output)"
      ],
      "metadata": {
        "colab": {
          "base_uri": "https://localhost:8080/"
        },
        "id": "62KYRfNLlnrr",
        "outputId": "ef8e5a6c-d44a-4963-8f4b-314e344020d6"
      },
      "execution_count": null,
      "outputs": [
        {
          "output_type": "stream",
          "name": "stdout",
          "text": [
            "[4, 6, 8, 10, 12]\n"
          ]
        }
      ]
    },
    {
      "cell_type": "markdown",
      "source": [
        "**3. Create a list of integers and use the filter function to get only the even numbers.**"
      ],
      "metadata": {
        "id": "WBcUsm8kqbk5"
      }
    },
    {
      "cell_type": "code",
      "source": [
        "my_integer_list = [1, 2, 3, 4, 5, 6, 7, 8, 9, 10, 11, 12, 13, 14, 15, 16, 17, 18, 19, 20]\n",
        "only_even = list(filter(lambda x: (x%2==0), my_integer_list))\n",
        "print(only_even)"
      ],
      "metadata": {
        "colab": {
          "base_uri": "https://localhost:8080/"
        },
        "id": "7FXHy7doqdaK",
        "outputId": "04b1bc1f-c17e-4320-caa0-54538c0dea8c"
      },
      "execution_count": null,
      "outputs": [
        {
          "output_type": "stream",
          "name": "stdout",
          "text": [
            "[2, 4, 6, 8, 10, 12, 14, 16, 18, 20]\n"
          ]
        }
      ]
    },
    {
      "cell_type": "markdown",
      "source": [
        "**4. Define a lambda function to check if a given number is greater than 10.**"
      ],
      "metadata": {
        "id": "CIdk1-XUNFtF"
      }
    },
    {
      "cell_type": "code",
      "source": [
        "def check_num(f, l1):\n",
        "    result = []\n",
        "    for i in l1:\n",
        "        if f(i):\n",
        "            result.append(i)\n",
        "    return result\n",
        "\n",
        "list1 = [14, 37, 8, 44, 23, 5, 12, 31, 19, 49, 2, 16, 28, 41, 7, 46, 35, 9, 27, 3]\n",
        "result_list = check_num(lambda x: x > 10, list1)\n",
        "\n",
        "print(result_list)\n"
      ],
      "metadata": {
        "colab": {
          "base_uri": "https://localhost:8080/"
        },
        "id": "gKnUlhaENH3e",
        "outputId": "498d0076-ced5-49a0-e676-3eca7af0e89d"
      },
      "execution_count": null,
      "outputs": [
        {
          "output_type": "stream",
          "name": "stdout",
          "text": [
            "[14, 37, 44, 23, 12, 31, 19, 49, 16, 28, 41, 46, 35, 27]\n"
          ]
        }
      ]
    },
    {
      "cell_type": "markdown",
      "source": [
        "**5. Use the reduce function to find the product of elements in a list.**"
      ],
      "metadata": {
        "id": "jW57pskkNIiB"
      }
    },
    {
      "cell_type": "code",
      "source": [
        "import functools\n",
        "list1 = [14, 37, 8, 44, 23, 5, 12]\n",
        "product = (functools.reduce(lambda x,y:x*y,list1))\n",
        "print(product)"
      ],
      "metadata": {
        "colab": {
          "base_uri": "https://localhost:8080/"
        },
        "id": "9kI1-4lFNNNN",
        "outputId": "74cb790e-b632-4549-c298-1f9301442b50"
      },
      "execution_count": null,
      "outputs": [
        {
          "output_type": "stream",
          "name": "stdout",
          "text": [
            "251623680\n"
          ]
        }
      ]
    },
    {
      "cell_type": "markdown",
      "source": [
        "**6. Write a nested function that calculates the square of a given number.**"
      ],
      "metadata": {
        "id": "vvz883lmpgN_"
      }
    },
    {
      "cell_type": "code",
      "source": [
        "def calculate(number):\n",
        "  def square_roots():\n",
        "    square_root = number**2\n",
        "    return square_root\n",
        "  return square_roots\n",
        "\n",
        "\n",
        "return_function = calculate(4)\n",
        "print(return_function())"
      ],
      "metadata": {
        "id": "8Dr4ENX3pkS-",
        "outputId": "7646bc99-b2de-4dfd-e899-4ccc87551c8b",
        "colab": {
          "base_uri": "https://localhost:8080/"
        }
      },
      "execution_count": null,
      "outputs": [
        {
          "output_type": "stream",
          "name": "stdout",
          "text": [
            "16\n"
          ]
        }
      ]
    },
    {
      "cell_type": "markdown",
      "source": [
        "**7. Create a list of strings and use the map function to convert them to uppercase.**"
      ],
      "metadata": {
        "id": "UMP4ET3lp8iF"
      }
    },
    {
      "cell_type": "code",
      "source": [
        "list_of_str = ['Avishek','Samarth','Ramesh','Nitesh','Sanju']\n",
        "upper_case = list(map(lambda x:x.upper(),list_of_str))\n",
        "print(upper_case)"
      ],
      "metadata": {
        "id": "MDZhUsaQp-Gk",
        "outputId": "e4df345f-9108-4c94-f801-a9267c68effa",
        "colab": {
          "base_uri": "https://localhost:8080/"
        }
      },
      "execution_count": 3,
      "outputs": [
        {
          "output_type": "stream",
          "name": "stdout",
          "text": [
            "['AVISHEK', 'SAMARTH', 'RAMESH', 'NITESH', 'SANJU']\n"
          ]
        }
      ]
    },
    {
      "cell_type": "markdown",
      "source": [
        "**8. Define a lambda function to calculate the cube of a given number.**"
      ],
      "metadata": {
        "id": "m3VYiO0NqrtO"
      }
    },
    {
      "cell_type": "code",
      "source": [
        "def cube(f):\n",
        "  return f\n",
        "\n",
        "cube_function = cube(lambda x:x**3)\n",
        "print(cube_function(5))\n"
      ],
      "metadata": {
        "id": "PUn9xSZnqtg9",
        "outputId": "8eb75ad2-2dbe-4512-9c1a-0d48e67676da",
        "colab": {
          "base_uri": "https://localhost:8080/"
        }
      },
      "execution_count": 11,
      "outputs": [
        {
          "output_type": "stream",
          "name": "stdout",
          "text": [
            "125\n",
            "<class 'int'>\n"
          ]
        }
      ]
    },
    {
      "cell_type": "markdown",
      "source": [
        "**9. Use the filter function to get only the strings with length greater than 5 from a list of strings.**"
      ],
      "metadata": {
        "id": "fPt1RwM-sAjW"
      }
    },
    {
      "cell_type": "code",
      "source": [
        "list_of_str = ['Avishek','Samarth','Ramesh','Nitesh','Sanju','Kang','Dev']\n",
        "new_list = list(filter(lambda x :len(x) > 5, list_of_str))\n",
        "print(new_list)"
      ],
      "metadata": {
        "id": "COis-r5vsCLm",
        "outputId": "cfcfb3ed-dbf8-4951-a41a-00c69d383f83",
        "colab": {
          "base_uri": "https://localhost:8080/"
        }
      },
      "execution_count": 13,
      "outputs": [
        {
          "output_type": "stream",
          "name": "stdout",
          "text": [
            "['Avishek', 'Samarth', 'Ramesh', 'Nitesh']\n"
          ]
        }
      ]
    },
    {
      "cell_type": "markdown",
      "source": [
        "**10. Write a lambda function to add two numbers.**"
      ],
      "metadata": {
        "id": "0ePyVq4hsvek"
      }
    },
    {
      "cell_type": "code",
      "source": [
        "addition = lambda x, y: x + y\n",
        "add = addition(4, 5)\n",
        "print(f'addition of two numbers are: {add}')"
      ],
      "metadata": {
        "id": "AgkLsk1WsxBz",
        "outputId": "c92cb042-81b2-42cc-8e85-b45c209abb3b",
        "colab": {
          "base_uri": "https://localhost:8080/"
        }
      },
      "execution_count": 16,
      "outputs": [
        {
          "output_type": "stream",
          "name": "stdout",
          "text": [
            "addition of two numbers are: 9\n"
          ]
        }
      ]
    }
  ]
}