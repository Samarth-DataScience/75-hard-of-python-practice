{
  "nbformat": 4,
  "nbformat_minor": 0,
  "metadata": {
    "colab": {
      "provenance": [],
      "authorship_tag": "ABX9TyN+ckXsSYCK+tWSYTnn6pOv",
      "include_colab_link": true
    },
    "kernelspec": {
      "name": "python3",
      "display_name": "Python 3"
    },
    "language_info": {
      "name": "python"
    }
  },
  "cells": [
    {
      "cell_type": "markdown",
      "metadata": {
        "id": "view-in-github",
        "colab_type": "text"
      },
      "source": [
        "<a href=\"https://colab.research.google.com/github/Samarth-DataScience/75-hard-of-python-practice/blob/main/Day_46_python_classes.ipynb\" target=\"_parent\"><img src=\"https://colab.research.google.com/assets/colab-badge.svg\" alt=\"Open In Colab\"/></a>"
      ]
    },
    {
      "cell_type": "markdown",
      "source": [
        "1. Create a class representing a car with attributes like make, model, and year. Implement a method in the class to calculate the age of the car.\n",
        "\n",
        "2. Create a base class 'Shape' with methods to calculate area and perimeter. Derive classes 'Rectangle' and 'Circle' from 'Shape' with their own implementations.\n",
        "\n",
        "3. Design a class representing a bank account with private attributes for balance and account number. Implement methods for deposit and withdrawal.\n",
        "\n",
        "4. Write a function to reverse a list.\n",
        "\n",
        "5. Implement a function to find the second largest element in a list.\n",
        "\n",
        "6. Write a function to check if a given string is a palindrome.\n",
        "\n",
        "7. Create a function to count the occurrences of each character in a string.\n",
        "\n",
        "8. Write a program to concatenate two tuples.\n",
        "\n",
        "9. Implement a function to find the index of an element in a tuple.\n",
        "\n",
        "10. Create a function to find the intersection of two sets.\n",
        "\n",
        "11. Write a program to remove duplicates from a list using sets.\n",
        "\n",
        "12. Write a function to merge two dictionaries.\n",
        "\n",
        "13. Implement a program to find the keys with the maximum value in a dictionary.\n",
        "\n",
        "14. Write a function that takes a list of numbers and returns their sum.\n",
        "\n",
        "15. Implement a function to check if a number is prime.\n",
        "\n",
        "16. Use a lambda function to square each element in a list.\n",
        "\n",
        "17. Write a program to filter even numbers from a list using a lambda function.\n",
        "\n",
        "18. Use the map function to convert a list of temperatures from Celsius to Fahrenheit.\n",
        "\n",
        "19. Write a program to capitalize the first letter of each word in a list of strings using map.\n",
        "\n",
        "20. Implement a program to filter out numbers less than 10 from a list using the filter function.\n",
        "\n",
        "21. Write a function to filter palindromes from a list of strings.\n",
        "\n",
        "22. Use the reduce function to find the product of elements in a list.\n",
        "\n",
        "23. Implement a program to find the maximum element in a list using reduce.\n",
        "\n",
        "24. Write a function to check if a number is a perfect square.\n",
        "\n",
        "25. Create a class representing a book with attributes like title, author, and publication year. Implement a method to display information about the book.\n",
        "\n",
        "26. Design a class representing a geometric shape with methods to calculate area and perimeter. Derive classes for specific shapes like rectangle and circle.\n",
        "\n",
        "27. Write a program to find the common elements between two lists.\n",
        "\n",
        "28. Implement a function to remove vowels from a given string.\n",
        "\n",
        "29. Write a program to sort a list of strings based on the length of each string.\n",
        "\n",
        "30. Create a function to calculate the factorial of a given number."
      ],
      "metadata": {
        "id": "wLFDYiiQpMwn"
      }
    },
    {
      "cell_type": "markdown",
      "source": [
        "**1. Create a class representing a car with attributes like make, model, and year. Implement a method in the class to calculate the age of the car.**"
      ],
      "metadata": {
        "id": "UfgBxILWpWX4"
      }
    },
    {
      "cell_type": "code",
      "execution_count": null,
      "metadata": {
        "id": "xUvqswLl2zr9"
      },
      "outputs": [],
      "source": []
    }
  ]
}